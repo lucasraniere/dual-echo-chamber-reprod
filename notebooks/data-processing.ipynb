{
 "cells": [
  {
   "cell_type": "markdown",
   "id": "f539eb02-2396-4907-a1f4-f71c763261f9",
   "metadata": {},
   "source": [
    "# __Data Processing__"
   ]
  },
  {
   "cell_type": "markdown",
   "id": "1e09fcdf-02eb-40b3-8fc2-2694c9cde1f0",
   "metadata": {},
   "source": [
    "Different from original paper, in our reproduction attemp we will use data collected before the Brazilian presidential ellection in 2022.\n",
    "\n",
    "The two terms used as search query to extract tweets were:\n",
    "\n",
    "    1. #BolsonaroReeleito\n",
    "    2. O LULA TÁ ELEITO\n",
    "    \n",
    "Both terms extracted in the same date, November 22nd, 2022."
   ]
  },
  {
   "cell_type": "code",
   "execution_count": 1,
   "id": "f3681167-a02b-428a-a5ec-e2713b9141d8",
   "metadata": {
    "execution": {
     "iopub.execute_input": "2022-12-07T18:17:35.722539Z",
     "iopub.status.busy": "2022-12-07T18:17:35.722376Z",
     "iopub.status.idle": "2022-12-07T18:17:36.628112Z",
     "shell.execute_reply": "2022-12-07T18:17:36.627679Z",
     "shell.execute_reply.started": "2022-12-07T18:17:35.722525Z"
    },
    "tags": []
   },
   "outputs": [],
   "source": [
    "import pandas as pd\n",
    "import matplotlib.pyplot as plt\n",
    "import networkx as nx"
   ]
  },
  {
   "cell_type": "code",
   "execution_count": 2,
   "id": "7e0a12f6-cabb-47e4-85f5-9aa487b4dc65",
   "metadata": {
    "execution": {
     "iopub.execute_input": "2022-12-07T18:17:36.633132Z",
     "iopub.status.busy": "2022-12-07T18:17:36.632925Z",
     "iopub.status.idle": "2022-12-07T18:17:37.102857Z",
     "shell.execute_reply": "2022-12-07T18:17:37.102450Z",
     "shell.execute_reply.started": "2022-12-07T18:17:36.633108Z"
    },
    "tags": []
   },
   "outputs": [],
   "source": [
    "data_path = '../data/tweets/'\n",
    "\n",
    "bols_df = pd.read_csv(data_path+'2022-11-22-#BolsonaroReeleito.csv')\n",
    "lula_df = pd.read_csv(data_path+'2022-11-22-O LULA TÁ ELEITO.csv')"
   ]
  },
  {
   "cell_type": "code",
   "execution_count": 3,
   "id": "5968cdbc-0f08-4630-af0d-a5830b833d13",
   "metadata": {
    "execution": {
     "iopub.execute_input": "2022-12-07T18:17:38.413519Z",
     "iopub.status.busy": "2022-12-07T18:17:38.413332Z",
     "iopub.status.idle": "2022-12-07T18:17:38.552000Z",
     "shell.execute_reply": "2022-12-07T18:17:38.551459Z",
     "shell.execute_reply.started": "2022-12-07T18:17:38.413506Z"
    },
    "tags": []
   },
   "outputs": [
    {
     "data": {
      "image/png": "[encoded data removed]",
      "text/plain": [
       "<Figure size 500x400 with 1 Axes>"
      ]
     },
     "metadata": {},
     "output_type": "display_data"
    }
   ],
   "source": [
    "fig, ax = plt.subplots(figsize=(5,4))\n",
    "ax.grid(True,\n",
    "        color='grey',\n",
    "        linestyle='-',\n",
    "        linewidth=0.5,\n",
    "        alpha=0.3,)\n",
    "plt.bar(\n",
    "    ['#BolsonaroReeleito', 'O LULA TÁ ELEITO'],\n",
    "    [bols_df.shape[0], lula_df.shape[0]],\n",
    "    width=0.35)\n",
    "for bars in ax.containers:\n",
    "    ax.bar_label(bars)\n",
    "plt.xlabel('Search query terms')\n",
    "plt.ylabel('Amount of tweets')\n",
    "plt.title('Extracted data')\n",
    "plt.show()"
   ]
  },
  {
   "cell_type": "code",
   "execution_count": 4,
   "id": "55ae0a18-7dd2-4915-8f03-6143946241b6",
   "metadata": {
    "execution": {
     "iopub.execute_input": "2022-12-07T18:17:41.685108Z",
     "iopub.status.busy": "2022-12-07T18:17:41.684941Z",
     "iopub.status.idle": "2022-12-07T18:17:41.699419Z",
     "shell.execute_reply": "2022-12-07T18:17:41.698917Z",
     "shell.execute_reply.started": "2022-12-07T18:17:41.685095Z"
    },
    "tags": []
   },
   "outputs": [],
   "source": [
    "bols_df.drop('Unnamed: 0', axis=1, inplace=True)\n",
    "lula_df.drop('Unnamed: 0', axis=1, inplace=True)"
   ]
  },
  {
   "cell_type": "code",
   "execution_count": 5,
   "id": "bbc3c3e9-11ed-4548-a7b5-bd85e0266752",
   "metadata": {
    "execution": {
     "iopub.execute_input": "2022-12-07T18:17:42.317412Z",
     "iopub.status.busy": "2022-12-07T18:17:42.317293Z",
     "iopub.status.idle": "2022-12-07T18:17:42.337242Z",
     "shell.execute_reply": "2022-12-07T18:17:42.336571Z",
     "shell.execute_reply.started": "2022-12-07T18:17:42.317401Z"
    },
    "tags": []
   },
   "outputs": [
    {
     "data": {
      "text/html": [
       "<div>\n",
       "<style scoped>\n",
       "    .dataframe tbody tr th:only-of-type {\n",
       "        vertical-align: middle;\n",
       "    }\n",
       "\n",
       "    .dataframe tbody tr th {\n",
       "        vertical-align: top;\n",
       "    }\n",
       "\n",
       "    .dataframe thead th {\n",
       "        text-align: right;\n",
       "    }\n",
       "</style>\n",
       "<table border=\"1\" class=\"dataframe\">\n",
       "  <thead>\n",
       "    <tr style=\"text-align: right;\">\n",
       "      <th></th>\n",
       "      <th>created_at</th>\n",
       "      <th>tweet_id</th>\n",
       "      <th>tweet_content</th>\n",
       "      <th>user</th>\n",
       "      <th>user_info</th>\n",
       "      <th>has_mention</th>\n",
       "      <th>mentions</th>\n",
       "      <th>is_reply</th>\n",
       "      <th>reply_to</th>\n",
       "      <th>is_quote</th>\n",
       "      <th>quoted_from</th>\n",
       "      <th>is_retweet</th>\n",
       "      <th>retweeted_from</th>\n",
       "      <th>hashtags</th>\n",
       "    </tr>\n",
       "  </thead>\n",
       "  <tbody>\n",
       "    <tr>\n",
       "      <th>4878</th>\n",
       "      <td>2022-11-23 01:37:23</td>\n",
       "      <td>1595229996125233154</td>\n",
       "      <td>#BolsonaroReeleito\\nLULA NA CADEIA https://t.c...</td>\n",
       "      <td>RibeiroCelsinho</td>\n",
       "      <td>{'id': 1510395710134538252, 'name': 'Celsinho ...</td>\n",
       "      <td>False</td>\n",
       "      <td>NaN</td>\n",
       "      <td>False</td>\n",
       "      <td>NaN</td>\n",
       "      <td>False</td>\n",
       "      <td>NaN</td>\n",
       "      <td>True</td>\n",
       "      <td>{'user': 'cpavanini', 'user_id': 1315693973097...</td>\n",
       "      <td>['#BolsonaroReeleito']</td>\n",
       "    </tr>\n",
       "    <tr>\n",
       "      <th>3687</th>\n",
       "      <td>2022-11-23 01:53:04</td>\n",
       "      <td>1595233940289343491</td>\n",
       "      <td>#BolsonaroReeleito\\nDEUS NO COMANDO DE TUDO ht...</td>\n",
       "      <td>AnderTorres5</td>\n",
       "      <td>{'id': 730913142021234688, 'name': 'Ander Torr...</td>\n",
       "      <td>False</td>\n",
       "      <td>NaN</td>\n",
       "      <td>False</td>\n",
       "      <td>NaN</td>\n",
       "      <td>False</td>\n",
       "      <td>NaN</td>\n",
       "      <td>True</td>\n",
       "      <td>{'user': 'gabrielpaulo221', 'user_id': 1206995...</td>\n",
       "      <td>['#BolsonaroReeleito']</td>\n",
       "    </tr>\n",
       "    <tr>\n",
       "      <th>36404</th>\n",
       "      <td>2022-11-22 20:58:30</td>\n",
       "      <td>1595159810248675329</td>\n",
       "      <td>Bolsonaro 51% está Reeleito.\\n#BolsonaroReelei...</td>\n",
       "      <td>diego_berri3</td>\n",
       "      <td>{'id': 1587047308738322433, 'name': 'Diego Ber...</td>\n",
       "      <td>False</td>\n",
       "      <td>NaN</td>\n",
       "      <td>False</td>\n",
       "      <td>NaN</td>\n",
       "      <td>False</td>\n",
       "      <td>NaN</td>\n",
       "      <td>True</td>\n",
       "      <td>{'user': 'Suzano_info', 'user_id': 15057842073...</td>\n",
       "      <td>['#BolsonaroReeleito']</td>\n",
       "    </tr>\n",
       "    <tr>\n",
       "      <th>12076</th>\n",
       "      <td>2022-11-23 00:14:12</td>\n",
       "      <td>1595209063583088640</td>\n",
       "      <td>#BolsonaroReeleito\\nEis o que realmente import...</td>\n",
       "      <td>Mauriciooo1999</td>\n",
       "      <td>{'id': 1321654608066957320, 'name': 'Mauricio ...</td>\n",
       "      <td>False</td>\n",
       "      <td>NaN</td>\n",
       "      <td>False</td>\n",
       "      <td>NaN</td>\n",
       "      <td>False</td>\n",
       "      <td>NaN</td>\n",
       "      <td>True</td>\n",
       "      <td>{'user': 'UdaJuris2022', 'user_id': 1531739142...</td>\n",
       "      <td>['#BolsonaroReeleito']</td>\n",
       "    </tr>\n",
       "    <tr>\n",
       "      <th>32563</th>\n",
       "      <td>2022-11-22 21:37:14</td>\n",
       "      <td>1595169560331751436</td>\n",
       "      <td>Sigam @E_PaKabah ! SDV todos!\\n\\nEsse dia cheg...</td>\n",
       "      <td>Marcelo08444139</td>\n",
       "      <td>{'id': 1493167294108905477, 'name': 'Marcelo L...</td>\n",
       "      <td>True</td>\n",
       "      <td>[{'id': '419803861', 'username': 'E_PaKabah'}]</td>\n",
       "      <td>False</td>\n",
       "      <td>NaN</td>\n",
       "      <td>False</td>\n",
       "      <td>NaN</td>\n",
       "      <td>True</td>\n",
       "      <td>{'user': 'E_PaKabah', 'user_id': 419803861, 't...</td>\n",
       "      <td>['#BolsonaroReeleito']</td>\n",
       "    </tr>\n",
       "  </tbody>\n",
       "</table>\n",
       "</div>"
      ],
      "text/plain": [
       "                created_at             tweet_id  \\\n",
       "4878   2022-11-23 01:37:23  1595229996125233154   \n",
       "3687   2022-11-23 01:53:04  1595233940289343491   \n",
       "36404  2022-11-22 20:58:30  1595159810248675329   \n",
       "12076  2022-11-23 00:14:12  1595209063583088640   \n",
       "32563  2022-11-22 21:37:14  1595169560331751436   \n",
       "\n",
       "                                           tweet_content             user  \\\n",
       "4878   #BolsonaroReeleito\\nLULA NA CADEIA https://t.c...  RibeiroCelsinho   \n",
       "3687   #BolsonaroReeleito\\nDEUS NO COMANDO DE TUDO ht...     AnderTorres5   \n",
       "36404  Bolsonaro 51% está Reeleito.\\n#BolsonaroReelei...     diego_berri3   \n",
       "12076  #BolsonaroReeleito\\nEis o que realmente import...   Mauriciooo1999   \n",
       "32563  Sigam @E_PaKabah ! SDV todos!\\n\\nEsse dia cheg...  Marcelo08444139   \n",
       "\n",
       "                                               user_info  has_mention  \\\n",
       "4878   {'id': 1510395710134538252, 'name': 'Celsinho ...        False   \n",
       "3687   {'id': 730913142021234688, 'name': 'Ander Torr...        False   \n",
       "36404  {'id': 1587047308738322433, 'name': 'Diego Ber...        False   \n",
       "12076  {'id': 1321654608066957320, 'name': 'Mauricio ...        False   \n",
       "32563  {'id': 1493167294108905477, 'name': 'Marcelo L...         True   \n",
       "\n",
       "                                             mentions  is_reply reply_to  \\\n",
       "4878                                              NaN     False      NaN   \n",
       "3687                                              NaN     False      NaN   \n",
       "36404                                             NaN     False      NaN   \n",
       "12076                                             NaN     False      NaN   \n",
       "32563  [{'id': '419803861', 'username': 'E_PaKabah'}]     False      NaN   \n",
       "\n",
       "       is_quote quoted_from  is_retweet  \\\n",
       "4878      False         NaN        True   \n",
       "3687      False         NaN        True   \n",
       "36404     False         NaN        True   \n",
       "12076     False         NaN        True   \n",
       "32563     False         NaN        True   \n",
       "\n",
       "                                          retweeted_from  \\\n",
       "4878   {'user': 'cpavanini', 'user_id': 1315693973097...   \n",
       "3687   {'user': 'gabrielpaulo221', 'user_id': 1206995...   \n",
       "36404  {'user': 'Suzano_info', 'user_id': 15057842073...   \n",
       "12076  {'user': 'UdaJuris2022', 'user_id': 1531739142...   \n",
       "32563  {'user': 'E_PaKabah', 'user_id': 419803861, 't...   \n",
       "\n",
       "                     hashtags  \n",
       "4878   ['#BolsonaroReeleito']  \n",
       "3687   ['#BolsonaroReeleito']  \n",
       "36404  ['#BolsonaroReeleito']  \n",
       "12076  ['#BolsonaroReeleito']  \n",
       "32563  ['#BolsonaroReeleito']  "
      ]
     },
     "execution_count": 5,
     "metadata": {},
     "output_type": "execute_result"
    }
   ],
   "source": [
    "bols_df.sample(5)"
   ]
  },
  {
   "cell_type": "code",
   "execution_count": 6,
   "id": "23d1b1b7-9253-454d-bcf0-7b9ba3d70387",
   "metadata": {
    "execution": {
     "iopub.execute_input": "2022-12-07T18:17:44.486087Z",
     "iopub.status.busy": "2022-12-07T18:17:44.485949Z",
     "iopub.status.idle": "2022-12-07T18:17:44.497739Z",
     "shell.execute_reply": "2022-12-07T18:17:44.496610Z",
     "shell.execute_reply.started": "2022-12-07T18:17:44.486075Z"
    },
    "tags": []
   },
   "outputs": [
    {
     "data": {
      "text/html": [
       "<div>\n",
       "<style scoped>\n",
       "    .dataframe tbody tr th:only-of-type {\n",
       "        vertical-align: middle;\n",
       "    }\n",
       "\n",
       "    .dataframe tbody tr th {\n",
       "        vertical-align: top;\n",
       "    }\n",
       "\n",
       "    .dataframe thead th {\n",
       "        text-align: right;\n",
       "    }\n",
       "</style>\n",
       "<table border=\"1\" class=\"dataframe\">\n",
       "  <thead>\n",
       "    <tr style=\"text-align: right;\">\n",
       "      <th></th>\n",
       "      <th>created_at</th>\n",
       "      <th>tweet_id</th>\n",
       "      <th>tweet_content</th>\n",
       "      <th>user</th>\n",
       "      <th>user_info</th>\n",
       "      <th>has_mention</th>\n",
       "      <th>mentions</th>\n",
       "      <th>is_reply</th>\n",
       "      <th>reply_to</th>\n",
       "      <th>is_quote</th>\n",
       "      <th>quoted_from</th>\n",
       "      <th>is_retweet</th>\n",
       "      <th>retweeted_from</th>\n",
       "      <th>hashtags</th>\n",
       "    </tr>\n",
       "  </thead>\n",
       "  <tbody>\n",
       "    <tr>\n",
       "      <th>7558</th>\n",
       "      <td>2022-11-22 23:07:04</td>\n",
       "      <td>1595192166548209665</td>\n",
       "      <td>Eu ouvi BOLSONARO 51 IMÓVEIS?\\nLula ta Eleito ...</td>\n",
       "      <td>_Moojii_</td>\n",
       "      <td>{'id': 188758902, 'name': '🇦🇹 Moojii✌🏽❤', 'des...</td>\n",
       "      <td>False</td>\n",
       "      <td>NaN</td>\n",
       "      <td>False</td>\n",
       "      <td>NaN</td>\n",
       "      <td>False</td>\n",
       "      <td>NaN</td>\n",
       "      <td>True</td>\n",
       "      <td>{'user': 'Rossano_v_', 'user_id': 91990364, 't...</td>\n",
       "      <td>NaN</td>\n",
       "    </tr>\n",
       "    <tr>\n",
       "      <th>9349</th>\n",
       "      <td>2022-11-22 22:33:47</td>\n",
       "      <td>1595183790233915392</td>\n",
       "      <td>Pacheco diz que vitória de Lula é \"inquestioná...</td>\n",
       "      <td>Cezar33601670</td>\n",
       "      <td>{'id': 1556452941665603587, 'name': 'Esquerda ...</td>\n",
       "      <td>False</td>\n",
       "      <td>NaN</td>\n",
       "      <td>False</td>\n",
       "      <td>NaN</td>\n",
       "      <td>False</td>\n",
       "      <td>NaN</td>\n",
       "      <td>True</td>\n",
       "      <td>{'user': '_Janoninho', 'user_id': 156389790744...</td>\n",
       "      <td>NaN</td>\n",
       "    </tr>\n",
       "    <tr>\n",
       "      <th>5560</th>\n",
       "      <td>2022-11-22 23:48:29</td>\n",
       "      <td>1595202590333177857</td>\n",
       "      <td>BOLSONARO NA CADEIA\\nBOLSONARO 51 IMOVEIS\\nBOL...</td>\n",
       "      <td>carlosrafer</td>\n",
       "      <td>{'id': 474122288, 'name': 'ESTOU COM LULA, PRE...</td>\n",
       "      <td>False</td>\n",
       "      <td>NaN</td>\n",
       "      <td>False</td>\n",
       "      <td>NaN</td>\n",
       "      <td>False</td>\n",
       "      <td>NaN</td>\n",
       "      <td>True</td>\n",
       "      <td>{'user': 'MarcianoBrito13', 'user_id': 2960449...</td>\n",
       "      <td>NaN</td>\n",
       "    </tr>\n",
       "    <tr>\n",
       "      <th>9773</th>\n",
       "      <td>2022-11-22 22:26:46</td>\n",
       "      <td>1595182023093747714</td>\n",
       "      <td>Chora mais, BOLSONARO 51 IMÓVEIS. \\nO LULA TÁ ...</td>\n",
       "      <td>SeuPobreFudido</td>\n",
       "      <td>{'id': 1403142975488724993, 'name': 'João Gabr...</td>\n",
       "      <td>False</td>\n",
       "      <td>NaN</td>\n",
       "      <td>False</td>\n",
       "      <td>NaN</td>\n",
       "      <td>False</td>\n",
       "      <td>NaN</td>\n",
       "      <td>True</td>\n",
       "      <td>{'user': '_Janoninho', 'user_id': 156389790744...</td>\n",
       "      <td>NaN</td>\n",
       "    </tr>\n",
       "    <tr>\n",
       "      <th>2310</th>\n",
       "      <td>2022-11-23 01:12:19</td>\n",
       "      <td>1595223685106962432</td>\n",
       "      <td>BOLSONARO NA CADEIA \\n\\nO LULA TÁ ELEITO\\n\\nXA...</td>\n",
       "      <td>c5498977</td>\n",
       "      <td>{'id': 1586787500810444802, 'name': 'Carmem', ...</td>\n",
       "      <td>False</td>\n",
       "      <td>NaN</td>\n",
       "      <td>False</td>\n",
       "      <td>NaN</td>\n",
       "      <td>True</td>\n",
       "      <td>{'user': '1RosaVermelha', 'user_id': 148397920...</td>\n",
       "      <td>False</td>\n",
       "      <td>NaN</td>\n",
       "      <td>NaN</td>\n",
       "    </tr>\n",
       "  </tbody>\n",
       "</table>\n",
       "</div>"
      ],
      "text/plain": [
       "               created_at             tweet_id  \\\n",
       "7558  2022-11-22 23:07:04  1595192166548209665   \n",
       "9349  2022-11-22 22:33:47  1595183790233915392   \n",
       "5560  2022-11-22 23:48:29  1595202590333177857   \n",
       "9773  2022-11-22 22:26:46  1595182023093747714   \n",
       "2310  2022-11-23 01:12:19  1595223685106962432   \n",
       "\n",
       "                                          tweet_content            user  \\\n",
       "7558  Eu ouvi BOLSONARO 51 IMÓVEIS?\\nLula ta Eleito ...        _Moojii_   \n",
       "9349  Pacheco diz que vitória de Lula é \"inquestioná...   Cezar33601670   \n",
       "5560  BOLSONARO NA CADEIA\\nBOLSONARO 51 IMOVEIS\\nBOL...     carlosrafer   \n",
       "9773  Chora mais, BOLSONARO 51 IMÓVEIS. \\nO LULA TÁ ...  SeuPobreFudido   \n",
       "2310  BOLSONARO NA CADEIA \\n\\nO LULA TÁ ELEITO\\n\\nXA...        c5498977   \n",
       "\n",
       "                                              user_info  has_mention mentions  \\\n",
       "7558  {'id': 188758902, 'name': '🇦🇹 Moojii✌🏽❤', 'des...        False      NaN   \n",
       "9349  {'id': 1556452941665603587, 'name': 'Esquerda ...        False      NaN   \n",
       "5560  {'id': 474122288, 'name': 'ESTOU COM LULA, PRE...        False      NaN   \n",
       "9773  {'id': 1403142975488724993, 'name': 'João Gabr...        False      NaN   \n",
       "2310  {'id': 1586787500810444802, 'name': 'Carmem', ...        False      NaN   \n",
       "\n",
       "      is_reply reply_to  is_quote  \\\n",
       "7558     False      NaN     False   \n",
       "9349     False      NaN     False   \n",
       "5560     False      NaN     False   \n",
       "9773     False      NaN     False   \n",
       "2310     False      NaN      True   \n",
       "\n",
       "                                            quoted_from  is_retweet  \\\n",
       "7558                                                NaN        True   \n",
       "9349                                                NaN        True   \n",
       "5560                                                NaN        True   \n",
       "9773                                                NaN        True   \n",
       "2310  {'user': '1RosaVermelha', 'user_id': 148397920...       False   \n",
       "\n",
       "                                         retweeted_from hashtags  \n",
       "7558  {'user': 'Rossano_v_', 'user_id': 91990364, 't...      NaN  \n",
       "9349  {'user': '_Janoninho', 'user_id': 156389790744...      NaN  \n",
       "5560  {'user': 'MarcianoBrito13', 'user_id': 2960449...      NaN  \n",
       "9773  {'user': '_Janoninho', 'user_id': 156389790744...      NaN  \n",
       "2310                                                NaN      NaN  "
      ]
     },
     "execution_count": 6,
     "metadata": {},
     "output_type": "execute_result"
    }
   ],
   "source": [
    "lula_df.sample(5)"
   ]
  },
  {
   "cell_type": "markdown",
   "id": "5d57fa68-c939-4278-a65a-8d9a17ffc070",
   "metadata": {},
   "source": [
    "### Data Filtering"
   ]
  },
  {
   "cell_type": "markdown",
   "id": "ca75a460-ea01-4c98-93bd-40c5744132ae",
   "metadata": {},
   "source": [
    "The original work uses only native tweets and retweets. Our data contains quoted tweets, that we will exclude."
   ]
  },
  {
   "cell_type": "code",
   "execution_count": 7,
   "id": "f06901b7-86e0-4029-bc85-7c2cb0957b2e",
   "metadata": {
    "execution": {
     "iopub.execute_input": "2022-12-07T18:19:36.119141Z",
     "iopub.status.busy": "2022-12-07T18:19:36.119033Z",
     "iopub.status.idle": "2022-12-07T18:19:36.130320Z",
     "shell.execute_reply": "2022-12-07T18:19:36.129684Z",
     "shell.execute_reply.started": "2022-12-07T18:19:36.119130Z"
    },
    "tags": []
   },
   "outputs": [],
   "source": [
    "old_amount = (bols_df.shape[0], lula_df.shape[0])\n",
    "\n",
    "bols_df = bols_df[bols_df['is_quote']==False]\n",
    "lula_df = lula_df[lula_df['is_quote']==False]\n",
    "\n",
    "plot_df = pd.DataFrame(data={'old_amount': [old_amount[0], old_amount[1]],\n",
    "                             'current_amount': [bols_df.shape[0], lula_df.shape[0]]},\n",
    "                       index=['#BolsonaroReeleito', 'O LULA TÁ ELEITO'])"
   ]
  },
  {
   "cell_type": "code",
   "execution_count": 8,
   "id": "65cce48e-68ea-4dea-af44-810e895164e6",
   "metadata": {
    "execution": {
     "iopub.execute_input": "2022-12-07T18:19:37.957466Z",
     "iopub.status.busy": "2022-12-07T18:19:37.957273Z",
     "iopub.status.idle": "2022-12-07T18:19:37.962404Z",
     "shell.execute_reply": "2022-12-07T18:19:37.961814Z",
     "shell.execute_reply.started": "2022-12-07T18:19:37.957454Z"
    },
    "tags": []
   },
   "outputs": [
    {
     "data": {
      "text/html": [
       "<div>\n",
       "<style scoped>\n",
       "    .dataframe tbody tr th:only-of-type {\n",
       "        vertical-align: middle;\n",
       "    }\n",
       "\n",
       "    .dataframe tbody tr th {\n",
       "        vertical-align: top;\n",
       "    }\n",
       "\n",
       "    .dataframe thead th {\n",
       "        text-align: right;\n",
       "    }\n",
       "</style>\n",
       "<table border=\"1\" class=\"dataframe\">\n",
       "  <thead>\n",
       "    <tr style=\"text-align: right;\">\n",
       "      <th></th>\n",
       "      <th>old_amount</th>\n",
       "      <th>current_amount</th>\n",
       "    </tr>\n",
       "  </thead>\n",
       "  <tbody>\n",
       "    <tr>\n",
       "      <th>#BolsonaroReeleito</th>\n",
       "      <td>37569</td>\n",
       "      <td>36870</td>\n",
       "    </tr>\n",
       "    <tr>\n",
       "      <th>O LULA TÁ ELEITO</th>\n",
       "      <td>13561</td>\n",
       "      <td>12871</td>\n",
       "    </tr>\n",
       "  </tbody>\n",
       "</table>\n",
       "</div>"
      ],
      "text/plain": [
       "                    old_amount  current_amount\n",
       "#BolsonaroReeleito       37569           36870\n",
       "O LULA TÁ ELEITO         13561           12871"
      ]
     },
     "execution_count": 8,
     "metadata": {},
     "output_type": "execute_result"
    }
   ],
   "source": [
    "plot_df"
   ]
  },
  {
   "cell_type": "markdown",
   "id": "673f991e-d419-45d1-86b8-f02d0307b08f",
   "metadata": {},
   "source": [
    "In order to decrease the data sparsity, we consider only users with at least 5 retweets or 3 composed tweets, and tweets with the minimum number of 5 retweets."
   ]
  },
  {
   "cell_type": "code",
   "execution_count": 9,
   "id": "c0f59ab3-fddb-47b8-ab48-96ef26934049",
   "metadata": {
    "execution": {
     "iopub.execute_input": "2022-12-07T18:43:35.551490Z",
     "iopub.status.busy": "2022-12-07T18:43:35.551329Z",
     "iopub.status.idle": "2022-12-07T18:43:35.565861Z",
     "shell.execute_reply": "2022-12-07T18:43:35.565262Z",
     "shell.execute_reply.started": "2022-12-07T18:43:35.551475Z"
    },
    "tags": []
   },
   "outputs": [
    {
     "name": "stdout",
     "output_type": "stream",
     "text": [
      "\n",
      "Bolsonaro data:\n",
      "Retweets: 32253\n",
      "Composed tweets: 4617\n",
      "\n",
      "Lula data:\n",
      "Retweets: 9180\n",
      "Composed tweets: 3691\n",
      "\n"
     ]
    }
   ],
   "source": [
    "# retweets\n",
    "bolso_rts = bols_df.query('is_retweet == True')\n",
    "lula_rts = lula_df.query('is_retweet == True')\n",
    "\n",
    "bolso_comp = bols_df.query('is_retweet == False')\n",
    "lula_comp = lula_df.query('is_retweet == False')\n",
    "\n",
    "print(f'''\n",
    "Bolsonaro data:\n",
    "Retweets: {bolso_rts.shape[0]}\n",
    "Composed tweets: {bolso_comp.shape[0]}\n",
    "\n",
    "Lula data:\n",
    "Retweets: {lula_rts.shape[0]}\n",
    "Composed tweets: {lula_comp.shape[0]}\n",
    "''')"
   ]
  },
  {
   "cell_type": "code",
   "execution_count": 23,
   "id": "373ac524-e508-44cc-974b-06f90b7f9b27",
   "metadata": {
    "execution": {
     "iopub.execute_input": "2022-12-07T19:46:14.416740Z",
     "iopub.status.busy": "2022-12-07T19:46:14.416633Z",
     "iopub.status.idle": "2022-12-07T19:46:14.425336Z",
     "shell.execute_reply": "2022-12-07T19:46:14.424858Z",
     "shell.execute_reply.started": "2022-12-07T19:46:14.416730Z"
    },
    "tags": []
   },
   "outputs": [
    {
     "name": "stdout",
     "output_type": "stream",
     "text": [
      "\n",
      "Number of users with 3 or more composed tweets\n",
      "Bolsonaro data: 278\n",
      "Lula data: 163\n",
      "\n"
     ]
    }
   ],
   "source": [
    "# users with 3 o more composed tweets\n",
    "users_comp = {}\n",
    "\n",
    "users_comp['bolso_data'] = [user for user,tweets_amount in list(zip(bolso_comp['user'].value_counts().index, bolso_comp['user'].value_counts())) if tweets_amount >= 3]\n",
    "users_comp['lula_data'] = [user for user,tweets_amount in list(zip(lula_comp['user'].value_counts().index, lula_comp['user'].value_counts())) if tweets_amount >= 3]\n",
    "\n",
    "print(f'''\n",
    "Number of users with 3 or more composed tweets\n",
    "Bolsonaro data: {len(users_comp['bolso_data'])}\n",
    "Lula data: {len(users_comp['lula_data'])}\n",
    "''')"
   ]
  },
  {
   "cell_type": "code",
   "execution_count": 24,
   "id": "3be1f863-a737-45a5-b351-4b5c944ab216",
   "metadata": {
    "execution": {
     "iopub.execute_input": "2022-12-07T19:46:15.084734Z",
     "iopub.status.busy": "2022-12-07T19:46:15.084625Z",
     "iopub.status.idle": "2022-12-07T19:46:15.104275Z",
     "shell.execute_reply": "2022-12-07T19:46:15.103884Z",
     "shell.execute_reply.started": "2022-12-07T19:46:15.084723Z"
    },
    "tags": []
   },
   "outputs": [
    {
     "name": "stdout",
     "output_type": "stream",
     "text": [
      "\n",
      "Number of users with 5 or more composed retweets\n",
      "Bolsonaro data: 1012\n",
      "Lula data: 331\n",
      "\n"
     ]
    }
   ],
   "source": [
    "# users with 5 or more retweets\n",
    "\n",
    "users_rts = {}\n",
    "\n",
    "users_rts['bolso_data'] = [user for user,rts_amount in list(zip(bolso_rts['user'].value_counts().index, bolso_rts['user'].value_counts())) if rts_amount >= 5]\n",
    "users_rts['lula_data'] = [user for user,rts_amount in list(zip(lula_rts['user'].value_counts().index, lula_rts['user'].value_counts())) if rts_amount >= 5]\n",
    "\n",
    "print(f'''\n",
    "Number of users with 5 or more composed retweets\n",
    "Bolsonaro data: {len(users_rts['bolso_data'])}\n",
    "Lula data: {len(users_rts['lula_data'])}\n",
    "''')"
   ]
  },
  {
   "cell_type": "code",
   "execution_count": 32,
   "id": "4e93d997-b581-4e5e-bdd4-68321719641d",
   "metadata": {
    "execution": {
     "iopub.execute_input": "2022-12-07T19:53:43.536821Z",
     "iopub.status.busy": "2022-12-07T19:53:43.536675Z",
     "iopub.status.idle": "2022-12-07T19:53:43.539847Z",
     "shell.execute_reply": "2022-12-07T19:53:43.539452Z",
     "shell.execute_reply.started": "2022-12-07T19:53:43.536809Z"
    },
    "tags": []
   },
   "outputs": [
    {
     "name": "stdout",
     "output_type": "stream",
     "text": [
      "\n",
      "Not excluded users\n",
      "Bolsonaro data: 1257\n",
      "Lula data: 462\n",
      "\n"
     ]
    }
   ],
   "source": [
    "# not excluded users\n",
    "\n",
    "not_excluded = {}\n",
    "\n",
    "not_excluded['bolso_data'] = list(set(users_comp['bolso_data']+users_rts['bolso_data']))\n",
    "not_excluded['lula_data'] = list(set(users_comp['lula_data']+users_rts['lula_data']))\n",
    "\n",
    "print(f'''\n",
    "Not excluded users\n",
    "Bolsonaro data: {len(not_excluded['bolso_data'])}\n",
    "Lula data: {len(not_excluded['lula_data'])}\n",
    "''')"
   ]
  },
  {
   "cell_type": "code",
   "execution_count": null,
   "id": "1c696b90-042b-4db0-b292-d2f0ca0208b7",
   "metadata": {},
   "outputs": [],
   "source": [
    "# Filtering\n",
    "\n",
    "# bolsonaro's data\n",
    "\n",
    "\n",
    "# lula's data"
   ]
  },
  {
   "cell_type": "code",
   "execution_count": null,
   "id": "56dabd63-9d81-4655-bd71-9742d19caeb2",
   "metadata": {
    "tags": []
   },
   "outputs": [],
   "source": [
    "users = [user for user, tt_amount in zip(bols_df['user'].value_counts().index, bols_df['user'].value_counts()) if ]"
   ]
  },
  {
   "cell_type": "code",
   "execution_count": null,
   "id": "953bc48e-50a6-4083-b58a-4668bc2540ca",
   "metadata": {
    "tags": []
   },
   "outputs": [],
   "source": [
    "zip(bols_df['user'].value_counts().index,bols_df['user'].value_counts())"
   ]
  },
  {
   "cell_type": "markdown",
   "id": "5f87c2f8-769d-4f71-8224-7d8f5934d86b",
   "metadata": {},
   "source": [
    "### Merging Datasets"
   ]
  },
  {
   "cell_type": "code",
   "execution_count": null,
   "id": "842cdc77-3810-4e3b-b7c1-e8d381acb664",
   "metadata": {
    "tags": []
   },
   "outputs": [],
   "source": [
    "complete_df = pd.concat([bols_df, lula_df])\n",
    "complete_df.shape"
   ]
  },
  {
   "cell_type": "code",
   "execution_count": null,
   "id": "2ead13c5-164f-459e-a2e4-5ac0d7c9c335",
   "metadata": {
    "tags": []
   },
   "outputs": [],
   "source": [
    "complete_df.drop_duplicates(inplace=True)\n",
    "complete_df.shape"
   ]
  },
  {
   "cell_type": "code",
   "execution_count": null,
   "id": "d2933c3d-d8b9-4a21-b631-32452195306f",
   "metadata": {},
   "outputs": [],
   "source": []
  }
 ],
 "metadata": {
  "kernelspec": {
   "display_name": "Python 3 (ipykernel)",
   "language": "python",
   "name": "python3"
  },
  "language_info": {
   "codemirror_mode": {
    "name": "ipython",
    "version": 3
   },
   "file_extension": ".py",
   "mimetype": "text/x-python",
   "name": "python",
   "nbconvert_exporter": "python",
   "pygments_lexer": "ipython3",
   "version": "3.10.8"
  }
 },
 "nbformat": 4,
 "nbformat_minor": 5
}
