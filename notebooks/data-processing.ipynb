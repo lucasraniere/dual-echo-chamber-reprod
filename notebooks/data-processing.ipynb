{
 "cells": [
  {
   "cell_type": "markdown",
   "id": "f539eb02-2396-4907-a1f4-f71c763261f9",
   "metadata": {},
   "source": [
    "# __Data Processing__"
   ]
  },
  {
   "cell_type": "markdown",
   "id": "1e09fcdf-02eb-40b3-8fc2-2694c9cde1f0",
   "metadata": {},
   "source": [
    "Different from original paper, in our reproduction attemp we will use data collected before the Brazilian presidential ellection in 2022.\n",
    "\n",
    "The two terms used as search query to extract tweets were:\n",
    "\n",
    "    1. #BolsonaroReeleito\n",
    "    2. O LULA TÁ ELEITO\n",
    "    \n",
    "Both terms extracted in the same date, November 22nd, 2022."
   ]
  },
  {
   "cell_type": "code",
   "execution_count": 1,
   "id": "f3681167-a02b-428a-a5ec-e2713b9141d8",
   "metadata": {
    "execution": {
     "iopub.execute_input": "2022-12-09T17:06:02.462321Z",
     "iopub.status.busy": "2022-12-09T17:06:02.462072Z",
     "iopub.status.idle": "2022-12-09T17:06:03.135820Z",
     "shell.execute_reply": "2022-12-09T17:06:03.135425Z",
     "shell.execute_reply.started": "2022-12-09T17:06:02.462300Z"
    },
    "tags": []
   },
   "outputs": [],
   "source": [
    "import pandas as pd\n",
    "import matplotlib.pyplot as plt\n",
    "import networkx as nx"
   ]
  },
  {
   "cell_type": "code",
   "execution_count": 2,
   "id": "7e0a12f6-cabb-47e4-85f5-9aa487b4dc65",
   "metadata": {
    "execution": {
     "iopub.execute_input": "2022-12-09T17:06:03.136605Z",
     "iopub.status.busy": "2022-12-09T17:06:03.136488Z",
     "iopub.status.idle": "2022-12-09T17:06:03.580978Z",
     "shell.execute_reply": "2022-12-09T17:06:03.580543Z",
     "shell.execute_reply.started": "2022-12-09T17:06:03.136590Z"
    },
    "tags": []
   },
   "outputs": [],
   "source": [
    "data_path = '../data/tweets/'\n",
    "\n",
    "bols_df = pd.read_csv(data_path+'2022-11-22-#BolsonaroReeleito.csv')\n",
    "lula_df = pd.read_csv(data_path+'2022-11-22-O LULA TÁ ELEITO.csv')"
   ]
  },
  {
   "cell_type": "code",
   "execution_count": 3,
   "id": "5968cdbc-0f08-4630-af0d-a5830b833d13",
   "metadata": {
    "execution": {
     "iopub.execute_input": "2022-12-09T17:06:03.581692Z",
     "iopub.status.busy": "2022-12-09T17:06:03.581578Z",
     "iopub.status.idle": "2022-12-09T17:06:03.693176Z",
     "shell.execute_reply": "2022-12-09T17:06:03.692628Z",
     "shell.execute_reply.started": "2022-12-09T17:06:03.581678Z"
    },
    "tags": []
   },
   "outputs": [
    {
     "data": {
      "image/png": "[encoded data removed]",
      "text/plain": [
       "<Figure size 500x400 with 1 Axes>"
      ]
     },
     "metadata": {},
     "output_type": "display_data"
    }
   ],
   "source": [
    "fig, ax = plt.subplots(figsize=(5,4))\n",
    "ax.grid(True,\n",
    "        color='grey',\n",
    "        linestyle='-',\n",
    "        linewidth=0.5,\n",
    "        alpha=0.3,)\n",
    "plt.bar(\n",
    "    ['#BolsonaroReeleito', 'O LULA TÁ ELEITO'],\n",
    "    [bols_df.shape[0], lula_df.shape[0]],\n",
    "    width=0.35)\n",
    "for bars in ax.containers:\n",
    "    ax.bar_label(bars)\n",
    "plt.xlabel('Search query terms')\n",
    "plt.ylabel('Amount of tweets')\n",
    "plt.title('Extracted data')\n",
    "plt.show()"
   ]
  },
  {
   "cell_type": "code",
   "execution_count": 4,
   "id": "55ae0a18-7dd2-4915-8f03-6143946241b6",
   "metadata": {
    "execution": {
     "iopub.execute_input": "2022-12-09T17:06:03.694290Z",
     "iopub.status.busy": "2022-12-09T17:06:03.694116Z",
     "iopub.status.idle": "2022-12-09T17:06:03.704773Z",
     "shell.execute_reply": "2022-12-09T17:06:03.704301Z",
     "shell.execute_reply.started": "2022-12-09T17:06:03.694267Z"
    },
    "tags": []
   },
   "outputs": [],
   "source": [
    "bols_df.drop('Unnamed: 0', axis=1, inplace=True)\n",
    "lula_df.drop('Unnamed: 0', axis=1, inplace=True)"
   ]
  },
  {
   "cell_type": "code",
   "execution_count": 5,
   "id": "bbc3c3e9-11ed-4548-a7b5-bd85e0266752",
   "metadata": {
    "execution": {
     "iopub.execute_input": "2022-12-09T17:06:03.707789Z",
     "iopub.status.busy": "2022-12-09T17:06:03.707213Z",
     "iopub.status.idle": "2022-12-09T17:06:03.721319Z",
     "shell.execute_reply": "2022-12-09T17:06:03.720952Z",
     "shell.execute_reply.started": "2022-12-09T17:06:03.707755Z"
    },
    "tags": []
   },
   "outputs": [
    {
     "data": {
      "text/html": [
       "<div>\n",
       "<style scoped>\n",
       "    .dataframe tbody tr th:only-of-type {\n",
       "        vertical-align: middle;\n",
       "    }\n",
       "\n",
       "    .dataframe tbody tr th {\n",
       "        vertical-align: top;\n",
       "    }\n",
       "\n",
       "    .dataframe thead th {\n",
       "        text-align: right;\n",
       "    }\n",
       "</style>\n",
       "<table border=\"1\" class=\"dataframe\">\n",
       "  <thead>\n",
       "    <tr style=\"text-align: right;\">\n",
       "      <th></th>\n",
       "      <th>created_at</th>\n",
       "      <th>tweet_id</th>\n",
       "      <th>tweet_content</th>\n",
       "      <th>user</th>\n",
       "      <th>user_info</th>\n",
       "      <th>has_mention</th>\n",
       "      <th>mentions</th>\n",
       "      <th>is_reply</th>\n",
       "      <th>reply_to</th>\n",
       "      <th>is_quote</th>\n",
       "      <th>quoted_from</th>\n",
       "      <th>is_retweet</th>\n",
       "      <th>retweeted_from</th>\n",
       "      <th>hashtags</th>\n",
       "    </tr>\n",
       "  </thead>\n",
       "  <tbody>\n",
       "    <tr>\n",
       "      <th>29511</th>\n",
       "      <td>2022-11-22 22:00:57</td>\n",
       "      <td>1595175529023475720</td>\n",
       "      <td>#BolsonaroReeleito\\nMeu presidente!!!! Estamos...</td>\n",
       "      <td>IvairSouza4</td>\n",
       "      <td>{'id': 1025747061076094976, 'name': 'Ivair Sou...</td>\n",
       "      <td>False</td>\n",
       "      <td>NaN</td>\n",
       "      <td>False</td>\n",
       "      <td>NaN</td>\n",
       "      <td>False</td>\n",
       "      <td>NaN</td>\n",
       "      <td>True</td>\n",
       "      <td>{'user': 'goncalves273', 'user_id': 3234219783...</td>\n",
       "      <td>['#BolsonaroReeleito']</td>\n",
       "    </tr>\n",
       "    <tr>\n",
       "      <th>24360</th>\n",
       "      <td>2022-11-22 22:34:13</td>\n",
       "      <td>1595183898719305728</td>\n",
       "      <td>Sigam @E_PaKabah ! SDV todos!\\n\\nEsse dia cheg...</td>\n",
       "      <td>binyfim</td>\n",
       "      <td>{'id': 1242107942, 'name': '🇧🇷Deny🇧🇷', 'descri...</td>\n",
       "      <td>True</td>\n",
       "      <td>[{'id': '419803861', 'username': 'E_PaKabah'}]</td>\n",
       "      <td>False</td>\n",
       "      <td>NaN</td>\n",
       "      <td>False</td>\n",
       "      <td>NaN</td>\n",
       "      <td>True</td>\n",
       "      <td>{'user': 'E_PaKabah', 'user_id': 419803861, 't...</td>\n",
       "      <td>['#BolsonaroReeleito']</td>\n",
       "    </tr>\n",
       "    <tr>\n",
       "      <th>595</th>\n",
       "      <td>2022-11-23 02:43:17</td>\n",
       "      <td>1595246579908284416</td>\n",
       "      <td>É preciso esclarecer, o relatório do PL, basea...</td>\n",
       "      <td>Dantuzum</td>\n",
       "      <td>{'id': 724723418, 'name': 'Dantuzum', 'descrip...</td>\n",
       "      <td>False</td>\n",
       "      <td>NaN</td>\n",
       "      <td>False</td>\n",
       "      <td>NaN</td>\n",
       "      <td>False</td>\n",
       "      <td>NaN</td>\n",
       "      <td>True</td>\n",
       "      <td>{'user': 'MauricioCostaRS', 'user_id': 3286919...</td>\n",
       "      <td>['#BolsonaroReeleito']</td>\n",
       "    </tr>\n",
       "    <tr>\n",
       "      <th>2313</th>\n",
       "      <td>2022-11-23 02:11:59</td>\n",
       "      <td>1595238702392942593</td>\n",
       "      <td>@Estadao @estadaoverifica A BOA e VELHA IMPREN...</td>\n",
       "      <td>antonio_saless</td>\n",
       "      <td>{'id': 2651913488, 'name': 'Matheus Salles', '...</td>\n",
       "      <td>True</td>\n",
       "      <td>[{'id': '9317502', 'username': 'Estadao'}, {'i...</td>\n",
       "      <td>True</td>\n",
       "      <td>{'user': 'Estadao', 'user_id': 9317502, 'tweet...</td>\n",
       "      <td>False</td>\n",
       "      <td>NaN</td>\n",
       "      <td>False</td>\n",
       "      <td>NaN</td>\n",
       "      <td>['#BolsonaroTemRazao', '#BolsonaroReeleito', '...</td>\n",
       "    </tr>\n",
       "    <tr>\n",
       "      <th>34077</th>\n",
       "      <td>2022-11-22 21:22:17</td>\n",
       "      <td>1595165798225825792</td>\n",
       "      <td>Essa eleição foi fraudada. #BolsonaroReeleito ...</td>\n",
       "      <td>maranataoravemJ</td>\n",
       "      <td>{'id': 2491738122, 'name': 'Leila Jesus vem.',...</td>\n",
       "      <td>False</td>\n",
       "      <td>NaN</td>\n",
       "      <td>False</td>\n",
       "      <td>NaN</td>\n",
       "      <td>False</td>\n",
       "      <td>NaN</td>\n",
       "      <td>True</td>\n",
       "      <td>{'user': 'Suzano_info', 'user_id': 15057842073...</td>\n",
       "      <td>['#BolsonaroReeleito']</td>\n",
       "    </tr>\n",
       "  </tbody>\n",
       "</table>\n",
       "</div>"
      ],
      "text/plain": [
       "                created_at             tweet_id  \\\n",
       "29511  2022-11-22 22:00:57  1595175529023475720   \n",
       "24360  2022-11-22 22:34:13  1595183898719305728   \n",
       "595    2022-11-23 02:43:17  1595246579908284416   \n",
       "2313   2022-11-23 02:11:59  1595238702392942593   \n",
       "34077  2022-11-22 21:22:17  1595165798225825792   \n",
       "\n",
       "                                           tweet_content             user  \\\n",
       "29511  #BolsonaroReeleito\\nMeu presidente!!!! Estamos...      IvairSouza4   \n",
       "24360  Sigam @E_PaKabah ! SDV todos!\\n\\nEsse dia cheg...          binyfim   \n",
       "595    É preciso esclarecer, o relatório do PL, basea...         Dantuzum   \n",
       "2313   @Estadao @estadaoverifica A BOA e VELHA IMPREN...   antonio_saless   \n",
       "34077  Essa eleição foi fraudada. #BolsonaroReeleito ...  maranataoravemJ   \n",
       "\n",
       "                                               user_info  has_mention  \\\n",
       "29511  {'id': 1025747061076094976, 'name': 'Ivair Sou...        False   \n",
       "24360  {'id': 1242107942, 'name': '🇧🇷Deny🇧🇷', 'descri...         True   \n",
       "595    {'id': 724723418, 'name': 'Dantuzum', 'descrip...        False   \n",
       "2313   {'id': 2651913488, 'name': 'Matheus Salles', '...         True   \n",
       "34077  {'id': 2491738122, 'name': 'Leila Jesus vem.',...        False   \n",
       "\n",
       "                                                mentions  is_reply  \\\n",
       "29511                                                NaN     False   \n",
       "24360     [{'id': '419803861', 'username': 'E_PaKabah'}]     False   \n",
       "595                                                  NaN     False   \n",
       "2313   [{'id': '9317502', 'username': 'Estadao'}, {'i...      True   \n",
       "34077                                                NaN     False   \n",
       "\n",
       "                                                reply_to  is_quote  \\\n",
       "29511                                                NaN     False   \n",
       "24360                                                NaN     False   \n",
       "595                                                  NaN     False   \n",
       "2313   {'user': 'Estadao', 'user_id': 9317502, 'tweet...     False   \n",
       "34077                                                NaN     False   \n",
       "\n",
       "      quoted_from  is_retweet  \\\n",
       "29511         NaN        True   \n",
       "24360         NaN        True   \n",
       "595           NaN        True   \n",
       "2313          NaN       False   \n",
       "34077         NaN        True   \n",
       "\n",
       "                                          retweeted_from  \\\n",
       "29511  {'user': 'goncalves273', 'user_id': 3234219783...   \n",
       "24360  {'user': 'E_PaKabah', 'user_id': 419803861, 't...   \n",
       "595    {'user': 'MauricioCostaRS', 'user_id': 3286919...   \n",
       "2313                                                 NaN   \n",
       "34077  {'user': 'Suzano_info', 'user_id': 15057842073...   \n",
       "\n",
       "                                                hashtags  \n",
       "29511                             ['#BolsonaroReeleito']  \n",
       "24360                             ['#BolsonaroReeleito']  \n",
       "595                               ['#BolsonaroReeleito']  \n",
       "2313   ['#BolsonaroTemRazao', '#BolsonaroReeleito', '...  \n",
       "34077                             ['#BolsonaroReeleito']  "
      ]
     },
     "execution_count": 5,
     "metadata": {},
     "output_type": "execute_result"
    }
   ],
   "source": [
    "bols_df.sample(5)"
   ]
  },
  {
   "cell_type": "code",
   "execution_count": 6,
   "id": "23d1b1b7-9253-454d-bcf0-7b9ba3d70387",
   "metadata": {
    "execution": {
     "iopub.execute_input": "2022-12-09T17:06:03.722023Z",
     "iopub.status.busy": "2022-12-09T17:06:03.721940Z",
     "iopub.status.idle": "2022-12-09T17:06:03.734182Z",
     "shell.execute_reply": "2022-12-09T17:06:03.733589Z",
     "shell.execute_reply.started": "2022-12-09T17:06:03.722012Z"
    },
    "tags": []
   },
   "outputs": [
    {
     "data": {
      "text/html": [
       "<div>\n",
       "<style scoped>\n",
       "    .dataframe tbody tr th:only-of-type {\n",
       "        vertical-align: middle;\n",
       "    }\n",
       "\n",
       "    .dataframe tbody tr th {\n",
       "        vertical-align: top;\n",
       "    }\n",
       "\n",
       "    .dataframe thead th {\n",
       "        text-align: right;\n",
       "    }\n",
       "</style>\n",
       "<table border=\"1\" class=\"dataframe\">\n",
       "  <thead>\n",
       "    <tr style=\"text-align: right;\">\n",
       "      <th></th>\n",
       "      <th>created_at</th>\n",
       "      <th>tweet_id</th>\n",
       "      <th>tweet_content</th>\n",
       "      <th>user</th>\n",
       "      <th>user_info</th>\n",
       "      <th>has_mention</th>\n",
       "      <th>mentions</th>\n",
       "      <th>is_reply</th>\n",
       "      <th>reply_to</th>\n",
       "      <th>is_quote</th>\n",
       "      <th>quoted_from</th>\n",
       "      <th>is_retweet</th>\n",
       "      <th>retweeted_from</th>\n",
       "      <th>hashtags</th>\n",
       "    </tr>\n",
       "  </thead>\n",
       "  <tbody>\n",
       "    <tr>\n",
       "      <th>9728</th>\n",
       "      <td>2022-11-22 22:27:23</td>\n",
       "      <td>1595182179340128257</td>\n",
       "      <td>@euailze JANONES REPRESENTA O POVO.\\nBOLSONARO...</td>\n",
       "      <td>Dan_SK</td>\n",
       "      <td>{'id': 19292996, 'name': 'Ciclista com PFF2', ...</td>\n",
       "      <td>True</td>\n",
       "      <td>[{'id': '414788942', 'username': 'euailze'}]</td>\n",
       "      <td>True</td>\n",
       "      <td>{'user': 'euailze', 'user_id': 414788942, 'twe...</td>\n",
       "      <td>False</td>\n",
       "      <td>NaN</td>\n",
       "      <td>False</td>\n",
       "      <td>NaN</td>\n",
       "      <td>NaN</td>\n",
       "    </tr>\n",
       "    <tr>\n",
       "      <th>13175</th>\n",
       "      <td>2022-11-22 19:59:13</td>\n",
       "      <td>1595144894376398848</td>\n",
       "      <td>@UOLNoticias O LULA TÁ ELEITO\\nO LULA TÁ ELEIT...</td>\n",
       "      <td>gleyseviana_</td>\n",
       "      <td>{'id': 1376374120942821378, 'name': 'LA DEMOCR...</td>\n",
       "      <td>True</td>\n",
       "      <td>[{'id': '14594698', 'username': 'UOLNoticias'}]</td>\n",
       "      <td>True</td>\n",
       "      <td>{'user': 'UOLNoticias', 'user_id': 14594698, '...</td>\n",
       "      <td>False</td>\n",
       "      <td>NaN</td>\n",
       "      <td>False</td>\n",
       "      <td>NaN</td>\n",
       "      <td>NaN</td>\n",
       "    </tr>\n",
       "    <tr>\n",
       "      <th>336</th>\n",
       "      <td>2022-11-23 02:33:40</td>\n",
       "      <td>1595244158859546625</td>\n",
       "      <td>Chora mais, BOLSONARO 51 IMÓVEIS. \\nO LULA TÁ ...</td>\n",
       "      <td>MarilisMolinari</td>\n",
       "      <td>{'id': 1351294424807051277, 'name': 'Marilís M...</td>\n",
       "      <td>False</td>\n",
       "      <td>NaN</td>\n",
       "      <td>False</td>\n",
       "      <td>NaN</td>\n",
       "      <td>False</td>\n",
       "      <td>NaN</td>\n",
       "      <td>True</td>\n",
       "      <td>{'user': '_Janoninho', 'user_id': 156389790744...</td>\n",
       "      <td>NaN</td>\n",
       "    </tr>\n",
       "    <tr>\n",
       "      <th>10977</th>\n",
       "      <td>2022-11-22 22:05:01</td>\n",
       "      <td>1595176552559702016</td>\n",
       "      <td>@_Janoninho O LULA TÁ ELEITO</td>\n",
       "      <td>_filhadasaguas_</td>\n",
       "      <td>{'id': 3025187523, 'name': 'Carvalhão', 'descr...</td>\n",
       "      <td>True</td>\n",
       "      <td>[{'id': '1563897907446747136', 'username': '_J...</td>\n",
       "      <td>True</td>\n",
       "      <td>{'user': '_Janoninho', 'user_id': 156389790744...</td>\n",
       "      <td>False</td>\n",
       "      <td>NaN</td>\n",
       "      <td>False</td>\n",
       "      <td>NaN</td>\n",
       "      <td>NaN</td>\n",
       "    </tr>\n",
       "    <tr>\n",
       "      <th>612</th>\n",
       "      <td>2022-11-23 02:16:46</td>\n",
       "      <td>1595239908003676160</td>\n",
       "      <td>O LULA TÁ ELEITO! https://t.co/BVOK35vXaK</td>\n",
       "      <td>Patricia_Paes10</td>\n",
       "      <td>{'id': 3007214188, 'name': 'Patrícia', 'descri...</td>\n",
       "      <td>False</td>\n",
       "      <td>NaN</td>\n",
       "      <td>False</td>\n",
       "      <td>NaN</td>\n",
       "      <td>False</td>\n",
       "      <td>NaN</td>\n",
       "      <td>True</td>\n",
       "      <td>{'user': 'nandatorres21', 'user_id': 24684107,...</td>\n",
       "      <td>NaN</td>\n",
       "    </tr>\n",
       "  </tbody>\n",
       "</table>\n",
       "</div>"
      ],
      "text/plain": [
       "                created_at             tweet_id  \\\n",
       "9728   2022-11-22 22:27:23  1595182179340128257   \n",
       "13175  2022-11-22 19:59:13  1595144894376398848   \n",
       "336    2022-11-23 02:33:40  1595244158859546625   \n",
       "10977  2022-11-22 22:05:01  1595176552559702016   \n",
       "612    2022-11-23 02:16:46  1595239908003676160   \n",
       "\n",
       "                                           tweet_content             user  \\\n",
       "9728   @euailze JANONES REPRESENTA O POVO.\\nBOLSONARO...           Dan_SK   \n",
       "13175  @UOLNoticias O LULA TÁ ELEITO\\nO LULA TÁ ELEIT...     gleyseviana_   \n",
       "336    Chora mais, BOLSONARO 51 IMÓVEIS. \\nO LULA TÁ ...  MarilisMolinari   \n",
       "10977                       @_Janoninho O LULA TÁ ELEITO  _filhadasaguas_   \n",
       "612            O LULA TÁ ELEITO! https://t.co/BVOK35vXaK  Patricia_Paes10   \n",
       "\n",
       "                                               user_info  has_mention  \\\n",
       "9728   {'id': 19292996, 'name': 'Ciclista com PFF2', ...         True   \n",
       "13175  {'id': 1376374120942821378, 'name': 'LA DEMOCR...         True   \n",
       "336    {'id': 1351294424807051277, 'name': 'Marilís M...        False   \n",
       "10977  {'id': 3025187523, 'name': 'Carvalhão', 'descr...         True   \n",
       "612    {'id': 3007214188, 'name': 'Patrícia', 'descri...        False   \n",
       "\n",
       "                                                mentions  is_reply  \\\n",
       "9728        [{'id': '414788942', 'username': 'euailze'}]      True   \n",
       "13175    [{'id': '14594698', 'username': 'UOLNoticias'}]      True   \n",
       "336                                                  NaN     False   \n",
       "10977  [{'id': '1563897907446747136', 'username': '_J...      True   \n",
       "612                                                  NaN     False   \n",
       "\n",
       "                                                reply_to  is_quote  \\\n",
       "9728   {'user': 'euailze', 'user_id': 414788942, 'twe...     False   \n",
       "13175  {'user': 'UOLNoticias', 'user_id': 14594698, '...     False   \n",
       "336                                                  NaN     False   \n",
       "10977  {'user': '_Janoninho', 'user_id': 156389790744...     False   \n",
       "612                                                  NaN     False   \n",
       "\n",
       "      quoted_from  is_retweet  \\\n",
       "9728          NaN       False   \n",
       "13175         NaN       False   \n",
       "336           NaN        True   \n",
       "10977         NaN       False   \n",
       "612           NaN        True   \n",
       "\n",
       "                                          retweeted_from hashtags  \n",
       "9728                                                 NaN      NaN  \n",
       "13175                                                NaN      NaN  \n",
       "336    {'user': '_Janoninho', 'user_id': 156389790744...      NaN  \n",
       "10977                                                NaN      NaN  \n",
       "612    {'user': 'nandatorres21', 'user_id': 24684107,...      NaN  "
      ]
     },
     "execution_count": 6,
     "metadata": {},
     "output_type": "execute_result"
    }
   ],
   "source": [
    "lula_df.sample(5)"
   ]
  },
  {
   "cell_type": "markdown",
   "id": "5d57fa68-c939-4278-a65a-8d9a17ffc070",
   "metadata": {},
   "source": [
    "### Data Filtering"
   ]
  },
  {
   "cell_type": "markdown",
   "id": "ca75a460-ea01-4c98-93bd-40c5744132ae",
   "metadata": {},
   "source": [
    "The original work uses only native tweets and retweets. Our data contains quoted tweets, that we will exclude."
   ]
  },
  {
   "cell_type": "code",
   "execution_count": 7,
   "id": "f06901b7-86e0-4029-bc85-7c2cb0957b2e",
   "metadata": {
    "execution": {
     "iopub.execute_input": "2022-12-09T17:06:03.735326Z",
     "iopub.status.busy": "2022-12-09T17:06:03.735170Z",
     "iopub.status.idle": "2022-12-09T17:06:03.749268Z",
     "shell.execute_reply": "2022-12-09T17:06:03.748839Z",
     "shell.execute_reply.started": "2022-12-09T17:06:03.735305Z"
    },
    "tags": []
   },
   "outputs": [],
   "source": [
    "old_amount = (bols_df.shape[0], lula_df.shape[0])\n",
    "\n",
    "bols_df = bols_df[bols_df['is_quote']==False]\n",
    "lula_df = lula_df[lula_df['is_quote']==False]\n",
    "\n",
    "plot_df = pd.DataFrame(data={'old_amount': [old_amount[0], old_amount[1]],\n",
    "                             'current_amount': [bols_df.shape[0], lula_df.shape[0]]},\n",
    "                       index=['#BolsonaroReeleito', 'O LULA TÁ ELEITO'])"
   ]
  },
  {
   "cell_type": "code",
   "execution_count": 8,
   "id": "65cce48e-68ea-4dea-af44-810e895164e6",
   "metadata": {
    "execution": {
     "iopub.execute_input": "2022-12-09T17:06:03.750018Z",
     "iopub.status.busy": "2022-12-09T17:06:03.749862Z",
     "iopub.status.idle": "2022-12-09T17:06:03.757340Z",
     "shell.execute_reply": "2022-12-09T17:06:03.756640Z",
     "shell.execute_reply.started": "2022-12-09T17:06:03.749999Z"
    },
    "tags": []
   },
   "outputs": [
    {
     "data": {
      "text/html": [
       "<div>\n",
       "<style scoped>\n",
       "    .dataframe tbody tr th:only-of-type {\n",
       "        vertical-align: middle;\n",
       "    }\n",
       "\n",
       "    .dataframe tbody tr th {\n",
       "        vertical-align: top;\n",
       "    }\n",
       "\n",
       "    .dataframe thead th {\n",
       "        text-align: right;\n",
       "    }\n",
       "</style>\n",
       "<table border=\"1\" class=\"dataframe\">\n",
       "  <thead>\n",
       "    <tr style=\"text-align: right;\">\n",
       "      <th></th>\n",
       "      <th>old_amount</th>\n",
       "      <th>current_amount</th>\n",
       "    </tr>\n",
       "  </thead>\n",
       "  <tbody>\n",
       "    <tr>\n",
       "      <th>#BolsonaroReeleito</th>\n",
       "      <td>37569</td>\n",
       "      <td>36870</td>\n",
       "    </tr>\n",
       "    <tr>\n",
       "      <th>O LULA TÁ ELEITO</th>\n",
       "      <td>13561</td>\n",
       "      <td>12871</td>\n",
       "    </tr>\n",
       "  </tbody>\n",
       "</table>\n",
       "</div>"
      ],
      "text/plain": [
       "                    old_amount  current_amount\n",
       "#BolsonaroReeleito       37569           36870\n",
       "O LULA TÁ ELEITO         13561           12871"
      ]
     },
     "execution_count": 8,
     "metadata": {},
     "output_type": "execute_result"
    }
   ],
   "source": [
    "plot_df"
   ]
  },
  {
   "cell_type": "markdown",
   "id": "673f991e-d419-45d1-86b8-f02d0307b08f",
   "metadata": {},
   "source": [
    "In order to decrease the data sparsity, we consider only users with at least 5 retweets or 3 composed tweets, and tweets with the minimum number of 5 retweets."
   ]
  },
  {
   "cell_type": "code",
   "execution_count": 9,
   "id": "c0f59ab3-fddb-47b8-ab48-96ef26934049",
   "metadata": {
    "execution": {
     "iopub.execute_input": "2022-12-09T17:06:03.758449Z",
     "iopub.status.busy": "2022-12-09T17:06:03.758021Z",
     "iopub.status.idle": "2022-12-09T17:06:03.775743Z",
     "shell.execute_reply": "2022-12-09T17:06:03.775213Z",
     "shell.execute_reply.started": "2022-12-09T17:06:03.758428Z"
    },
    "tags": []
   },
   "outputs": [
    {
     "name": "stdout",
     "output_type": "stream",
     "text": [
      "\n",
      "Bolsonaro data:\n",
      "Retweets: 32253\n",
      "Composed tweets: 4617\n",
      "\n",
      "Lula data:\n",
      "Retweets: 9180\n",
      "Composed tweets: 3691\n",
      "\n"
     ]
    }
   ],
   "source": [
    "# retweets\n",
    "bolso_rts = bols_df.query('is_retweet == True')\n",
    "lula_rts = lula_df.query('is_retweet == True')\n",
    "\n",
    "bolso_comp = bols_df.query('is_retweet == False')\n",
    "lula_comp = lula_df.query('is_retweet == False')\n",
    "\n",
    "print(f'''\n",
    "Bolsonaro data:\n",
    "Retweets: {bolso_rts.shape[0]}\n",
    "Composed tweets: {bolso_comp.shape[0]}\n",
    "\n",
    "Lula data:\n",
    "Retweets: {lula_rts.shape[0]}\n",
    "Composed tweets: {lula_comp.shape[0]}\n",
    "''')"
   ]
  },
  {
   "cell_type": "code",
   "execution_count": 10,
   "id": "373ac524-e508-44cc-974b-06f90b7f9b27",
   "metadata": {
    "execution": {
     "iopub.execute_input": "2022-12-09T17:06:03.776795Z",
     "iopub.status.busy": "2022-12-09T17:06:03.776657Z",
     "iopub.status.idle": "2022-12-09T17:06:03.787711Z",
     "shell.execute_reply": "2022-12-09T17:06:03.787022Z",
     "shell.execute_reply.started": "2022-12-09T17:06:03.776777Z"
    },
    "tags": []
   },
   "outputs": [
    {
     "name": "stdout",
     "output_type": "stream",
     "text": [
      "\n",
      "Number of users with 3 or more composed tweets\n",
      "Bolsonaro data: 278\n",
      "Lula data: 163\n",
      "\n"
     ]
    }
   ],
   "source": [
    "# users with 3 o more composed tweets\n",
    "users_comp = {}\n",
    "\n",
    "users_comp['bolso_data'] = [user for user,tweets_amount in list(zip(bolso_comp['user'].value_counts().index, bolso_comp['user'].value_counts())) if tweets_amount >= 3]\n",
    "users_comp['lula_data'] = [user for user,tweets_amount in list(zip(lula_comp['user'].value_counts().index, lula_comp['user'].value_counts())) if tweets_amount >= 3]\n",
    "\n",
    "print(f'''\n",
    "Number of users with 3 or more composed tweets\n",
    "Bolsonaro data: {len(users_comp['bolso_data'])}\n",
    "Lula data: {len(users_comp['lula_data'])}\n",
    "''')"
   ]
  },
  {
   "cell_type": "code",
   "execution_count": 11,
   "id": "3be1f863-a737-45a5-b351-4b5c944ab216",
   "metadata": {
    "execution": {
     "iopub.execute_input": "2022-12-09T17:06:03.789063Z",
     "iopub.status.busy": "2022-12-09T17:06:03.788849Z",
     "iopub.status.idle": "2022-12-09T17:06:03.836436Z",
     "shell.execute_reply": "2022-12-09T17:06:03.835949Z",
     "shell.execute_reply.started": "2022-12-09T17:06:03.789035Z"
    },
    "tags": []
   },
   "outputs": [
    {
     "name": "stdout",
     "output_type": "stream",
     "text": [
      "\n",
      "Number of users with 5 or more retweets\n",
      "Bolsonaro data: 1012\n",
      "Lula data: 331\n",
      "\n"
     ]
    }
   ],
   "source": [
    "# users with 5 or more retweets\n",
    "\n",
    "users_rts = {}\n",
    "\n",
    "users_rts['bolso_data'] = [user for user,rts_amount in list(zip(bolso_rts['user'].value_counts().index, bolso_rts['user'].value_counts())) if rts_amount >= 5]\n",
    "users_rts['lula_data'] = [user for user,rts_amount in list(zip(lula_rts['user'].value_counts().index, lula_rts['user'].value_counts())) if rts_amount >= 5]\n",
    "\n",
    "print(f'''\n",
    "Number of users with 5 or more retweets\n",
    "Bolsonaro data: {len(users_rts['bolso_data'])}\n",
    "Lula data: {len(users_rts['lula_data'])}\n",
    "''')"
   ]
  },
  {
   "cell_type": "code",
   "execution_count": 12,
   "id": "4e93d997-b581-4e5e-bdd4-68321719641d",
   "metadata": {
    "execution": {
     "iopub.execute_input": "2022-12-09T17:06:03.837305Z",
     "iopub.status.busy": "2022-12-09T17:06:03.837117Z",
     "iopub.status.idle": "2022-12-09T17:06:03.844835Z",
     "shell.execute_reply": "2022-12-09T17:06:03.843619Z",
     "shell.execute_reply.started": "2022-12-09T17:06:03.837280Z"
    },
    "tags": []
   },
   "outputs": [
    {
     "name": "stdout",
     "output_type": "stream",
     "text": [
      "\n",
      "Not excluded users\n",
      "Bolsonaro data: 1255\n",
      "Lula data: 462\n",
      "\n"
     ]
    }
   ],
   "source": [
    "# not excluded users\n",
    "\n",
    "not_excluded = {}\n",
    "\n",
    "not_excluded['bolso_data'] = list(set(users_comp['bolso_data']+users_rts['bolso_data']))\n",
    "not_excluded['lula_data'] = list(set(users_comp['lula_data']+users_rts['lula_data']))\n",
    "\n",
    "print(f'''\n",
    "Not excluded users\n",
    "Bolsonaro data: {len(not_excluded['bolso_data'])}\n",
    "Lula data: {len(not_excluded['lula_data'])}\n",
    "''')"
   ]
  },
  {
   "cell_type": "code",
   "execution_count": 13,
   "id": "1c696b90-042b-4db0-b292-d2f0ca0208b7",
   "metadata": {
    "execution": {
     "iopub.execute_input": "2022-12-09T17:06:03.846239Z",
     "iopub.status.busy": "2022-12-09T17:06:03.846022Z",
     "iopub.status.idle": "2022-12-09T17:06:04.247879Z",
     "shell.execute_reply": "2022-12-09T17:06:04.247288Z",
     "shell.execute_reply.started": "2022-12-09T17:06:03.846213Z"
    },
    "tags": []
   },
   "outputs": [
    {
     "name": "stdout",
     "output_type": "stream",
     "text": [
      "\n",
      "Remained Tweets after user filtering\n",
      "Bolsonaro data: 16488 tweets\n",
      "Lula data: 6603 tweets\n",
      "\n"
     ]
    }
   ],
   "source": [
    "# Filtering users\n",
    "\n",
    "# bolsonaro's data\n",
    "bols_df['keep_user'] = bols_df['user'].map(lambda x: True if x in not_excluded['bolso_data'] else False)\n",
    "bols_df = bols_df.query('keep_user == True')\n",
    "\n",
    "# lula's data\n",
    "lula_df['keep_user'] = lula_df['user'].map(lambda x: True if x in not_excluded['lula_data'] else False)\n",
    "lula_df = lula_df.query('keep_user == True')\n",
    "\n",
    "print(f'''\n",
    "Remained Tweets after user filtering\n",
    "Bolsonaro data: {bols_df.shape[0]} tweets\n",
    "Lula data: {lula_df.shape[0]} tweets\n",
    "''')"
   ]
  },
  {
   "cell_type": "code",
   "execution_count": 16,
   "id": "069c8fa6-7383-4399-b414-17e3bcacc753",
   "metadata": {
    "execution": {
     "iopub.execute_input": "2022-12-09T17:09:23.780885Z",
     "iopub.status.busy": "2022-12-09T17:09:23.780690Z",
     "iopub.status.idle": "2022-12-09T17:09:24.363772Z",
     "shell.execute_reply": "2022-12-09T17:09:24.363226Z",
     "shell.execute_reply.started": "2022-12-09T17:09:23.780862Z"
    },
    "tags": []
   },
   "outputs": [
    {
     "name": "stdout",
     "output_type": "stream",
     "text": [
      "\n",
      "Tweets with at least 5 retweets\n",
      "Bolsonaro data: 331\n",
      "Lula data: 167\n",
      "\n"
     ]
    }
   ],
   "source": [
    "# tweets with at least 5 retweets\n",
    "\n",
    "retweeted_tts_bolso = [eval(rt)['tweet_id'] for rt in bolso_rts['retweeted_from']]\n",
    "retweeted_tts_lula = [eval(rt)['tweet_id'] for rt in lula_rts['retweeted_from']]\n",
    "\n",
    "tts_5rts_minimum = {\n",
    "    'bolso_data': [tt_id for tt_id, rt_amount in list(zip(pd.Series(retweeted_tts_bolso).value_counts().index, pd.Series(retweeted_tts_bolso).value_counts().values)) if rt_amount>=5],\n",
    "    'lula_data': [tt_id for tt_id, rt_amount in list(zip(pd.Series(retweeted_tts_lula).value_counts().index, pd.Series(retweeted_tts_lula).value_counts().values)) if rt_amount>=5]\n",
    "}\n",
    "\n",
    "print(f'''\n",
    "Tweets with at least 5 retweets\n",
    "Bolsonaro data: {len(tts_5rts_minimum['bolso_data'])}\n",
    "Lula data: {len(tts_5rts_minimum['lula_data'])}\n",
    "''')"
   ]
  },
  {
   "cell_type": "code",
   "execution_count": 30,
   "id": "6cf901f8-923c-4180-860a-24be143e2ed9",
   "metadata": {
    "execution": {
     "iopub.execute_input": "2022-12-09T19:29:43.374635Z",
     "iopub.status.busy": "2022-12-09T19:29:43.374445Z",
     "iopub.status.idle": "2022-12-09T19:29:43.378417Z",
     "shell.execute_reply": "2022-12-09T19:29:43.377820Z",
     "shell.execute_reply.started": "2022-12-09T19:29:43.374614Z"
    },
    "tags": []
   },
   "outputs": [],
   "source": [
    "def define_tweets_keep(df, id_list):\n",
    "    keep_list = []\n",
    "    for idx, row in df.iterrows():\n",
    "        keep = False\n",
    "        if row['is_retweet'] and eval(row['retweeted_from'])['tweet_id'] in id_list:\n",
    "            keep = True\n",
    "        elif not row['is_retweet'] and row['tweet_id'] in id_list:\n",
    "            keep = True\n",
    "        keep_list.append(keep)\n",
    "    return keep_list"
   ]
  },
  {
   "cell_type": "code",
   "execution_count": 31,
   "id": "e32778e2-1a3d-4828-ab36-1f3a1d6f0d37",
   "metadata": {
    "execution": {
     "iopub.execute_input": "2022-12-09T19:29:44.458082Z",
     "iopub.status.busy": "2022-12-09T19:29:44.457958Z",
     "iopub.status.idle": "2022-12-09T19:29:46.404224Z",
     "shell.execute_reply": "2022-12-09T19:29:46.403601Z",
     "shell.execute_reply.started": "2022-12-09T19:29:44.458070Z"
    },
    "tags": []
   },
   "outputs": [
    {
     "ename": "ValueError",
     "evalue": "Length of values (6603) does not match length of index (16488)",
     "output_type": "error",
     "traceback": [
      "\u001b[0;31m---------------------------------------------------------------------------\u001b[0m",
      "\u001b[0;31mValueError\u001b[0m                                Traceback (most recent call last)",
      "Cell \u001b[0;32mIn [31], line 4\u001b[0m\n\u001b[1;32m      1\u001b[0m \u001b[38;5;66;03m# Filtering tweets\u001b[39;00m\n\u001b[1;32m      3\u001b[0m bols_df[\u001b[38;5;124m'\u001b[39m\u001b[38;5;124mkeep_tweet\u001b[39m\u001b[38;5;124m'\u001b[39m] \u001b[38;5;241m=\u001b[39m define_tweets_keep(bols_df, tts_5rts_minimum[\u001b[38;5;124m'\u001b[39m\u001b[38;5;124mbolso_data\u001b[39m\u001b[38;5;124m'\u001b[39m])\n\u001b[0;32m----> 4\u001b[0m bols_df[\u001b[38;5;124m'\u001b[39m\u001b[38;5;124mkeep_tweet\u001b[39m\u001b[38;5;124m'\u001b[39m] \u001b[38;5;241m=\u001b[39m define_tweets_keep(lula_df, tts_5rts_minimum[\u001b[38;5;124m'\u001b[39m\u001b[38;5;124mlula_data\u001b[39m\u001b[38;5;124m'\u001b[39m])\n",
      "File \u001b[0;32m~/miniconda3/envs/dual-echo/lib/python3.10/site-packages/pandas/core/frame.py:3977\u001b[0m, in \u001b[0;36mDataFrame.__setitem__\u001b[0;34m(self, key, value)\u001b[0m\n\u001b[1;32m   3974\u001b[0m     \u001b[38;5;28mself\u001b[39m\u001b[38;5;241m.\u001b[39m_setitem_array([key], value)\n\u001b[1;32m   3975\u001b[0m \u001b[38;5;28;01melse\u001b[39;00m:\n\u001b[1;32m   3976\u001b[0m     \u001b[38;5;66;03m# set column\u001b[39;00m\n\u001b[0;32m-> 3977\u001b[0m     \u001b[38;5;28;43mself\u001b[39;49m\u001b[38;5;241;43m.\u001b[39;49m\u001b[43m_set_item\u001b[49m\u001b[43m(\u001b[49m\u001b[43mkey\u001b[49m\u001b[43m,\u001b[49m\u001b[43m \u001b[49m\u001b[43mvalue\u001b[49m\u001b[43m)\u001b[49m\n",
      "File \u001b[0;32m~/miniconda3/envs/dual-echo/lib/python3.10/site-packages/pandas/core/frame.py:4171\u001b[0m, in \u001b[0;36mDataFrame._set_item\u001b[0;34m(self, key, value)\u001b[0m\n\u001b[1;32m   4161\u001b[0m \u001b[38;5;28;01mdef\u001b[39;00m \u001b[38;5;21m_set_item\u001b[39m(\u001b[38;5;28mself\u001b[39m, key, value) \u001b[38;5;241m-\u001b[39m\u001b[38;5;241m>\u001b[39m \u001b[38;5;28;01mNone\u001b[39;00m:\n\u001b[1;32m   4162\u001b[0m     \u001b[38;5;124;03m\"\"\"\u001b[39;00m\n\u001b[1;32m   4163\u001b[0m \u001b[38;5;124;03m    Add series to DataFrame in specified column.\u001b[39;00m\n\u001b[1;32m   4164\u001b[0m \n\u001b[0;32m   (...)\u001b[0m\n\u001b[1;32m   4169\u001b[0m \u001b[38;5;124;03m    ensure homogeneity.\u001b[39;00m\n\u001b[1;32m   4170\u001b[0m \u001b[38;5;124;03m    \"\"\"\u001b[39;00m\n\u001b[0;32m-> 4171\u001b[0m     value \u001b[38;5;241m=\u001b[39m \u001b[38;5;28;43mself\u001b[39;49m\u001b[38;5;241;43m.\u001b[39;49m\u001b[43m_sanitize_column\u001b[49m\u001b[43m(\u001b[49m\u001b[43mvalue\u001b[49m\u001b[43m)\u001b[49m\n\u001b[1;32m   4173\u001b[0m     \u001b[38;5;28;01mif\u001b[39;00m (\n\u001b[1;32m   4174\u001b[0m         key \u001b[38;5;129;01min\u001b[39;00m \u001b[38;5;28mself\u001b[39m\u001b[38;5;241m.\u001b[39mcolumns\n\u001b[1;32m   4175\u001b[0m         \u001b[38;5;129;01mand\u001b[39;00m value\u001b[38;5;241m.\u001b[39mndim \u001b[38;5;241m==\u001b[39m \u001b[38;5;241m1\u001b[39m\n\u001b[1;32m   4176\u001b[0m         \u001b[38;5;129;01mand\u001b[39;00m \u001b[38;5;129;01mnot\u001b[39;00m is_extension_array_dtype(value)\n\u001b[1;32m   4177\u001b[0m     ):\n\u001b[1;32m   4178\u001b[0m         \u001b[38;5;66;03m# broadcast across multiple columns if necessary\u001b[39;00m\n\u001b[1;32m   4179\u001b[0m         \u001b[38;5;28;01mif\u001b[39;00m \u001b[38;5;129;01mnot\u001b[39;00m \u001b[38;5;28mself\u001b[39m\u001b[38;5;241m.\u001b[39mcolumns\u001b[38;5;241m.\u001b[39mis_unique \u001b[38;5;129;01mor\u001b[39;00m \u001b[38;5;28misinstance\u001b[39m(\u001b[38;5;28mself\u001b[39m\u001b[38;5;241m.\u001b[39mcolumns, MultiIndex):\n",
      "File \u001b[0;32m~/miniconda3/envs/dual-echo/lib/python3.10/site-packages/pandas/core/frame.py:4904\u001b[0m, in \u001b[0;36mDataFrame._sanitize_column\u001b[0;34m(self, value)\u001b[0m\n\u001b[1;32m   4901\u001b[0m     \u001b[38;5;28;01mreturn\u001b[39;00m _reindex_for_setitem(Series(value), \u001b[38;5;28mself\u001b[39m\u001b[38;5;241m.\u001b[39mindex)\n\u001b[1;32m   4903\u001b[0m \u001b[38;5;28;01mif\u001b[39;00m is_list_like(value):\n\u001b[0;32m-> 4904\u001b[0m     \u001b[43mcom\u001b[49m\u001b[38;5;241;43m.\u001b[39;49m\u001b[43mrequire_length_match\u001b[49m\u001b[43m(\u001b[49m\u001b[43mvalue\u001b[49m\u001b[43m,\u001b[49m\u001b[43m \u001b[49m\u001b[38;5;28;43mself\u001b[39;49m\u001b[38;5;241;43m.\u001b[39;49m\u001b[43mindex\u001b[49m\u001b[43m)\u001b[49m\n\u001b[1;32m   4905\u001b[0m \u001b[38;5;28;01mreturn\u001b[39;00m sanitize_array(value, \u001b[38;5;28mself\u001b[39m\u001b[38;5;241m.\u001b[39mindex, copy\u001b[38;5;241m=\u001b[39m\u001b[38;5;28;01mTrue\u001b[39;00m, allow_2d\u001b[38;5;241m=\u001b[39m\u001b[38;5;28;01mTrue\u001b[39;00m)\n",
      "File \u001b[0;32m~/miniconda3/envs/dual-echo/lib/python3.10/site-packages/pandas/core/common.py:561\u001b[0m, in \u001b[0;36mrequire_length_match\u001b[0;34m(data, index)\u001b[0m\n\u001b[1;32m    557\u001b[0m \u001b[38;5;124;03m\"\"\"\u001b[39;00m\n\u001b[1;32m    558\u001b[0m \u001b[38;5;124;03mCheck the length of data matches the length of the index.\u001b[39;00m\n\u001b[1;32m    559\u001b[0m \u001b[38;5;124;03m\"\"\"\u001b[39;00m\n\u001b[1;32m    560\u001b[0m \u001b[38;5;28;01mif\u001b[39;00m \u001b[38;5;28mlen\u001b[39m(data) \u001b[38;5;241m!=\u001b[39m \u001b[38;5;28mlen\u001b[39m(index):\n\u001b[0;32m--> 561\u001b[0m     \u001b[38;5;28;01mraise\u001b[39;00m \u001b[38;5;167;01mValueError\u001b[39;00m(\n\u001b[1;32m    562\u001b[0m         \u001b[38;5;124m\"\u001b[39m\u001b[38;5;124mLength of values \u001b[39m\u001b[38;5;124m\"\u001b[39m\n\u001b[1;32m    563\u001b[0m         \u001b[38;5;124mf\u001b[39m\u001b[38;5;124m\"\u001b[39m\u001b[38;5;124m(\u001b[39m\u001b[38;5;132;01m{\u001b[39;00m\u001b[38;5;28mlen\u001b[39m(data)\u001b[38;5;132;01m}\u001b[39;00m\u001b[38;5;124m) \u001b[39m\u001b[38;5;124m\"\u001b[39m\n\u001b[1;32m    564\u001b[0m         \u001b[38;5;124m\"\u001b[39m\u001b[38;5;124mdoes not match length of index \u001b[39m\u001b[38;5;124m\"\u001b[39m\n\u001b[1;32m    565\u001b[0m         \u001b[38;5;124mf\u001b[39m\u001b[38;5;124m\"\u001b[39m\u001b[38;5;124m(\u001b[39m\u001b[38;5;132;01m{\u001b[39;00m\u001b[38;5;28mlen\u001b[39m(index)\u001b[38;5;132;01m}\u001b[39;00m\u001b[38;5;124m)\u001b[39m\u001b[38;5;124m\"\u001b[39m\n\u001b[1;32m    566\u001b[0m     )\n",
      "\u001b[0;31mValueError\u001b[0m: Length of values (6603) does not match length of index (16488)"
     ]
    }
   ],
   "source": [
    "# Filtering tweets\n",
    "\n",
    "bols_df['keep_tweet'] = define_tweets_keep(bols_df, tts_5rts_minimum['bolso_data'])\n",
    "bols_df['keep_tweet'] = define_tweets_keep(lula_df, tts_5rts_minimum['lula_data'])"
   ]
  },
  {
   "cell_type": "code",
   "execution_count": 17,
   "id": "3926ae92-102e-4703-ab54-f0de56cabe9a",
   "metadata": {
    "execution": {
     "iopub.execute_input": "2022-12-09T17:22:51.102412Z",
     "iopub.status.busy": "2022-12-09T17:22:51.102252Z",
     "iopub.status.idle": "2022-12-09T17:22:51.112348Z",
     "shell.execute_reply": "2022-12-09T17:22:51.111460Z",
     "shell.execute_reply.started": "2022-12-09T17:22:51.102382Z"
    },
    "tags": []
   },
   "outputs": [
    {
     "data": {
      "text/html": [
       "<div>\n",
       "<style scoped>\n",
       "    .dataframe tbody tr th:only-of-type {\n",
       "        vertical-align: middle;\n",
       "    }\n",
       "\n",
       "    .dataframe tbody tr th {\n",
       "        vertical-align: top;\n",
       "    }\n",
       "\n",
       "    .dataframe thead th {\n",
       "        text-align: right;\n",
       "    }\n",
       "</style>\n",
       "<table border=\"1\" class=\"dataframe\">\n",
       "  <thead>\n",
       "    <tr style=\"text-align: right;\">\n",
       "      <th></th>\n",
       "      <th>created_at</th>\n",
       "      <th>tweet_id</th>\n",
       "      <th>tweet_content</th>\n",
       "      <th>user</th>\n",
       "      <th>user_info</th>\n",
       "      <th>has_mention</th>\n",
       "      <th>mentions</th>\n",
       "      <th>is_reply</th>\n",
       "      <th>reply_to</th>\n",
       "      <th>is_quote</th>\n",
       "      <th>quoted_from</th>\n",
       "      <th>is_retweet</th>\n",
       "      <th>retweeted_from</th>\n",
       "      <th>hashtags</th>\n",
       "      <th>keep_user</th>\n",
       "    </tr>\n",
       "  </thead>\n",
       "  <tbody>\n",
       "    <tr>\n",
       "      <th>2</th>\n",
       "      <td>2022-11-23 02:58:59</td>\n",
       "      <td>1595250529164304390</td>\n",
       "      <td>Bolsonaro 51%\\n#BolsonaroReeleito \\n\\nNão me C...</td>\n",
       "      <td>guiferreiracode</td>\n",
       "      <td>{'id': 1497584853184921604, 'name': 'Guilherme...</td>\n",
       "      <td>False</td>\n",
       "      <td>NaN</td>\n",
       "      <td>False</td>\n",
       "      <td>NaN</td>\n",
       "      <td>False</td>\n",
       "      <td>NaN</td>\n",
       "      <td>True</td>\n",
       "      <td>{'user': 'KaiolOof', 'user_id': 15031679523712...</td>\n",
       "      <td>['#BolsonaroReeleito']</td>\n",
       "      <td>True</td>\n",
       "    </tr>\n",
       "    <tr>\n",
       "      <th>4</th>\n",
       "      <td>2022-11-23 02:58:51</td>\n",
       "      <td>1595250498218639361</td>\n",
       "      <td>@ThiagoNigro Quem mandou fraudar as eleições. ...</td>\n",
       "      <td>MarcoVilla68</td>\n",
       "      <td>{'id': 1471243538201464839, 'name': 'Marco Ant...</td>\n",
       "      <td>True</td>\n",
       "      <td>[{'id': '137195086', 'username': 'ThiagoNigro'}]</td>\n",
       "      <td>False</td>\n",
       "      <td>NaN</td>\n",
       "      <td>False</td>\n",
       "      <td>NaN</td>\n",
       "      <td>True</td>\n",
       "      <td>{'user': 'LucianaSV29', 'user_id': 1618773036,...</td>\n",
       "      <td>['#BolsonaroReeleito']</td>\n",
       "      <td>True</td>\n",
       "    </tr>\n",
       "    <tr>\n",
       "      <th>5</th>\n",
       "      <td>2022-11-23 02:58:49</td>\n",
       "      <td>1595250488743796737</td>\n",
       "      <td>Vai bater mais um meta negativa, depois de ter...</td>\n",
       "      <td>YNakayamo</td>\n",
       "      <td>{'id': 1588953628475285506, 'name': 'Yako Naka...</td>\n",
       "      <td>False</td>\n",
       "      <td>NaN</td>\n",
       "      <td>False</td>\n",
       "      <td>NaN</td>\n",
       "      <td>False</td>\n",
       "      <td>NaN</td>\n",
       "      <td>True</td>\n",
       "      <td>{'user': 'sandroapagaluz', 'user_id': 48834854...</td>\n",
       "      <td>['#FFAA', '#SOSForcasArmadasSalvemOBrasil', '#...</td>\n",
       "      <td>True</td>\n",
       "    </tr>\n",
       "    <tr>\n",
       "      <th>8</th>\n",
       "      <td>2022-11-23 02:58:47</td>\n",
       "      <td>1595250478417416193</td>\n",
       "      <td>É preciso esclarecer, o relatório do PL, basea...</td>\n",
       "      <td>guiferreiracode</td>\n",
       "      <td>{'id': 1497584853184921604, 'name': 'Guilherme...</td>\n",
       "      <td>False</td>\n",
       "      <td>NaN</td>\n",
       "      <td>False</td>\n",
       "      <td>NaN</td>\n",
       "      <td>False</td>\n",
       "      <td>NaN</td>\n",
       "      <td>True</td>\n",
       "      <td>{'user': 'MauricioCostaRS', 'user_id': 3286919...</td>\n",
       "      <td>['#BolsonaroReeleito']</td>\n",
       "      <td>True</td>\n",
       "    </tr>\n",
       "    <tr>\n",
       "      <th>14</th>\n",
       "      <td>2022-11-23 02:58:37</td>\n",
       "      <td>1595250437271216131</td>\n",
       "      <td>Lula subindo a rampa \\n#bolsonaroreeleito \\nBo...</td>\n",
       "      <td>NEEMIAS47</td>\n",
       "      <td>{'id': 455718936, 'name': 'NEEMIAS SILVA', 'de...</td>\n",
       "      <td>False</td>\n",
       "      <td>NaN</td>\n",
       "      <td>False</td>\n",
       "      <td>NaN</td>\n",
       "      <td>False</td>\n",
       "      <td>NaN</td>\n",
       "      <td>True</td>\n",
       "      <td>{'user': 'lugubremonotomo', 'user_id': 1755377...</td>\n",
       "      <td>['#bolsonaroreeleito']</td>\n",
       "      <td>True</td>\n",
       "    </tr>\n",
       "  </tbody>\n",
       "</table>\n",
       "</div>"
      ],
      "text/plain": [
       "             created_at             tweet_id  \\\n",
       "2   2022-11-23 02:58:59  1595250529164304390   \n",
       "4   2022-11-23 02:58:51  1595250498218639361   \n",
       "5   2022-11-23 02:58:49  1595250488743796737   \n",
       "8   2022-11-23 02:58:47  1595250478417416193   \n",
       "14  2022-11-23 02:58:37  1595250437271216131   \n",
       "\n",
       "                                        tweet_content             user  \\\n",
       "2   Bolsonaro 51%\\n#BolsonaroReeleito \\n\\nNão me C...  guiferreiracode   \n",
       "4   @ThiagoNigro Quem mandou fraudar as eleições. ...     MarcoVilla68   \n",
       "5   Vai bater mais um meta negativa, depois de ter...        YNakayamo   \n",
       "8   É preciso esclarecer, o relatório do PL, basea...  guiferreiracode   \n",
       "14  Lula subindo a rampa \\n#bolsonaroreeleito \\nBo...        NEEMIAS47   \n",
       "\n",
       "                                            user_info  has_mention  \\\n",
       "2   {'id': 1497584853184921604, 'name': 'Guilherme...        False   \n",
       "4   {'id': 1471243538201464839, 'name': 'Marco Ant...         True   \n",
       "5   {'id': 1588953628475285506, 'name': 'Yako Naka...        False   \n",
       "8   {'id': 1497584853184921604, 'name': 'Guilherme...        False   \n",
       "14  {'id': 455718936, 'name': 'NEEMIAS SILVA', 'de...        False   \n",
       "\n",
       "                                            mentions  is_reply reply_to  \\\n",
       "2                                                NaN     False      NaN   \n",
       "4   [{'id': '137195086', 'username': 'ThiagoNigro'}]     False      NaN   \n",
       "5                                                NaN     False      NaN   \n",
       "8                                                NaN     False      NaN   \n",
       "14                                               NaN     False      NaN   \n",
       "\n",
       "    is_quote quoted_from  is_retweet  \\\n",
       "2      False         NaN        True   \n",
       "4      False         NaN        True   \n",
       "5      False         NaN        True   \n",
       "8      False         NaN        True   \n",
       "14     False         NaN        True   \n",
       "\n",
       "                                       retweeted_from  \\\n",
       "2   {'user': 'KaiolOof', 'user_id': 15031679523712...   \n",
       "4   {'user': 'LucianaSV29', 'user_id': 1618773036,...   \n",
       "5   {'user': 'sandroapagaluz', 'user_id': 48834854...   \n",
       "8   {'user': 'MauricioCostaRS', 'user_id': 3286919...   \n",
       "14  {'user': 'lugubremonotomo', 'user_id': 1755377...   \n",
       "\n",
       "                                             hashtags  keep_user  \n",
       "2                              ['#BolsonaroReeleito']       True  \n",
       "4                              ['#BolsonaroReeleito']       True  \n",
       "5   ['#FFAA', '#SOSForcasArmadasSalvemOBrasil', '#...       True  \n",
       "8                              ['#BolsonaroReeleito']       True  \n",
       "14                             ['#bolsonaroreeleito']       True  "
      ]
     },
     "execution_count": 17,
     "metadata": {},
     "output_type": "execute_result"
    }
   ],
   "source": [
    "bols_df.head()"
   ]
  },
  {
   "cell_type": "code",
   "execution_count": null,
   "id": "699d8902-73ee-489d-bf4e-a226b2b7f958",
   "metadata": {},
   "outputs": [],
   "source": [
    "bolso_rts.head()"
   ]
  },
  {
   "cell_type": "code",
   "execution_count": null,
   "id": "56dabd63-9d81-4655-bd71-9742d19caeb2",
   "metadata": {
    "tags": []
   },
   "outputs": [],
   "source": [
    "users = [user for user, tt_amount in zip(bols_df['user'].value_counts().index, bols_df['user'].value_counts()) if ]"
   ]
  },
  {
   "cell_type": "code",
   "execution_count": null,
   "id": "953bc48e-50a6-4083-b58a-4668bc2540ca",
   "metadata": {
    "tags": []
   },
   "outputs": [],
   "source": [
    "zip(bols_df['user'].value_counts().index,bols_df['user'].value_counts())"
   ]
  },
  {
   "cell_type": "markdown",
   "id": "5f87c2f8-769d-4f71-8224-7d8f5934d86b",
   "metadata": {},
   "source": [
    "### Merging Datasets"
   ]
  },
  {
   "cell_type": "code",
   "execution_count": null,
   "id": "842cdc77-3810-4e3b-b7c1-e8d381acb664",
   "metadata": {
    "tags": []
   },
   "outputs": [],
   "source": [
    "complete_df = pd.concat([bols_df, lula_df])\n",
    "complete_df.shape"
   ]
  },
  {
   "cell_type": "code",
   "execution_count": null,
   "id": "2ead13c5-164f-459e-a2e4-5ac0d7c9c335",
   "metadata": {
    "tags": []
   },
   "outputs": [],
   "source": [
    "complete_df.drop_duplicates(inplace=True)\n",
    "complete_df.shape"
   ]
  },
  {
   "cell_type": "code",
   "execution_count": null,
   "id": "d2933c3d-d8b9-4a21-b631-32452195306f",
   "metadata": {},
   "outputs": [],
   "source": []
  }
 ],
 "metadata": {
  "kernelspec": {
   "display_name": "Python 3 (ipykernel)",
   "language": "python",
   "name": "python3"
  },
  "language_info": {
   "codemirror_mode": {
    "name": "ipython",
    "version": 3
   },
   "file_extension": ".py",
   "mimetype": "text/x-python",
   "name": "python",
   "nbconvert_exporter": "python",
   "pygments_lexer": "ipython3",
   "version": "3.10.8"
  }
 },
 "nbformat": 4,
 "nbformat_minor": 5
}
