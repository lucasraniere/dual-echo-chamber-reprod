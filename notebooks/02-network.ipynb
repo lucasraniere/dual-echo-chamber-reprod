{
 "cells": [
  {
   "cell_type": "markdown",
   "id": "001c5b43-d42e-47da-a0ca-a9aba3d3fd91",
   "metadata": {},
   "source": [
    "# __Network Creation and Analysis__"
   ]
  },
  {
   "cell_type": "code",
   "execution_count": 1,
   "id": "29537105-0bc6-4c9e-9ff8-942c23cec29e",
   "metadata": {
    "execution": {
     "iopub.execute_input": "2023-02-06T19:22:59.389331Z",
     "iopub.status.busy": "2023-02-06T19:22:59.389227Z",
     "iopub.status.idle": "2023-02-06T19:22:59.658737Z",
     "shell.execute_reply": "2023-02-06T19:22:59.658345Z",
     "shell.execute_reply.started": "2023-02-06T19:22:59.389320Z"
    },
    "tags": []
   },
   "outputs": [],
   "source": [
    "import pandas as pd\n",
    "import networkx as nx\n",
    "from datetime import datetime, timedelta\n",
    "import random"
   ]
  },
  {
   "cell_type": "markdown",
   "id": "bfedbf7a-7a11-466a-9c91-3971c9a64c42",
   "metadata": {},
   "source": [
    "### Data"
   ]
  },
  {
   "cell_type": "code",
   "execution_count": 2,
   "id": "d1cec4a7-3ac8-4ed8-98df-309ff38d6e73",
   "metadata": {
    "execution": {
     "iopub.execute_input": "2023-02-06T19:22:59.659627Z",
     "iopub.status.busy": "2023-02-06T19:22:59.659496Z",
     "iopub.status.idle": "2023-02-06T19:22:59.661792Z",
     "shell.execute_reply": "2023-02-06T19:22:59.661352Z",
     "shell.execute_reply.started": "2023-02-06T19:22:59.659616Z"
    },
    "tags": []
   },
   "outputs": [],
   "source": [
    "data_path = {\n",
    "    'tweets': '../data/tweets/',\n",
    "    'network': '../data/network/'\n",
    "}"
   ]
  },
  {
   "cell_type": "code",
   "execution_count": 3,
   "id": "e4cbab02-b457-47a6-917f-901f3f4c1c89",
   "metadata": {
    "execution": {
     "iopub.execute_input": "2023-02-06T19:22:59.662581Z",
     "iopub.status.busy": "2023-02-06T19:22:59.662432Z",
     "iopub.status.idle": "2023-02-06T19:22:59.717017Z",
     "shell.execute_reply": "2023-02-06T19:22:59.716410Z",
     "shell.execute_reply.started": "2023-02-06T19:22:59.662561Z"
    },
    "tags": []
   },
   "outputs": [
    {
     "data": {
      "text/plain": [
       "(6979, 14)"
      ]
     },
     "execution_count": 3,
     "metadata": {},
     "output_type": "execute_result"
    }
   ],
   "source": [
    "tweets_df = pd.read_csv(data_path['tweets']+'merged_data.csv')\n",
    "tweets_df = tweets_df.query('is_reply==False and is_quote==False')\n",
    "\n",
    "tweets_df.shape"
   ]
  },
  {
   "cell_type": "code",
   "execution_count": 4,
   "id": "445de050-035d-4a1b-ad66-aff4bb356003",
   "metadata": {
    "execution": {
     "iopub.execute_input": "2023-02-06T19:22:59.717829Z",
     "iopub.status.busy": "2023-02-06T19:22:59.717726Z",
     "iopub.status.idle": "2023-02-06T19:22:59.728671Z",
     "shell.execute_reply": "2023-02-06T19:22:59.728288Z",
     "shell.execute_reply.started": "2023-02-06T19:22:59.717815Z"
    }
   },
   "outputs": [
    {
     "data": {
      "text/html": [
       "<div>\n",
       "<style scoped>\n",
       "    .dataframe tbody tr th:only-of-type {\n",
       "        vertical-align: middle;\n",
       "    }\n",
       "\n",
       "    .dataframe tbody tr th {\n",
       "        vertical-align: top;\n",
       "    }\n",
       "\n",
       "    .dataframe thead th {\n",
       "        text-align: right;\n",
       "    }\n",
       "</style>\n",
       "<table border=\"1\" class=\"dataframe\">\n",
       "  <thead>\n",
       "    <tr style=\"text-align: right;\">\n",
       "      <th></th>\n",
       "      <th>created_at</th>\n",
       "      <th>tweet_id</th>\n",
       "      <th>tweet_content</th>\n",
       "      <th>user</th>\n",
       "      <th>user_info</th>\n",
       "      <th>has_mention</th>\n",
       "      <th>mentions</th>\n",
       "      <th>is_reply</th>\n",
       "      <th>reply_to</th>\n",
       "      <th>is_quote</th>\n",
       "      <th>quoted_from</th>\n",
       "      <th>is_retweet</th>\n",
       "      <th>retweeted_from</th>\n",
       "      <th>hashtags</th>\n",
       "    </tr>\n",
       "  </thead>\n",
       "  <tbody>\n",
       "    <tr>\n",
       "      <th>269</th>\n",
       "      <td>2022-11-23 01:44:39</td>\n",
       "      <td>1595231825957380102</td>\n",
       "      <td>Subindo pra trend:\\n- Bolsonaro 51%\\n- Mula de...</td>\n",
       "      <td>ALutaPeloBrasil</td>\n",
       "      <td>{'id': 1595207720419971077, 'name': 'LUTApeloB...</td>\n",
       "      <td>False</td>\n",
       "      <td>NaN</td>\n",
       "      <td>False</td>\n",
       "      <td>NaN</td>\n",
       "      <td>False</td>\n",
       "      <td>NaN</td>\n",
       "      <td>True</td>\n",
       "      <td>{'user': 'DCDM115', 'user_id': 134986098320492...</td>\n",
       "      <td>['#SOSFORCASARMADAS', '#BolsonaroReeleito']</td>\n",
       "    </tr>\n",
       "    <tr>\n",
       "      <th>4013</th>\n",
       "      <td>2022-11-22 22:17:09</td>\n",
       "      <td>1595179606423781381</td>\n",
       "      <td>O LULA TÁ ELEITO! https://t.co/sHXCsF4dHA</td>\n",
       "      <td>madelcostas</td>\n",
       "      <td>{'id': 2176156801, 'name': 'Maria del Carmen',...</td>\n",
       "      <td>False</td>\n",
       "      <td>NaN</td>\n",
       "      <td>False</td>\n",
       "      <td>NaN</td>\n",
       "      <td>False</td>\n",
       "      <td>NaN</td>\n",
       "      <td>True</td>\n",
       "      <td>{'user': 'lazarorosa25', 'user_id': 545643493,...</td>\n",
       "      <td>NaN</td>\n",
       "    </tr>\n",
       "    <tr>\n",
       "      <th>2791</th>\n",
       "      <td>2022-11-22 22:12:49</td>\n",
       "      <td>1595178516382978049</td>\n",
       "      <td>Maior verdade #BolsonaroReeleito 🇧🇷🇧🇷🇧🇷 https:...</td>\n",
       "      <td>lzaana_hotmail</td>\n",
       "      <td>{'id': 333755785, 'name': 'Ana maria', 'descri...</td>\n",
       "      <td>False</td>\n",
       "      <td>NaN</td>\n",
       "      <td>False</td>\n",
       "      <td>NaN</td>\n",
       "      <td>False</td>\n",
       "      <td>NaN</td>\n",
       "      <td>True</td>\n",
       "      <td>{'user': 'BrunoCalixto22', 'user_id': 13734622...</td>\n",
       "      <td>['#BolsonaroReeleito']</td>\n",
       "    </tr>\n",
       "    <tr>\n",
       "      <th>4215</th>\n",
       "      <td>2022-11-22 22:42:40</td>\n",
       "      <td>1595186027630665729</td>\n",
       "      <td>O LULA TÁ ELEITO\\nO LULA VAI SUBIR A RAMPA DO ...</td>\n",
       "      <td>CrisSilvaSJC</td>\n",
       "      <td>{'id': 1090562052169625600, 'name': 'CrisSilva...</td>\n",
       "      <td>False</td>\n",
       "      <td>NaN</td>\n",
       "      <td>False</td>\n",
       "      <td>NaN</td>\n",
       "      <td>False</td>\n",
       "      <td>NaN</td>\n",
       "      <td>False</td>\n",
       "      <td>NaN</td>\n",
       "      <td>NaN</td>\n",
       "    </tr>\n",
       "    <tr>\n",
       "      <th>6957</th>\n",
       "      <td>2022-11-22 22:57:05</td>\n",
       "      <td>1595189656257236998</td>\n",
       "      <td>O LULA TÁ ELEITO! https://t.co/sHXCsF4dHA</td>\n",
       "      <td>santossonia407</td>\n",
       "      <td>{'id': 1577837580439228418, 'name': 'Sonia San...</td>\n",
       "      <td>False</td>\n",
       "      <td>NaN</td>\n",
       "      <td>False</td>\n",
       "      <td>NaN</td>\n",
       "      <td>False</td>\n",
       "      <td>NaN</td>\n",
       "      <td>True</td>\n",
       "      <td>{'user': 'lazarorosa25', 'user_id': 545643493,...</td>\n",
       "      <td>NaN</td>\n",
       "    </tr>\n",
       "  </tbody>\n",
       "</table>\n",
       "</div>"
      ],
      "text/plain": [
       "               created_at             tweet_id  \\\n",
       "269   2022-11-23 01:44:39  1595231825957380102   \n",
       "4013  2022-11-22 22:17:09  1595179606423781381   \n",
       "2791  2022-11-22 22:12:49  1595178516382978049   \n",
       "4215  2022-11-22 22:42:40  1595186027630665729   \n",
       "6957  2022-11-22 22:57:05  1595189656257236998   \n",
       "\n",
       "                                          tweet_content             user  \\\n",
       "269   Subindo pra trend:\\n- Bolsonaro 51%\\n- Mula de...  ALutaPeloBrasil   \n",
       "4013          O LULA TÁ ELEITO! https://t.co/sHXCsF4dHA      madelcostas   \n",
       "2791  Maior verdade #BolsonaroReeleito 🇧🇷🇧🇷🇧🇷 https:...   lzaana_hotmail   \n",
       "4215  O LULA TÁ ELEITO\\nO LULA VAI SUBIR A RAMPA DO ...     CrisSilvaSJC   \n",
       "6957          O LULA TÁ ELEITO! https://t.co/sHXCsF4dHA   santossonia407   \n",
       "\n",
       "                                              user_info  has_mention mentions  \\\n",
       "269   {'id': 1595207720419971077, 'name': 'LUTApeloB...        False      NaN   \n",
       "4013  {'id': 2176156801, 'name': 'Maria del Carmen',...        False      NaN   \n",
       "2791  {'id': 333755785, 'name': 'Ana maria', 'descri...        False      NaN   \n",
       "4215  {'id': 1090562052169625600, 'name': 'CrisSilva...        False      NaN   \n",
       "6957  {'id': 1577837580439228418, 'name': 'Sonia San...        False      NaN   \n",
       "\n",
       "      is_reply reply_to  is_quote  quoted_from  is_retweet  \\\n",
       "269      False      NaN     False          NaN        True   \n",
       "4013     False      NaN     False          NaN        True   \n",
       "2791     False      NaN     False          NaN        True   \n",
       "4215     False      NaN     False          NaN       False   \n",
       "6957     False      NaN     False          NaN        True   \n",
       "\n",
       "                                         retweeted_from  \\\n",
       "269   {'user': 'DCDM115', 'user_id': 134986098320492...   \n",
       "4013  {'user': 'lazarorosa25', 'user_id': 545643493,...   \n",
       "2791  {'user': 'BrunoCalixto22', 'user_id': 13734622...   \n",
       "4215                                                NaN   \n",
       "6957  {'user': 'lazarorosa25', 'user_id': 545643493,...   \n",
       "\n",
       "                                         hashtags  \n",
       "269   ['#SOSFORCASARMADAS', '#BolsonaroReeleito']  \n",
       "4013                                          NaN  \n",
       "2791                       ['#BolsonaroReeleito']  \n",
       "4215                                          NaN  \n",
       "6957                                          NaN  "
      ]
     },
     "execution_count": 4,
     "metadata": {},
     "output_type": "execute_result"
    }
   ],
   "source": [
    "tweets_df.sample(5)"
   ]
  },
  {
   "cell_type": "code",
   "execution_count": 5,
   "id": "b8fc4641-4508-489c-bfa3-aa1274c5a7d6",
   "metadata": {
    "execution": {
     "iopub.execute_input": "2023-02-06T19:22:59.730251Z",
     "iopub.status.busy": "2023-02-06T19:22:59.730108Z",
     "iopub.status.idle": "2023-02-06T19:22:59.738080Z",
     "shell.execute_reply": "2023-02-06T19:22:59.737552Z",
     "shell.execute_reply.started": "2023-02-06T19:22:59.730234Z"
    },
    "tags": []
   },
   "outputs": [],
   "source": [
    "tweets_df.sort_values(by='created_at', inplace=True)"
   ]
  },
  {
   "cell_type": "code",
   "execution_count": 6,
   "id": "ffcf11ac-1ea5-4692-a0b8-81d2a5ea051b",
   "metadata": {
    "execution": {
     "iopub.execute_input": "2023-02-06T19:22:59.738926Z",
     "iopub.status.busy": "2023-02-06T19:22:59.738769Z",
     "iopub.status.idle": "2023-02-06T19:22:59.746835Z",
     "shell.execute_reply": "2023-02-06T19:22:59.746517Z",
     "shell.execute_reply.started": "2023-02-06T19:22:59.738906Z"
    }
   },
   "outputs": [
    {
     "data": {
      "text/html": [
       "<div>\n",
       "<style scoped>\n",
       "    .dataframe tbody tr th:only-of-type {\n",
       "        vertical-align: middle;\n",
       "    }\n",
       "\n",
       "    .dataframe tbody tr th {\n",
       "        vertical-align: top;\n",
       "    }\n",
       "\n",
       "    .dataframe thead th {\n",
       "        text-align: right;\n",
       "    }\n",
       "</style>\n",
       "<table border=\"1\" class=\"dataframe\">\n",
       "  <thead>\n",
       "    <tr style=\"text-align: right;\">\n",
       "      <th></th>\n",
       "      <th>created_at</th>\n",
       "      <th>tweet_id</th>\n",
       "      <th>tweet_content</th>\n",
       "      <th>user</th>\n",
       "      <th>user_info</th>\n",
       "      <th>has_mention</th>\n",
       "      <th>mentions</th>\n",
       "      <th>is_reply</th>\n",
       "      <th>reply_to</th>\n",
       "      <th>is_quote</th>\n",
       "      <th>quoted_from</th>\n",
       "      <th>is_retweet</th>\n",
       "      <th>retweeted_from</th>\n",
       "      <th>hashtags</th>\n",
       "    </tr>\n",
       "  </thead>\n",
       "  <tbody>\n",
       "    <tr>\n",
       "      <th>5832</th>\n",
       "      <td>2022-11-22 19:28:22</td>\n",
       "      <td>1595137129977638912</td>\n",
       "      <td>Bora ganhar também o 4º turno dessas eleições....</td>\n",
       "      <td>_Janoninho</td>\n",
       "      <td>{'id': 1563897907446747136, 'name': 'Janoninho...</td>\n",
       "      <td>False</td>\n",
       "      <td>NaN</td>\n",
       "      <td>False</td>\n",
       "      <td>NaN</td>\n",
       "      <td>False</td>\n",
       "      <td>NaN</td>\n",
       "      <td>False</td>\n",
       "      <td>NaN</td>\n",
       "      <td>NaN</td>\n",
       "    </tr>\n",
       "  </tbody>\n",
       "</table>\n",
       "</div>"
      ],
      "text/plain": [
       "               created_at             tweet_id  \\\n",
       "5832  2022-11-22 19:28:22  1595137129977638912   \n",
       "\n",
       "                                          tweet_content        user  \\\n",
       "5832  Bora ganhar também o 4º turno dessas eleições....  _Janoninho   \n",
       "\n",
       "                                              user_info  has_mention mentions  \\\n",
       "5832  {'id': 1563897907446747136, 'name': 'Janoninho...        False      NaN   \n",
       "\n",
       "      is_reply reply_to  is_quote  quoted_from  is_retweet retweeted_from  \\\n",
       "5832     False      NaN     False          NaN       False            NaN   \n",
       "\n",
       "     hashtags  \n",
       "5832      NaN  "
      ]
     },
     "execution_count": 6,
     "metadata": {},
     "output_type": "execute_result"
    }
   ],
   "source": [
    "tweets_df.head(1)"
   ]
  },
  {
   "cell_type": "code",
   "execution_count": 7,
   "id": "732e7bcb-0196-4ab6-ace5-c2d58041f4c4",
   "metadata": {
    "execution": {
     "iopub.execute_input": "2023-02-06T19:22:59.747477Z",
     "iopub.status.busy": "2023-02-06T19:22:59.747351Z",
     "iopub.status.idle": "2023-02-06T19:22:59.756875Z",
     "shell.execute_reply": "2023-02-06T19:22:59.756525Z",
     "shell.execute_reply.started": "2023-02-06T19:22:59.747461Z"
    },
    "tags": []
   },
   "outputs": [
    {
     "data": {
      "text/html": [
       "<div>\n",
       "<style scoped>\n",
       "    .dataframe tbody tr th:only-of-type {\n",
       "        vertical-align: middle;\n",
       "    }\n",
       "\n",
       "    .dataframe tbody tr th {\n",
       "        vertical-align: top;\n",
       "    }\n",
       "\n",
       "    .dataframe thead th {\n",
       "        text-align: right;\n",
       "    }\n",
       "</style>\n",
       "<table border=\"1\" class=\"dataframe\">\n",
       "  <thead>\n",
       "    <tr style=\"text-align: right;\">\n",
       "      <th></th>\n",
       "      <th>created_at</th>\n",
       "      <th>tweet_id</th>\n",
       "      <th>tweet_content</th>\n",
       "      <th>user</th>\n",
       "      <th>user_info</th>\n",
       "      <th>has_mention</th>\n",
       "      <th>mentions</th>\n",
       "      <th>is_reply</th>\n",
       "      <th>reply_to</th>\n",
       "      <th>is_quote</th>\n",
       "      <th>quoted_from</th>\n",
       "      <th>is_retweet</th>\n",
       "      <th>retweeted_from</th>\n",
       "      <th>hashtags</th>\n",
       "    </tr>\n",
       "  </thead>\n",
       "  <tbody>\n",
       "    <tr>\n",
       "      <th>218</th>\n",
       "      <td>2022-11-23 02:58:59</td>\n",
       "      <td>1595250529164304390</td>\n",
       "      <td>Bolsonaro 51%\\n#BolsonaroReeleito \\n\\nNão me C...</td>\n",
       "      <td>guiferreiracode</td>\n",
       "      <td>{'id': 1497584853184921604, 'name': 'Guilherme...</td>\n",
       "      <td>False</td>\n",
       "      <td>NaN</td>\n",
       "      <td>False</td>\n",
       "      <td>NaN</td>\n",
       "      <td>False</td>\n",
       "      <td>NaN</td>\n",
       "      <td>True</td>\n",
       "      <td>{'user': 'KaiolOof', 'user_id': 15031679523712...</td>\n",
       "      <td>['#BolsonaroReeleito']</td>\n",
       "    </tr>\n",
       "  </tbody>\n",
       "</table>\n",
       "</div>"
      ],
      "text/plain": [
       "              created_at             tweet_id  \\\n",
       "218  2022-11-23 02:58:59  1595250529164304390   \n",
       "\n",
       "                                         tweet_content             user  \\\n",
       "218  Bolsonaro 51%\\n#BolsonaroReeleito \\n\\nNão me C...  guiferreiracode   \n",
       "\n",
       "                                             user_info  has_mention mentions  \\\n",
       "218  {'id': 1497584853184921604, 'name': 'Guilherme...        False      NaN   \n",
       "\n",
       "     is_reply reply_to  is_quote  quoted_from  is_retweet  \\\n",
       "218     False      NaN     False          NaN        True   \n",
       "\n",
       "                                        retweeted_from                hashtags  \n",
       "218  {'user': 'KaiolOof', 'user_id': 15031679523712...  ['#BolsonaroReeleito']  "
      ]
     },
     "execution_count": 7,
     "metadata": {},
     "output_type": "execute_result"
    }
   ],
   "source": [
    "tweets_df.tail(1)"
   ]
  },
  {
   "cell_type": "code",
   "execution_count": 8,
   "id": "c503eece-aaf1-47ca-8d13-b241dbc41539",
   "metadata": {
    "execution": {
     "iopub.execute_input": "2023-02-06T19:22:59.757567Z",
     "iopub.status.busy": "2023-02-06T19:22:59.757435Z",
     "iopub.status.idle": "2023-02-06T19:22:59.833846Z",
     "shell.execute_reply": "2023-02-06T19:22:59.833172Z",
     "shell.execute_reply.started": "2023-02-06T19:22:59.757550Z"
    },
    "tags": []
   },
   "outputs": [
    {
     "name": "stdout",
     "output_type": "stream",
     "text": [
      "\n",
      "Min date/time: 2022-11-22 16:28:22\n",
      "Max date/time: 2022-11-22 23:58:59\n",
      "\n"
     ]
    }
   ],
   "source": [
    "# converting date to GMT-3\n",
    "\n",
    "def convert_2_gmt_br(date):\n",
    "    date = datetime.strptime(date, '%Y-%m-%d %H:%M:%S')\n",
    "    date = date - timedelta(hours=3)\n",
    "    date = datetime.strftime(date, '%Y-%m-%d %H:%M:%S')\n",
    "    return date\n",
    "\n",
    "tweets_df['created_at'] = tweets_df['created_at'].apply(lambda x: convert_2_gmt_br(str(x)))\n",
    "\n",
    "print(f'''\n",
    "Min date/time: {tweets_df['created_at'].min()}\n",
    "Max date/time: {tweets_df['created_at'].max()}\n",
    "''')"
   ]
  },
  {
   "cell_type": "markdown",
   "id": "9b099b3e-3d1a-4628-9e81-d2d2166947ff",
   "metadata": {},
   "source": [
    "### Network"
   ]
  },
  {
   "cell_type": "markdown",
   "id": "f72c32c4-1ad4-4e4a-bacb-a8529eff366d",
   "metadata": {},
   "source": [
    "Converting data to graph"
   ]
  },
  {
   "cell_type": "code",
   "execution_count": 9,
   "id": "f9be7a56-495d-41fd-9da6-6d1f7cf28688",
   "metadata": {
    "execution": {
     "iopub.execute_input": "2023-02-06T19:22:59.834815Z",
     "iopub.status.busy": "2023-02-06T19:22:59.834705Z",
     "iopub.status.idle": "2023-02-06T19:23:01.075885Z",
     "shell.execute_reply": "2023-02-06T19:23:01.075477Z",
     "shell.execute_reply.started": "2023-02-06T19:22:59.834802Z"
    },
    "tags": []
   },
   "outputs": [],
   "source": [
    "twitter_graph = nx.DiGraph()\n",
    "\n",
    "# for idx, row in tweets_df.iterrows():\n",
    "#     user = row['user']\n",
    "#     tweet = row['tweet_id']\n",
    "#     timestamp = row['created_at']\n",
    "#     if row['is_retweet']==True:\n",
    "#         twitter_graph.add_node(user, node_type='user')\n",
    "#         twitter_graph.add_node(tweet, node_type='tweet')\n",
    "#         twitter_graph.add_edge(user, tweet, edge_type='retweet', timestamp=timestamp)\n",
    "#     else:\n",
    "#         twitter_graph.add_node(user, node_type='user')\n",
    "#         twitter_graph.add_node(tweet, node_type='tweet')\n",
    "#         twitter_graph.add_edge(tweet, user, edge_type='tweet', timestamp=timestamp)\n",
    "\n",
    "for idx, row in tweets_df.iterrows():\n",
    "    user = eval(row['user_info'])['id']\n",
    "    tweet = row['tweet_id']\n",
    "    timestamp = row['created_at']\n",
    "    twitter_graph.add_node(user, node_type='user')\n",
    "    twitter_graph.add_node(tweet, node_type='tweet')\n",
    "    twitter_graph.add_edge(tweet, user, edge_type='tweet', timestamp=timestamp)\n",
    "\n",
    "for idx, row in tweets_df.query('is_retweet==True').iterrows():\n",
    "    user = eval(row['user_info'])['id']\n",
    "    tweet = eval(row['retweeted_from'])['tweet_id']\n",
    "    timestamp = row['created_at']\n",
    "    if twitter_graph.has_node(tweet):\n",
    "        twitter_graph.add_node(user, node_type='user')\n",
    "        twitter_graph.add_node(tweet, node_type='tweet')\n",
    "        twitter_graph.add_edge(user, tweet, edge_type='retweet', timestamp=timestamp)\n",
    "\n",
    "nx.write_gexf(twitter_graph, data_path['network']+'raw_twitter_graph.gexf')"
   ]
  },
  {
   "cell_type": "code",
   "execution_count": 10,
   "id": "ce2a5c14-ce6f-4ac5-a534-861613335c3e",
   "metadata": {
    "execution": {
     "iopub.execute_input": "2023-02-06T19:23:01.076446Z",
     "iopub.status.busy": "2023-02-06T19:23:01.076349Z",
     "iopub.status.idle": "2023-02-06T19:23:01.079485Z",
     "shell.execute_reply": "2023-02-06T19:23:01.079055Z",
     "shell.execute_reply.started": "2023-02-06T19:23:01.076436Z"
    },
    "tags": []
   },
   "outputs": [
    {
     "data": {
      "text/plain": [
       "8260"
      ]
     },
     "execution_count": 10,
     "metadata": {},
     "output_type": "execute_result"
    }
   ],
   "source": [
    "len(twitter_graph.nodes())"
   ]
  },
  {
   "cell_type": "code",
   "execution_count": 11,
   "id": "51deca6d-42ff-4daa-989c-34447cd66d11",
   "metadata": {
    "execution": {
     "iopub.execute_input": "2023-02-06T19:23:01.080102Z",
     "iopub.status.busy": "2023-02-06T19:23:01.079949Z",
     "iopub.status.idle": "2023-02-06T19:23:01.087028Z",
     "shell.execute_reply": "2023-02-06T19:23:01.086540Z",
     "shell.execute_reply.started": "2023-02-06T19:23:01.080091Z"
    },
    "tags": []
   },
   "outputs": [
    {
     "data": {
      "text/plain": [
       "8890"
      ]
     },
     "execution_count": 11,
     "metadata": {},
     "output_type": "execute_result"
    }
   ],
   "source": [
    "len(twitter_graph.edges())"
   ]
  },
  {
   "cell_type": "code",
   "execution_count": 12,
   "id": "c3e5809f-5ca9-44b4-9666-185fcb08ed42",
   "metadata": {
    "execution": {
     "iopub.execute_input": "2023-02-06T19:23:01.087996Z",
     "iopub.status.busy": "2023-02-06T19:23:01.087834Z",
     "iopub.status.idle": "2023-02-06T19:23:01.094360Z",
     "shell.execute_reply": "2023-02-06T19:23:01.094080Z",
     "shell.execute_reply.started": "2023-02-06T19:23:01.087980Z"
    },
    "tags": []
   },
   "outputs": [
    {
     "data": {
      "text/plain": [
       "[(1563897907446747136,\n",
       "  1595137129977638912,\n",
       "  {'edge_type': 'retweet', 'timestamp': '2022-11-22 18:37:33'}),\n",
       " (1595137129977638912,\n",
       "  1563897907446747136,\n",
       "  {'edge_type': 'tweet', 'timestamp': '2022-11-22 16:28:22'}),\n",
       " (1273599615535853569,\n",
       "  1595137129977638912,\n",
       "  {'edge_type': 'retweet', 'timestamp': '2022-11-22 16:29:08'}),\n",
       " (1595137323385376768,\n",
       "  1273599615535853569,\n",
       "  {'edge_type': 'tweet', 'timestamp': '2022-11-22 16:29:08'}),\n",
       " (1594892901355511808,\n",
       "  1595137129977638912,\n",
       "  {'edge_type': 'retweet', 'timestamp': '2022-11-22 16:29:32'})]"
      ]
     },
     "execution_count": 12,
     "metadata": {},
     "output_type": "execute_result"
    }
   ],
   "source": [
    "list(twitter_graph.edges(data=True))[:5]"
   ]
  },
  {
   "cell_type": "markdown",
   "id": "28f87f8d-c2e5-4d84-926e-d4d75123c8d5",
   "metadata": {},
   "source": [
    "#### Converting graph"
   ]
  },
  {
   "cell_type": "code",
   "execution_count": 13,
   "id": "8e8c2a6e-9b5c-4b7e-803c-8f175ba6f4ba",
   "metadata": {
    "execution": {
     "iopub.execute_input": "2023-02-06T19:23:01.095004Z",
     "iopub.status.busy": "2023-02-06T19:23:01.094769Z",
     "iopub.status.idle": "2023-02-06T19:23:01.102498Z",
     "shell.execute_reply": "2023-02-06T19:23:01.101967Z",
     "shell.execute_reply.started": "2023-02-06T19:23:01.094992Z"
    },
    "tags": []
   },
   "outputs": [
    {
     "name": "stdout",
     "output_type": "stream",
     "text": [
      "[Original Twitter graph]: 8260 nodes, 8890 edges\n"
     ]
    }
   ],
   "source": [
    "out_degrees = dict(twitter_graph.out_degree())\n",
    "in_degrees = dict(twitter_graph.in_degree())\n",
    "print('[Original Twitter graph]: {} nodes, {} edges'.format(len(twitter_graph), len(twitter_graph.edges())))"
   ]
  },
  {
   "cell_type": "code",
   "execution_count": 14,
   "id": "2b23bede-c718-4786-89ca-224afae8fb6f",
   "metadata": {
    "execution": {
     "iopub.execute_input": "2023-02-06T19:23:01.104960Z",
     "iopub.status.busy": "2023-02-06T19:23:01.104723Z",
     "iopub.status.idle": "2023-02-06T19:23:01.122854Z",
     "shell.execute_reply": "2023-02-06T19:23:01.122230Z",
     "shell.execute_reply.started": "2023-02-06T19:23:01.104941Z"
    },
    "tags": []
   },
   "outputs": [
    {
     "name": "stdout",
     "output_type": "stream",
     "text": [
      "[Densified Twitter graph]: 827 nodes, 1455 edges\n",
      "\n"
     ]
    }
   ],
   "source": [
    "min_retweets_users = [x for x, data in twitter_graph.nodes(data=True)\n",
    "        if out_degrees[x] >= 6 and data['node_type']=='user']\n",
    "\n",
    "min_retweets_tweets = [x for x, data in twitter_graph.nodes(data=True)\n",
    "        if in_degrees[x] >= 6 and data['node_type']=='tweet']\n",
    "\n",
    "min_tweets_users = [x for x, data in twitter_graph.nodes(data=True)\n",
    "        if in_degrees[x] >= 3 and data['node_type']=='user']\n",
    "\n",
    "allowed_tweets = set()\n",
    "for tweet, user in twitter_graph.in_edges(min_tweets_users):\n",
    "    allowed_tweets.add(tweet)\n",
    "\n",
    "allowed_tweets = list(set(min_retweets_tweets).intersection(allowed_tweets))\n",
    "\n",
    "allowed_users = set()\n",
    "for user, tweet in twitter_graph.in_edges(allowed_tweets):\n",
    "    allowed_users.add(user)\n",
    "\n",
    "allowed_users = list(set(min_retweets_users).intersection(allowed_users))\n",
    "\n",
    "#allowed_nodes = set(min_retweets_users + min_retweets_tweets + min_tweets_users)\n",
    "allowed_nodes = set(allowed_users + allowed_tweets + min_tweets_users)\n",
    "\n",
    "densified_twitter_graph = nx.subgraph(twitter_graph, allowed_nodes).copy()\n",
    "print('[Densified Twitter graph]: {} nodes, {} edges\\n'.format(len(densified_twitter_graph), len(densified_twitter_graph.edges())))\n"
   ]
  },
  {
   "cell_type": "code",
   "execution_count": 15,
   "id": "8738c97f-693e-4ecd-a61a-8551b89b7ad3",
   "metadata": {
    "execution": {
     "iopub.execute_input": "2023-02-06T19:23:01.123850Z",
     "iopub.status.busy": "2023-02-06T19:23:01.123683Z",
     "iopub.status.idle": "2023-02-06T19:23:01.137347Z",
     "shell.execute_reply": "2023-02-06T19:23:01.136467Z",
     "shell.execute_reply.started": "2023-02-06T19:23:01.123826Z"
    },
    "tags": []
   },
   "outputs": [],
   "source": [
    "timestamps = list(nx.get_edge_attributes(twitter_graph, 'timestamp').values())\n",
    "timestamps.sort()"
   ]
  },
  {
   "cell_type": "code",
   "execution_count": 16,
   "id": "c38604cd-38cb-432b-b56c-525ee07f26d5",
   "metadata": {
    "execution": {
     "iopub.execute_input": "2023-02-06T19:23:01.138319Z",
     "iopub.status.busy": "2023-02-06T19:23:01.138171Z",
     "iopub.status.idle": "2023-02-06T19:23:01.141963Z",
     "shell.execute_reply": "2023-02-06T19:23:01.141545Z",
     "shell.execute_reply.started": "2023-02-06T19:23:01.138299Z"
    },
    "tags": []
   },
   "outputs": [
    {
     "data": {
      "text/plain": [
       "1777"
      ]
     },
     "execution_count": 16,
     "metadata": {},
     "output_type": "execute_result"
    }
   ],
   "source": [
    "int((len(timestamps)-1) * 0.2)"
   ]
  },
  {
   "cell_type": "code",
   "execution_count": 17,
   "id": "fc7f8784-4a22-419a-b4e8-72dcbd7e3b7d",
   "metadata": {
    "execution": {
     "iopub.execute_input": "2023-02-06T19:23:01.142849Z",
     "iopub.status.busy": "2023-02-06T19:23:01.142723Z",
     "iopub.status.idle": "2023-02-06T19:23:01.573086Z",
     "shell.execute_reply": "2023-02-06T19:23:01.572213Z",
     "shell.execute_reply.started": "2023-02-06T19:23:01.142833Z"
    },
    "tags": []
   },
   "outputs": [
    {
     "name": "stdout",
     "output_type": "stream",
     "text": [
      "[Temporal Split Graph] 135 nodes, 297 edges\n"
     ]
    },
    {
     "name": "stderr",
     "output_type": "stream",
     "text": [
      "100%|███████████████████████████████████| 1455/1455 [00:00<00:00, 132299.52it/s]\n",
      "100%|█████████████████████████████████████| 780/780 [00:00<00:00, 322861.65it/s]"
     ]
    },
    {
     "name": "stdout",
     "output_type": "stream",
     "text": [
      "[Scenario graph] 159 nodes, 316 edges\n",
      "[Final Starting graph] 137 nodes, 301 edges\n",
      "[Final Target graph] 137 nodes, 598 edges\n",
      "0\n"
     ]
    },
    {
     "name": "stderr",
     "output_type": "stream",
     "text": [
      "\n"
     ]
    },
    {
     "ename": "ValueError",
     "evalue": "max() arg is an empty sequence",
     "output_type": "error",
     "traceback": [
      "\u001b[0;31m---------------------------------------------------------------------------\u001b[0m",
      "\u001b[0;31mValueError\u001b[0m                                Traceback (most recent call last)",
      "Cell \u001b[0;32mIn [17], line 223\u001b[0m\n\u001b[1;32m    220\u001b[0m reduced_graph \u001b[38;5;241m=\u001b[39m reduced_graph\u001b[38;5;241m.\u001b[39msubgraph(largest_cc)\u001b[38;5;241m.\u001b[39mcopy()\n\u001b[1;32m    222\u001b[0m reduced_user_graph\u001b[38;5;241m.\u001b[39mremove_nodes_from(remove)\n\u001b[0;32m--> 223\u001b[0m largest_cc \u001b[38;5;241m=\u001b[39m \u001b[38;5;28;43mmax\u001b[39;49m\u001b[43m(\u001b[49m\u001b[43mnx\u001b[49m\u001b[38;5;241;43m.\u001b[39;49m\u001b[43mconnected_components\u001b[49m\u001b[43m(\u001b[49m\u001b[43mreduced_user_graph\u001b[49m\u001b[38;5;241;43m.\u001b[39;49m\u001b[43mto_undirected\u001b[49m\u001b[43m(\u001b[49m\u001b[43m)\u001b[49m\u001b[43m)\u001b[49m\u001b[43m,\u001b[49m\u001b[43m \u001b[49m\u001b[43mkey\u001b[49m\u001b[38;5;241;43m=\u001b[39;49m\u001b[38;5;28;43mlen\u001b[39;49m\u001b[43m)\u001b[49m\n\u001b[1;32m    224\u001b[0m reduced_user_graph \u001b[38;5;241m=\u001b[39m reduced_user_graph\u001b[38;5;241m.\u001b[39msubgraph(largest_cc)\u001b[38;5;241m.\u001b[39mcopy()\n\u001b[1;32m    226\u001b[0m \u001b[38;5;124;03m''' Create Result Edges '''\u001b[39;00m\n",
      "\u001b[0;31mValueError\u001b[0m: max() arg is an empty sequence"
     ]
    }
   ],
   "source": [
    "mode = 'target_network'\n",
    "scenario = 'hard'\n",
    "from tqdm import tqdm\n",
    "if mode == 'target_network':\n",
    "    cutoff_idx = int((len(timestamps)-1) * 0.2)\n",
    "    cutoff_timestamp = timestamps[cutoff_idx]\n",
    "\n",
    "    reduced_edges = [(x,y,z) for x,y,z in densified_twitter_graph.edges(data=True) \n",
    "            if z['timestamp'] <= cutoff_timestamp]\n",
    "\n",
    "    reduced_graph = nx.DiGraph(reduced_edges)\n",
    "    node_types = nx.get_node_attributes(twitter_graph, 'node_type')\n",
    "    nx.set_node_attributes(reduced_graph, node_types, 'node_type')\n",
    "    print('[Temporal Split Graph] {} nodes, {} edges'.format(len(reduced_graph), len(reduced_graph.edges())))\n",
    "\n",
    "    if scenario == 'hard':\n",
    "        all_users = [str(x) for x,y in densified_twitter_graph.nodes(data=True) if y['node_type']=='user']\n",
    "        #all_tweets = [str(x) for x,y in densified_twitter_graph.nodes(data=True) if y['node_type']=='tweet']\n",
    "\n",
    "        new_users_at_t = [x for x in all_users if x not in reduced_graph]\n",
    "\n",
    "        new_retweets_at_t = []\n",
    "        new_retweeting_users_at_t = []\n",
    "        for head, tail, data in tqdm(densified_twitter_graph.edges(data=True)):\n",
    "            if data['edge_type'] == 'retweet' and head in new_users_at_t:\n",
    "                new_retweets_at_t.append((head,tail,data))\n",
    "                new_retweeting_users_at_t.append(head)\n",
    "\n",
    "        new_retweet_graph = nx.DiGraph(new_retweets_at_t)\n",
    "        trimmed_edges = []\n",
    "        for user in tqdm(new_users_at_t):\n",
    "            user_retweets = list(new_retweet_graph.edges(user, data=True))\n",
    "            if len(user_retweets) > 0:\n",
    "                random_retweet = random.choice(user_retweets)\n",
    "                trimmed_edges.append(random_retweet)\n",
    "\n",
    "        tweets_at_t = [(head,tail,y) for head,tail,y in densified_twitter_graph.edges(data=True) if y['edge_type']=='tweet']\n",
    "\n",
    "        reduced_graph.update(trimmed_edges)\n",
    "        reduced_graph.update(tweets_at_t)\n",
    "        nx.set_node_attributes(reduced_graph, node_types, 'node_type')\n",
    "        print('[Scenario graph] {} nodes, {} edges'.format(len(reduced_graph), len(reduced_graph.edges())))\n",
    "\n",
    "    ''' Filter '''\n",
    "    min_retweets_users = [x for x, data in reduced_graph.nodes(data=True)\n",
    "        if out_degrees[x] >= 6 and data['node_type']=='user']\n",
    "\n",
    "    min_retweets_tweets = [x for x, data in reduced_graph.nodes(data=True)\n",
    "        if in_degrees[x] >= 6 and data['node_type']=='tweet']\n",
    "\n",
    "    min_tweets_users = [x for x, data in reduced_graph.nodes(data=True)\n",
    "        if in_degrees[x] >= 3 and data['node_type']=='user']\n",
    "\n",
    "    allowed_nodes = set(min_retweets_users + min_retweets_tweets + min_tweets_users)\n",
    "\n",
    "    reduced_graph = nx.subgraph(reduced_graph, allowed_nodes).copy()\n",
    "\n",
    "    largest_cc = max(nx.connected_components(reduced_graph.to_undirected()), key=len)\n",
    "    reduced_graph = reduced_graph.subgraph(largest_cc).copy()\n",
    "    print('[Final Starting graph] {} nodes, {} edges'.format(len(reduced_graph), len(reduced_graph.edges())))\n",
    "\n",
    "    target_graph = nx.subgraph(densified_twitter_graph, reduced_graph.nodes).copy()\n",
    "    print('[Final Target graph] {} nodes, {} edges'.format(len(target_graph), len(target_graph.edges())))\n",
    "\n",
    "\n",
    "elif mode == 'temporal_bins':\n",
    "    temporal_bins = [0.3, 0.3, 0.4]\n",
    "    cutoff_timestamps = [timestamps[0]]\n",
    "    for i, temporal_cutoff in enumerate(temporal_bins):\n",
    "        temporal_cutoff = sum(temporal_bins[:i+1])\n",
    "        cutoff_idx = int((len(timestamps)-1) * temporal_cutoff)\n",
    "        cutoff_timestamp = timestamps[cutoff_idx]\n",
    "        cutoff_timestamps.append(cutoff_timestamp)\n",
    "\n",
    "    cutoff_ranges = list(zip(cutoff_timestamps[:-1], cutoff_timestamps[1:]))\n",
    "\n",
    "    temporal_graphs = []\n",
    "\n",
    "    running_full_graph = nx.DiGraph()\n",
    "    running_trimmed_graph = nx.DiGraph()\n",
    "    # TODO: This could be done better. \n",
    "    # This version doesn't include previous edges of newly added users\n",
    "    for i, (from_, to_) in enumerate(cutoff_ranges):\n",
    "        reduced_edges = [(x,y,z) for x,y,z in twitter_graph.edges(data=True) \n",
    "            if z['timestamp'] >= from_ and z['timestamp'] <= to_]\n",
    "\n",
    "        reduced_graph = nx.DiGraph(reduced_edges)\n",
    "        node_types = nx.get_node_attributes(twitter_graph, 'node_type')\n",
    "        nx.set_node_attributes(reduced_graph, node_types, 'node_type')\n",
    "        new_nodes = [x for x in reduced_graph.nodes() if x not in running_trimmed_graph.nodes] \n",
    "        print('{}: [Pre-filter graph] {} nodes, {} edges'.format(i, len(reduced_graph), len(reduced_graph.edges())))\n",
    "\n",
    "        running_full_graph.update(reduced_graph)\n",
    "        out_degrees = dict(running_full_graph.out_degree())\n",
    "        in_degrees = dict(running_full_graph.in_degree()) \n",
    "        print('{}: [Running full graph] {} nodes, {} edges'.format(i, len(running_full_graph), len(running_full_graph.edges())))\n",
    "\n",
    "        ''' Filter '''\n",
    "        min_retweets_users = [x for x, data in reduced_graph.nodes(data=True)\n",
    "            if out_degrees[x] >= 6 and data['node_type']=='user']\n",
    "\n",
    "        min_retweets_tweets = [x for x, data in reduced_graph.nodes(data=True)\n",
    "            if in_degrees[x] >= 6 and data['node_type']=='tweet']\n",
    "\n",
    "        min_tweets_users = [x for x, data in reduced_graph.nodes(data=True)\n",
    "            if in_degrees[x] >= 3 and data['node_type']=='user']\n",
    "\n",
    "        print('{}: [Filtering] Users: min retweets - {}, min tweets: {} | Tweets: min retweets - {}'.format(\n",
    "            i, len(min_retweets_users), len(min_tweets_users), len(min_retweets_tweets)\n",
    "        ))\n",
    "        allowed_nodes = set(min_retweets_users + min_retweets_tweets + min_tweets_users)\n",
    "        print(\"{}: [Combine] Node count: {}\".format(i, len(allowed_nodes)))\n",
    "\n",
    "        reduced_graph = nx.subgraph(reduced_graph, allowed_nodes).copy()\n",
    "\n",
    "        all_allowed_edges = nx.subgraph(running_full_graph, allowed_nodes)\n",
    "        for h,t, data in all_allowed_edges.edges(data=True):\n",
    "            if not running_trimmed_graph.has_edge(h,t):\n",
    "                reduced_graph.add_edge(h,t,**data)\n",
    "\n",
    "        largest_cc = max(nx.connected_components(reduced_graph.to_undirected()), key=len)\n",
    "        reduced_graph = reduced_graph.subgraph(largest_cc).copy()\n",
    "\n",
    "        running_trimmed_graph.update(reduced_graph)\n",
    "        temporal_graphs.append(reduced_graph)\n",
    "\n",
    "        #users = [str(x) for x,y in reduced_twitter_graph.nodes(data=True) if y['node_type']=='user']\n",
    "        #tweets = [str(x) for x,y in reduced_twitter_graph.nodes(data=True) if y['node_type']=='tweet']\n",
    "        #allowed_nodes = list(reduced_twitter_graph.nodes)\n",
    "        print(\"{}: [Largest CC]: {} nodes, {} edges \\n\".format(i, len(reduced_graph), len(reduced_graph.edges())))\n",
    "\n",
    "    running_graph = nx.DiGraph()\n",
    "\n",
    "    scenario = 'hard'\n",
    "    edges = dict()\n",
    "    for t, graph_at_t in enumerate(temporal_graphs):\n",
    "        if t == 0 or scenario == 'hard':\n",
    "\n",
    "            users_at_t = [str(x) for x,y in graph_at_t.nodes(data=True) if y['node_type']=='user']\n",
    "            new_users_at_t = [x for x in users_at_t if x not in running_graph]\n",
    "\n",
    "            new_retweets_at_t = []\n",
    "            new_retweeting_users_at_t = []\n",
    "            for head, tail, data in graph_at_t.edges(data=True):\n",
    "                if data['edge_type'] == 'retweet' and head in new_users_at_t:\n",
    "                    new_retweets_at_t.append((head,tail,data))\n",
    "                    new_retweeting_users_at_t.append(head)\n",
    "\n",
    "\n",
    "            new_retweet_graph = nx.DiGraph(new_retweets_at_t)\n",
    "            trimmed_edges = []\n",
    "            for user in new_users_at_t:\n",
    "                user_retweets = list(new_retweet_graph.edges(new_retweeting_users_at_t))\n",
    "                random_retweet = random.choice(user_retweets)\n",
    "                trimmed_edges.append(random_retweet)\n",
    "\n",
    "            tweets_at_t = [(head,tail,y) for head,tail,y in graph_at_t.edges(data=True) if y['edge_type']=='tweet']\n",
    "\n",
    "            trimmed_graph_at_t = nx.DiGraph(new_retweets_at_t+tweets_at_t)\n",
    "\n",
    "\n",
    "            running_graph.update(graph_at_t)\n",
    "            print('{}: Running graph: {} nodes, {} edges'.format(t, len(running_graph), len(running_graph.edges())))\n",
    "            print('{}: Graph at t: {} nodes, {} edges'.format(t, len(graph_at_t), len(graph_at_t.edges())))\n",
    "            print('{}: Trimmed graph at t: {} nodes, {} edges\\n'.format(t, len(trimmed_graph_at_t), len(trimmed_graph_at_t.edges())))\n",
    "\n",
    "        else:\n",
    "            ''' '''\n",
    "            new_nodes = set(graph_at_t.nodes) - set(running_graph.nodes)\n",
    "            new_graph_at_t = graph_at_t.subgraph(new_nodes)\n",
    "\n",
    "            running_graph.update(graph_at_t)\n",
    "            running_graph.remove_nodes_from(n for n in running_graph.copy() if n in new_graph_at_t)\n",
    "            print('{}: Updated running graph: {} nodes, {} edges'.format(t, len(running_graph), len(running_graph.edges())))\n",
    "\n",
    "            if scenario == 'easy':\n",
    "                graph_at_t.remove_nodes_from(new_graph_at_t.copy())\n",
    "                print('{}: Filtered graph at t: {} nodes, {} edges\\n'.format(t, len(graph_at_t), len(graph_at_t.edges())))\n",
    "\n",
    "                edges[t] = list(graph_at_t.edges())\n",
    "            if scenario == 'medium': # TODO\n",
    "                running_users = [str(x) for x,y in running_graph.nodes(data=True) if y['node_type']=='user']\n",
    "                running_tweets = []\n",
    "                for head, tail, data in graph_at_t.edges(data=True):\n",
    "                    if data['edge_type']=='tweet' and tail in running_users:\n",
    "                        running_tweets.append(head)\n",
    "                    elif data['edge_type']=='retweet' and head in running_users:\n",
    "                        running_tweets.append(tail)\n",
    "\n",
    "                filtered_graph_at_t = graph_at_t.subgraph(running_users+running_tweets)\n",
    "                print('{}: Filtered graph at t: {} nodes, {} edges\\n'.format(t, len(filtered_graph_at_t), len(filtered_graph_at_t.edges())))\n",
    "\n",
    "                running_graph.update(filtered_graph_at_t)\n",
    "                print('{}: Updated running graph: {} nodes, {} edges\\n'.format(t, len(running_graph), len(running_graph.edges())))\n",
    "\n",
    "''' Temporal Split of network '''\n",
    "users = [str(x) for x,y in target_graph.nodes(data=True) if y['node_type']=='user']\n",
    "tweets = [str(x) for x,y in target_graph.nodes(data=True) if y['node_type']=='tweet']\n",
    "\n",
    "reduced_user_graph = nx.DiGraph()\n",
    "for user in users:\n",
    "    retweet_edges = reduced_graph.out_edges(user)\n",
    "    for _, retweeted_tweet in retweet_edges:\n",
    "        tweet_edges = list(reduced_graph.out_edges(retweeted_tweet))\n",
    "        for _, tweet_author in tweet_edges:\n",
    "            head = users.index(user)\n",
    "            tail = users.index(tweet_author)\n",
    "\n",
    "            reduced_user_graph.add_edge(head, tail) \n",
    "\n",
    "\n",
    "''' Remove all nodes with degree greater than '''\n",
    "remove = [node for node,degree in dict(reduced_user_graph.in_degree()).items() if degree > 50]\n",
    "print(len(remove))\n",
    "\n",
    "target_graph.remove_nodes_from(remove)\n",
    "\n",
    "reduced_graph.remove_nodes_from(remove)\n",
    "largest_cc = max(nx.connected_components(reduced_graph.to_undirected()), key=len)\n",
    "reduced_graph = reduced_graph.subgraph(largest_cc).copy()\n",
    "\n",
    "reduced_user_graph.remove_nodes_from(remove)\n",
    "largest_cc = max(nx.connected_components(reduced_user_graph.to_undirected()), key=len)\n",
    "reduced_user_graph = reduced_user_graph.subgraph(largest_cc).copy()\n",
    "\n",
    "''' Create Result Edges '''\n",
    "result_edges = []\n",
    "tweet_start_idx = len(users)\n",
    "for head, tail in reduced_user_graph.edges:\n",
    "    result_edges.append((\n",
    "        head, tail, 'follow',\n",
    "        '2-chain', 'user', 'user', 0\n",
    "    ))\n",
    "\n",
    "\n",
    "for head, tail, data in reduced_graph.edges(data=True):\n",
    "    edge_type = data['edge_type']\n",
    "\n",
    "    if edge_type == 'retweet':\n",
    "        head = users.index(head)\n",
    "        head_type = 'user'\n",
    "\n",
    "        tail = tweets.index(tail) + tweet_start_idx\n",
    "        tail_type = 'tweet'\n",
    "    elif edge_type == 'tweet':\n",
    "        head = tweets.index(head) + tweet_start_idx\n",
    "        head_type = 'tweet'\n",
    "\n",
    "        tail = users.index(tail)\n",
    "        tail_type = 'user'\n",
    "    else:\n",
    "        raise Exception(\"Edge type {} not supported\".format(edge_type))\n",
    "\n",
    "    result_edges.append((\n",
    "        head, tail, edge_type,\n",
    "        '1-chain', head_type, tail_type, 0\n",
    "    ))\n",
    "\n",
    "\n",
    "\n",
    "target_user_graph = nx.DiGraph()\n",
    "for user in users:\n",
    "    retweet_edges = target_graph.out_edges(user)\n",
    "    for _, retweeted_tweet in retweet_edges:\n",
    "        tweet_edges = list(target_graph.out_edges(retweeted_tweet))\n",
    "        for _, tweet_author in tweet_edges:\n",
    "            head = users.index(user)\n",
    "            tail = users.index(tweet_author)\n",
    "\n",
    "            target_user_graph.add_edge(head, tail) \n",
    "\n",
    "print(\"Target Twitter Graph: {} nodes, {} edges\".format(len(target_graph), len(target_graph.edges())))\n",
    "print(\"Reduced Twitter Graph: {} nodes, {} edges\".format(len(reduced_graph), len(reduced_graph.edges())))\n",
    "print(\"Target User Graph: {} nodes, {} edges\".format(len(target_user_graph), len(target_user_graph.edges())))\n",
    "print(\"Reduced User Graph: {} nodes, {} edges\".format(len(reduced_user_graph), len(reduced_user_graph.edges())))\n",
    "\n",
    "nx.write_gexf(reduced_graph, os.path.join(data_dir, \"reduced_twitter_graph.gexf\"))\n",
    "nx.write_gexf(target_graph, os.path.join(data_dir, \"target_twitter_graph.gexf\"))\n",
    "\n",
    "reduced_community_mapper = init_community_mapper(reduced_user_graph)\n",
    "nx.set_node_attributes(reduced_user_graph, reduced_community_mapper, 'block')\n",
    "nx.write_gexf(reduced_user_graph, os.path.join(data_dir, \"reduced_user_graph.gexf\"))\n",
    "\n",
    "target_community_mapper = init_community_mapper(target_user_graph)\n",
    "nx.set_node_attributes(target_user_graph, target_community_mapper, 'block')\n",
    "nx.write_gexf(target_user_graph, os.path.join(data_dir, \"target_user_graph.gexf\"))\n",
    "\n",
    "out_edge_df = pd.DataFrame(result_edges, columns=['head', 'tail', 'edge_type', 'query_type', 'head_type', 'tail_type', 'bin'])\n",
    "out_edge_df.to_csv(os.path.join(data_dir, \"edges.csv\"))\n",
    "\n",
    "with open(os.path.join(data_dir, \"num_entities.csv\"), 'w', newline='') as f:  \n",
    "    csv_writer = csv.writer(f, delimiter=',')\n",
    "    csv_writer.writerow(['user', 'tweet'])\n",
    "    csv_writer.writerow([len(users), len(tweets)])\n",
    "\n",
    "# TODO: Improve\n",
    "with open(os.path.join(data_dir, \"edge_types.csv\"), 'w', newline='') as f:\n",
    "    csv_writer = csv.writer(f, delimiter=',')\n",
    "    csv_writer.writerow(['edge_type', 'edge_tuple'])\n",
    "    csv_writer.writerow(['retweet', (0,)])\n",
    "    csv_writer.writerow(['tweet', (1,)])\n",
    "    csv_writer.writerow(['follow', (0,1)])"
   ]
  },
  {
   "cell_type": "code",
   "execution_count": null,
   "id": "de82c6fc-2839-41cf-bab5-2dfe63cc28d9",
   "metadata": {},
   "outputs": [],
   "source": []
  }
 ],
 "metadata": {
  "kernelspec": {
   "display_name": "Python 3 (ipykernel)",
   "language": "python",
   "name": "python3"
  },
  "language_info": {
   "codemirror_mode": {
    "name": "ipython",
    "version": 3
   },
   "file_extension": ".py",
   "mimetype": "text/x-python",
   "name": "python",
   "nbconvert_exporter": "python",
   "pygments_lexer": "ipython3",
   "version": "3.10.8"
  }
 },
 "nbformat": 4,
 "nbformat_minor": 5
}
