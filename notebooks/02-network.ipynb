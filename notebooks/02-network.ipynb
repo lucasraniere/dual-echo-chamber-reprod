{
 "cells": [
  {
   "cell_type": "markdown",
   "id": "001c5b43-d42e-47da-a0ca-a9aba3d3fd91",
   "metadata": {},
   "source": [
    "# __Network Creation and Analysis__"
   ]
  },
  {
   "cell_type": "code",
   "execution_count": 10,
   "id": "29537105-0bc6-4c9e-9ff8-942c23cec29e",
   "metadata": {
    "execution": {
     "iopub.execute_input": "2022-12-12T20:00:40.359321Z",
     "iopub.status.busy": "2022-12-12T20:00:40.359246Z",
     "iopub.status.idle": "2022-12-12T20:00:40.361393Z",
     "shell.execute_reply": "2022-12-12T20:00:40.361090Z",
     "shell.execute_reply.started": "2022-12-12T20:00:40.359309Z"
    },
    "tags": []
   },
   "outputs": [],
   "source": [
    "import pandas as pd\n",
    "import networkx as nx\n",
    "from datetime import datetime, timedelta"
   ]
  },
  {
   "cell_type": "markdown",
   "id": "bfedbf7a-7a11-466a-9c91-3971c9a64c42",
   "metadata": {},
   "source": [
    "### Data"
   ]
  },
  {
   "cell_type": "code",
   "execution_count": 11,
   "id": "d1cec4a7-3ac8-4ed8-98df-309ff38d6e73",
   "metadata": {
    "execution": {
     "iopub.execute_input": "2022-12-12T20:00:40.362956Z",
     "iopub.status.busy": "2022-12-12T20:00:40.362880Z",
     "iopub.status.idle": "2022-12-12T20:00:40.370066Z",
     "shell.execute_reply": "2022-12-12T20:00:40.369781Z",
     "shell.execute_reply.started": "2022-12-12T20:00:40.362946Z"
    },
    "tags": []
   },
   "outputs": [],
   "source": [
    "data_path = {\n",
    "    'tweets': '../data/tweets/',\n",
    "    'network': '../data/network/'\n",
    "}"
   ]
  },
  {
   "cell_type": "code",
   "execution_count": 12,
   "id": "e4cbab02-b457-47a6-917f-901f3f4c1c89",
   "metadata": {
    "execution": {
     "iopub.execute_input": "2022-12-12T20:00:40.370636Z",
     "iopub.status.busy": "2022-12-12T20:00:40.370414Z",
     "iopub.status.idle": "2022-12-12T20:00:40.422774Z",
     "shell.execute_reply": "2022-12-12T20:00:40.422425Z",
     "shell.execute_reply.started": "2022-12-12T20:00:40.370621Z"
    }
   },
   "outputs": [
    {
     "data": {
      "text/plain": [
       "(6875, 14)"
      ]
     },
     "execution_count": 12,
     "metadata": {},
     "output_type": "execute_result"
    }
   ],
   "source": [
    "tweets_df = pd.read_csv(data_path['tweets']+'merged_data.csv')\n",
    "tweets_df = tweets_df.query('is_retweet == True')\n",
    "\n",
    "tweets_df.shape"
   ]
  },
  {
   "cell_type": "code",
   "execution_count": 13,
   "id": "445de050-035d-4a1b-ad66-aff4bb356003",
   "metadata": {
    "execution": {
     "iopub.execute_input": "2022-12-12T20:00:40.423284Z",
     "iopub.status.busy": "2022-12-12T20:00:40.423198Z",
     "iopub.status.idle": "2022-12-12T20:00:40.432664Z",
     "shell.execute_reply": "2022-12-12T20:00:40.432119Z",
     "shell.execute_reply.started": "2022-12-12T20:00:40.423274Z"
    }
   },
   "outputs": [
    {
     "data": {
      "text/html": [
       "<div>\n",
       "<style scoped>\n",
       "    .dataframe tbody tr th:only-of-type {\n",
       "        vertical-align: middle;\n",
       "    }\n",
       "\n",
       "    .dataframe tbody tr th {\n",
       "        vertical-align: top;\n",
       "    }\n",
       "\n",
       "    .dataframe thead th {\n",
       "        text-align: right;\n",
       "    }\n",
       "</style>\n",
       "<table border=\"1\" class=\"dataframe\">\n",
       "  <thead>\n",
       "    <tr style=\"text-align: right;\">\n",
       "      <th></th>\n",
       "      <th>created_at</th>\n",
       "      <th>tweet_id</th>\n",
       "      <th>tweet_content</th>\n",
       "      <th>user</th>\n",
       "      <th>user_info</th>\n",
       "      <th>has_mention</th>\n",
       "      <th>mentions</th>\n",
       "      <th>is_reply</th>\n",
       "      <th>reply_to</th>\n",
       "      <th>is_quote</th>\n",
       "      <th>quoted_from</th>\n",
       "      <th>is_retweet</th>\n",
       "      <th>retweeted_from</th>\n",
       "      <th>hashtags</th>\n",
       "    </tr>\n",
       "  </thead>\n",
       "  <tbody>\n",
       "    <tr>\n",
       "      <th>1783</th>\n",
       "      <td>2022-11-22 20:51:35</td>\n",
       "      <td>1595158073370640384</td>\n",
       "      <td>Xandão está desesperado, pois sabe que pode se...</td>\n",
       "      <td>CludiaMascaren6</td>\n",
       "      <td>{'id': 1358532762299416579, 'name': 'CláudiaMa...</td>\n",
       "      <td>False</td>\n",
       "      <td>NaN</td>\n",
       "      <td>False</td>\n",
       "      <td>NaN</td>\n",
       "      <td>False</td>\n",
       "      <td>NaN</td>\n",
       "      <td>True</td>\n",
       "      <td>{'user': 'joaovoltou', 'user_id': 158583396570...</td>\n",
       "      <td>['#BolsonaroReeleito']</td>\n",
       "    </tr>\n",
       "    <tr>\n",
       "      <th>3483</th>\n",
       "      <td>2022-11-22 23:08:51</td>\n",
       "      <td>1595192617112846336</td>\n",
       "      <td>SOBRE O RELATÓRIO DO P.L.: VAMOS AGUARDAR A AN...</td>\n",
       "      <td>MassisanaLima</td>\n",
       "      <td>{'id': 317320395, 'name': 'Massisana Figueired...</td>\n",
       "      <td>False</td>\n",
       "      <td>NaN</td>\n",
       "      <td>False</td>\n",
       "      <td>NaN</td>\n",
       "      <td>False</td>\n",
       "      <td>NaN</td>\n",
       "      <td>True</td>\n",
       "      <td>{'user': 'JoaquinTeixeira', 'user_id': 4641281...</td>\n",
       "      <td>['#BolsonaroReeleito']</td>\n",
       "    </tr>\n",
       "    <tr>\n",
       "      <th>4859</th>\n",
       "      <td>2022-11-22 23:11:52</td>\n",
       "      <td>1595193372934897664</td>\n",
       "      <td>Bolsonaro 51% é a piada da vez! esse povo aluc...</td>\n",
       "      <td>DavidSa35681946</td>\n",
       "      <td>{'id': 1474433629191344128, 'name': 'David San...</td>\n",
       "      <td>False</td>\n",
       "      <td>NaN</td>\n",
       "      <td>False</td>\n",
       "      <td>NaN</td>\n",
       "      <td>False</td>\n",
       "      <td>NaN</td>\n",
       "      <td>True</td>\n",
       "      <td>{'user': 'consallys', 'user_id': 1388223655029...</td>\n",
       "      <td>NaN</td>\n",
       "    </tr>\n",
       "    <tr>\n",
       "      <th>1188</th>\n",
       "      <td>2022-11-22 22:05:52</td>\n",
       "      <td>1595176765269352450</td>\n",
       "      <td>O TSE tem que entregar o Código Fonte e reconh...</td>\n",
       "      <td>NovacSil</td>\n",
       "      <td>{'id': 1577489902274494468, 'name': 'Sil 🇧🇷💛',...</td>\n",
       "      <td>False</td>\n",
       "      <td>NaN</td>\n",
       "      <td>False</td>\n",
       "      <td>NaN</td>\n",
       "      <td>False</td>\n",
       "      <td>NaN</td>\n",
       "      <td>True</td>\n",
       "      <td>{'user': 'vanete_araujo', 'user_id': 138290417...</td>\n",
       "      <td>['#BolsonaroReeleito']</td>\n",
       "    </tr>\n",
       "    <tr>\n",
       "      <th>4179</th>\n",
       "      <td>2022-11-23 00:36:41</td>\n",
       "      <td>1595214717966065665</td>\n",
       "      <td>O LULA TÁ ELEITO\\n\\nImprensa estrangeira: Cand...</td>\n",
       "      <td>Tatiana73985584</td>\n",
       "      <td>{'id': 1592825763530768386, 'name': 'Tatiana M...</td>\n",
       "      <td>False</td>\n",
       "      <td>NaN</td>\n",
       "      <td>False</td>\n",
       "      <td>NaN</td>\n",
       "      <td>False</td>\n",
       "      <td>NaN</td>\n",
       "      <td>True</td>\n",
       "      <td>{'user': 'MarcelaSaraivas', 'user_id': 3075645...</td>\n",
       "      <td>NaN</td>\n",
       "    </tr>\n",
       "  </tbody>\n",
       "</table>\n",
       "</div>"
      ],
      "text/plain": [
       "               created_at             tweet_id  \\\n",
       "1783  2022-11-22 20:51:35  1595158073370640384   \n",
       "3483  2022-11-22 23:08:51  1595192617112846336   \n",
       "4859  2022-11-22 23:11:52  1595193372934897664   \n",
       "1188  2022-11-22 22:05:52  1595176765269352450   \n",
       "4179  2022-11-23 00:36:41  1595214717966065665   \n",
       "\n",
       "                                          tweet_content             user  \\\n",
       "1783  Xandão está desesperado, pois sabe que pode se...  CludiaMascaren6   \n",
       "3483  SOBRE O RELATÓRIO DO P.L.: VAMOS AGUARDAR A AN...    MassisanaLima   \n",
       "4859  Bolsonaro 51% é a piada da vez! esse povo aluc...  DavidSa35681946   \n",
       "1188  O TSE tem que entregar o Código Fonte e reconh...         NovacSil   \n",
       "4179  O LULA TÁ ELEITO\\n\\nImprensa estrangeira: Cand...  Tatiana73985584   \n",
       "\n",
       "                                              user_info  has_mention mentions  \\\n",
       "1783  {'id': 1358532762299416579, 'name': 'CláudiaMa...        False      NaN   \n",
       "3483  {'id': 317320395, 'name': 'Massisana Figueired...        False      NaN   \n",
       "4859  {'id': 1474433629191344128, 'name': 'David San...        False      NaN   \n",
       "1188  {'id': 1577489902274494468, 'name': 'Sil 🇧🇷💛',...        False      NaN   \n",
       "4179  {'id': 1592825763530768386, 'name': 'Tatiana M...        False      NaN   \n",
       "\n",
       "      is_reply reply_to  is_quote  quoted_from  is_retweet  \\\n",
       "1783     False      NaN     False          NaN        True   \n",
       "3483     False      NaN     False          NaN        True   \n",
       "4859     False      NaN     False          NaN        True   \n",
       "1188     False      NaN     False          NaN        True   \n",
       "4179     False      NaN     False          NaN        True   \n",
       "\n",
       "                                         retweeted_from  \\\n",
       "1783  {'user': 'joaovoltou', 'user_id': 158583396570...   \n",
       "3483  {'user': 'JoaquinTeixeira', 'user_id': 4641281...   \n",
       "4859  {'user': 'consallys', 'user_id': 1388223655029...   \n",
       "1188  {'user': 'vanete_araujo', 'user_id': 138290417...   \n",
       "4179  {'user': 'MarcelaSaraivas', 'user_id': 3075645...   \n",
       "\n",
       "                    hashtags  \n",
       "1783  ['#BolsonaroReeleito']  \n",
       "3483  ['#BolsonaroReeleito']  \n",
       "4859                     NaN  \n",
       "1188  ['#BolsonaroReeleito']  \n",
       "4179                     NaN  "
      ]
     },
     "execution_count": 13,
     "metadata": {},
     "output_type": "execute_result"
    }
   ],
   "source": [
    "tweets_df.sample(5)"
   ]
  },
  {
   "cell_type": "code",
   "execution_count": 14,
   "id": "b8fc4641-4508-489c-bfa3-aa1274c5a7d6",
   "metadata": {
    "execution": {
     "iopub.execute_input": "2022-12-12T20:00:40.433923Z",
     "iopub.status.busy": "2022-12-12T20:00:40.433707Z",
     "iopub.status.idle": "2022-12-12T20:00:40.442464Z",
     "shell.execute_reply": "2022-12-12T20:00:40.440318Z",
     "shell.execute_reply.started": "2022-12-12T20:00:40.433898Z"
    },
    "tags": []
   },
   "outputs": [],
   "source": [
    "tweets_df.sort_values(by='created_at', inplace=True)"
   ]
  },
  {
   "cell_type": "code",
   "execution_count": 15,
   "id": "ffcf11ac-1ea5-4692-a0b8-81d2a5ea051b",
   "metadata": {
    "execution": {
     "iopub.execute_input": "2022-12-12T20:00:40.443052Z",
     "iopub.status.busy": "2022-12-12T20:00:40.442928Z",
     "iopub.status.idle": "2022-12-12T20:00:40.453347Z",
     "shell.execute_reply": "2022-12-12T20:00:40.452981Z",
     "shell.execute_reply.started": "2022-12-12T20:00:40.443036Z"
    }
   },
   "outputs": [
    {
     "data": {
      "text/html": [
       "<div>\n",
       "<style scoped>\n",
       "    .dataframe tbody tr th:only-of-type {\n",
       "        vertical-align: middle;\n",
       "    }\n",
       "\n",
       "    .dataframe tbody tr th {\n",
       "        vertical-align: top;\n",
       "    }\n",
       "\n",
       "    .dataframe thead th {\n",
       "        text-align: right;\n",
       "    }\n",
       "</style>\n",
       "<table border=\"1\" class=\"dataframe\">\n",
       "  <thead>\n",
       "    <tr style=\"text-align: right;\">\n",
       "      <th></th>\n",
       "      <th>created_at</th>\n",
       "      <th>tweet_id</th>\n",
       "      <th>tweet_content</th>\n",
       "      <th>user</th>\n",
       "      <th>user_info</th>\n",
       "      <th>has_mention</th>\n",
       "      <th>mentions</th>\n",
       "      <th>is_reply</th>\n",
       "      <th>reply_to</th>\n",
       "      <th>is_quote</th>\n",
       "      <th>quoted_from</th>\n",
       "      <th>is_retweet</th>\n",
       "      <th>retweeted_from</th>\n",
       "      <th>hashtags</th>\n",
       "    </tr>\n",
       "  </thead>\n",
       "  <tbody>\n",
       "    <tr>\n",
       "      <th>5127</th>\n",
       "      <td>2022-11-22 19:29:08</td>\n",
       "      <td>1595137323385376768</td>\n",
       "      <td>Bora ganhar também o 4º turno dessas eleições....</td>\n",
       "      <td>zurenemanique</td>\n",
       "      <td>{'id': 1273599615535853569, 'name': 'zu maniqu...</td>\n",
       "      <td>False</td>\n",
       "      <td>NaN</td>\n",
       "      <td>False</td>\n",
       "      <td>NaN</td>\n",
       "      <td>False</td>\n",
       "      <td>NaN</td>\n",
       "      <td>True</td>\n",
       "      <td>{'user': '_Janoninho', 'user_id': 156389790744...</td>\n",
       "      <td>NaN</td>\n",
       "    </tr>\n",
       "  </tbody>\n",
       "</table>\n",
       "</div>"
      ],
      "text/plain": [
       "               created_at             tweet_id  \\\n",
       "5127  2022-11-22 19:29:08  1595137323385376768   \n",
       "\n",
       "                                          tweet_content           user  \\\n",
       "5127  Bora ganhar também o 4º turno dessas eleições....  zurenemanique   \n",
       "\n",
       "                                              user_info  has_mention mentions  \\\n",
       "5127  {'id': 1273599615535853569, 'name': 'zu maniqu...        False      NaN   \n",
       "\n",
       "      is_reply reply_to  is_quote  quoted_from  is_retweet  \\\n",
       "5127     False      NaN     False          NaN        True   \n",
       "\n",
       "                                         retweeted_from hashtags  \n",
       "5127  {'user': '_Janoninho', 'user_id': 156389790744...      NaN  "
      ]
     },
     "execution_count": 15,
     "metadata": {},
     "output_type": "execute_result"
    }
   ],
   "source": [
    "tweets_df.head(1)"
   ]
  },
  {
   "cell_type": "code",
   "execution_count": 16,
   "id": "732e7bcb-0196-4ab6-ace5-c2d58041f4c4",
   "metadata": {
    "execution": {
     "iopub.execute_input": "2022-12-12T20:00:40.454066Z",
     "iopub.status.busy": "2022-12-12T20:00:40.453929Z",
     "iopub.status.idle": "2022-12-12T20:00:40.461679Z",
     "shell.execute_reply": "2022-12-12T20:00:40.461319Z",
     "shell.execute_reply.started": "2022-12-12T20:00:40.454048Z"
    },
    "tags": []
   },
   "outputs": [
    {
     "data": {
      "text/html": [
       "<div>\n",
       "<style scoped>\n",
       "    .dataframe tbody tr th:only-of-type {\n",
       "        vertical-align: middle;\n",
       "    }\n",
       "\n",
       "    .dataframe tbody tr th {\n",
       "        vertical-align: top;\n",
       "    }\n",
       "\n",
       "    .dataframe thead th {\n",
       "        text-align: right;\n",
       "    }\n",
       "</style>\n",
       "<table border=\"1\" class=\"dataframe\">\n",
       "  <thead>\n",
       "    <tr style=\"text-align: right;\">\n",
       "      <th></th>\n",
       "      <th>created_at</th>\n",
       "      <th>tweet_id</th>\n",
       "      <th>tweet_content</th>\n",
       "      <th>user</th>\n",
       "      <th>user_info</th>\n",
       "      <th>has_mention</th>\n",
       "      <th>mentions</th>\n",
       "      <th>is_reply</th>\n",
       "      <th>reply_to</th>\n",
       "      <th>is_quote</th>\n",
       "      <th>quoted_from</th>\n",
       "      <th>is_retweet</th>\n",
       "      <th>retweeted_from</th>\n",
       "      <th>hashtags</th>\n",
       "    </tr>\n",
       "  </thead>\n",
       "  <tbody>\n",
       "    <tr>\n",
       "      <th>218</th>\n",
       "      <td>2022-11-23 02:58:59</td>\n",
       "      <td>1595250529164304390</td>\n",
       "      <td>Bolsonaro 51%\\n#BolsonaroReeleito \\n\\nNão me C...</td>\n",
       "      <td>guiferreiracode</td>\n",
       "      <td>{'id': 1497584853184921604, 'name': 'Guilherme...</td>\n",
       "      <td>False</td>\n",
       "      <td>NaN</td>\n",
       "      <td>False</td>\n",
       "      <td>NaN</td>\n",
       "      <td>False</td>\n",
       "      <td>NaN</td>\n",
       "      <td>True</td>\n",
       "      <td>{'user': 'KaiolOof', 'user_id': 15031679523712...</td>\n",
       "      <td>['#BolsonaroReeleito']</td>\n",
       "    </tr>\n",
       "  </tbody>\n",
       "</table>\n",
       "</div>"
      ],
      "text/plain": [
       "              created_at             tweet_id  \\\n",
       "218  2022-11-23 02:58:59  1595250529164304390   \n",
       "\n",
       "                                         tweet_content             user  \\\n",
       "218  Bolsonaro 51%\\n#BolsonaroReeleito \\n\\nNão me C...  guiferreiracode   \n",
       "\n",
       "                                             user_info  has_mention mentions  \\\n",
       "218  {'id': 1497584853184921604, 'name': 'Guilherme...        False      NaN   \n",
       "\n",
       "     is_reply reply_to  is_quote  quoted_from  is_retweet  \\\n",
       "218     False      NaN     False          NaN        True   \n",
       "\n",
       "                                        retweeted_from                hashtags  \n",
       "218  {'user': 'KaiolOof', 'user_id': 15031679523712...  ['#BolsonaroReeleito']  "
      ]
     },
     "execution_count": 16,
     "metadata": {},
     "output_type": "execute_result"
    }
   ],
   "source": [
    "tweets_df.tail(1)"
   ]
  },
  {
   "cell_type": "code",
   "execution_count": 17,
   "id": "c503eece-aaf1-47ca-8d13-b241dbc41539",
   "metadata": {
    "execution": {
     "iopub.execute_input": "2022-12-12T20:00:40.462589Z",
     "iopub.status.busy": "2022-12-12T20:00:40.462349Z",
     "iopub.status.idle": "2022-12-12T20:00:40.534495Z",
     "shell.execute_reply": "2022-12-12T20:00:40.533961Z",
     "shell.execute_reply.started": "2022-12-12T20:00:40.462562Z"
    },
    "tags": []
   },
   "outputs": [
    {
     "name": "stdout",
     "output_type": "stream",
     "text": [
      "\n",
      "Min date/time: 2022-11-22 16:29:08\n",
      "Max date/time: 2022-11-22 23:58:59\n",
      "\n"
     ]
    }
   ],
   "source": [
    "# converting date to GMT-3\n",
    "\n",
    "def convert_2_gmt_br(date):\n",
    "    date = datetime.strptime(date, '%Y-%m-%d %H:%M:%S')\n",
    "    date = date - timedelta(hours=3)\n",
    "    date = datetime.strftime(date, '%Y-%m-%d %H:%M:%S')\n",
    "    return date\n",
    "\n",
    "tweets_df['created_at'] = tweets_df['created_at'].apply(lambda x: convert_2_gmt_br(str(x)))\n",
    "\n",
    "print(f'''\n",
    "Min date/time: {tweets_df['created_at'].min()}\n",
    "Max date/time: {tweets_df['created_at'].max()}\n",
    "''')"
   ]
  },
  {
   "cell_type": "markdown",
   "id": "9b099b3e-3d1a-4628-9e81-d2d2166947ff",
   "metadata": {},
   "source": [
    "### Network"
   ]
  },
  {
   "cell_type": "code",
   "execution_count": 18,
   "id": "b76f16c1-a05d-48aa-9ab4-c35bbf917e2e",
   "metadata": {
    "execution": {
     "iopub.execute_input": "2022-12-12T20:00:40.535275Z",
     "iopub.status.busy": "2022-12-12T20:00:40.535101Z",
     "iopub.status.idle": "2022-12-12T20:00:40.922493Z",
     "shell.execute_reply": "2022-12-12T20:00:40.922162Z",
     "shell.execute_reply.started": "2022-12-12T20:00:40.535261Z"
    },
    "tags": []
   },
   "outputs": [
    {
     "data": {
      "text/plain": [
       "(6875, 3)"
      ]
     },
     "execution_count": 18,
     "metadata": {},
     "output_type": "execute_result"
    }
   ],
   "source": [
    "# creating edges dataframes\n",
    "\n",
    "edges = {\n",
    "    'created_at': [],\n",
    "    'source': [],\n",
    "    'target': []\n",
    "}\n",
    "\n",
    "for idx, row in tweets_df.iterrows():\n",
    "    edges['created_at'].append(row['created_at'])\n",
    "    edges['source'].append(row['user'])\n",
    "    edges['target'].append(eval(row['retweeted_from'])['user'])\n",
    "\n",
    "edges_wt_df = pd.DataFrame(data=edges)\n",
    "\n",
    "edges_wt_df.shape"
   ]
  },
  {
   "cell_type": "code",
   "execution_count": 19,
   "id": "cfdb160b-6405-4124-ba6f-21c4d78c2081",
   "metadata": {
    "execution": {
     "iopub.execute_input": "2022-12-12T20:00:40.923156Z",
     "iopub.status.busy": "2022-12-12T20:00:40.922977Z",
     "iopub.status.idle": "2022-12-12T20:00:40.926181Z",
     "shell.execute_reply": "2022-12-12T20:00:40.925808Z",
     "shell.execute_reply.started": "2022-12-12T20:00:40.923139Z"
    },
    "tags": []
   },
   "outputs": [],
   "source": [
    "edges_df = edges_wt_df[['source', 'target']]"
   ]
  },
  {
   "cell_type": "code",
   "execution_count": 20,
   "id": "e3be96e3-eea2-4945-a2a1-c547fdcdaec3",
   "metadata": {
    "execution": {
     "iopub.execute_input": "2022-12-12T20:00:40.926889Z",
     "iopub.status.busy": "2022-12-12T20:00:40.926668Z",
     "iopub.status.idle": "2022-12-12T20:00:40.951978Z",
     "shell.execute_reply": "2022-12-12T20:00:40.951619Z",
     "shell.execute_reply.started": "2022-12-12T20:00:40.926878Z"
    },
    "tags": []
   },
   "outputs": [],
   "source": [
    "edges_df.to_csv(data_path['network']+'edges.csv', index=False)\n",
    "edges_wt_df.to_csv(data_path['network']+'edges_with_time.csv', index=False)"
   ]
  },
  {
   "cell_type": "code",
   "execution_count": 21,
   "id": "06e8b397-da9b-4f6b-a68c-a92300dd75a4",
   "metadata": {
    "execution": {
     "iopub.execute_input": "2022-12-12T20:00:40.952577Z",
     "iopub.status.busy": "2022-12-12T20:00:40.952448Z",
     "iopub.status.idle": "2022-12-12T20:00:40.958546Z",
     "shell.execute_reply": "2022-12-12T20:00:40.958260Z",
     "shell.execute_reply.started": "2022-12-12T20:00:40.952566Z"
    },
    "tags": []
   },
   "outputs": [
    {
     "data": {
      "text/plain": [
       "MultiIndex([(     'VidorLu',   'joaodomenech'),\n",
       "            (     'VidorLu',     '_Janoninho'),\n",
       "            (    'bozo_bot', 'marcosaraujjoo'),\n",
       "            ('joaodomenech',   'joaodomenech'),\n",
       "            ( 'GuedesMyrna',     '_Janoninho')],\n",
       "           names=['source', 'target'])"
      ]
     },
     "execution_count": 21,
     "metadata": {},
     "output_type": "execute_result"
    }
   ],
   "source": [
    "edges_df.value_counts().index[:5]"
   ]
  },
  {
   "cell_type": "code",
   "execution_count": 22,
   "id": "fd176d06-fb96-4458-9a13-65e11c7f3feb",
   "metadata": {
    "execution": {
     "iopub.execute_input": "2022-12-12T20:00:40.959104Z",
     "iopub.status.busy": "2022-12-12T20:00:40.958969Z",
     "iopub.status.idle": "2022-12-12T20:00:40.992447Z",
     "shell.execute_reply": "2022-12-12T20:00:40.992154Z",
     "shell.execute_reply.started": "2022-12-12T20:00:40.959093Z"
    },
    "tags": []
   },
   "outputs": [
    {
     "data": {
      "text/plain": [
       "(5896, 3)"
      ]
     },
     "execution_count": 22,
     "metadata": {},
     "output_type": "execute_result"
    }
   ],
   "source": [
    "w_edges = {\n",
    "    'source':[],\n",
    "    'target':[],\n",
    "    'weight':[]\n",
    "}\n",
    "\n",
    "for edge, weight in list(zip(edges_df.value_counts().index, edges_df.value_counts().values)):\n",
    "    w_edges['source'].append(edge[0])\n",
    "    w_edges['target'].append(edge[1])\n",
    "    w_edges['weight'].append(weight)\n",
    "\n",
    "w_edges_df = pd.DataFrame(data=w_edges)\n",
    "w_edges_df.to_csv(data_path['network']+'weighted_edges.csv', index=False)\n",
    "w_edges_df.shape5"
   ]
  },
  {
   "cell_type": "code",
   "execution_count": 24,
   "id": "7435e058-ed12-47b4-a264-39500542ad9b",
   "metadata": {
    "execution": {
     "iopub.execute_input": "2022-12-12T20:02:21.679993Z",
     "iopub.status.busy": "2022-12-12T20:02:21.679822Z",
     "iopub.status.idle": "2022-12-12T20:02:21.685337Z",
     "shell.execute_reply": "2022-12-12T20:02:21.684811Z",
     "shell.execute_reply.started": "2022-12-12T20:02:21.679981Z"
    },
    "tags": []
   },
   "outputs": [
    {
     "data": {
      "text/html": [
       "<div>\n",
       "<style scoped>\n",
       "    .dataframe tbody tr th:only-of-type {\n",
       "        vertical-align: middle;\n",
       "    }\n",
       "\n",
       "    .dataframe tbody tr th {\n",
       "        vertical-align: top;\n",
       "    }\n",
       "\n",
       "    .dataframe thead th {\n",
       "        text-align: right;\n",
       "    }\n",
       "</style>\n",
       "<table border=\"1\" class=\"dataframe\">\n",
       "  <thead>\n",
       "    <tr style=\"text-align: right;\">\n",
       "      <th></th>\n",
       "      <th>source</th>\n",
       "      <th>target</th>\n",
       "      <th>weight</th>\n",
       "    </tr>\n",
       "  </thead>\n",
       "  <tbody>\n",
       "    <tr>\n",
       "      <th>2855</th>\n",
       "      <td>lucas33074852</td>\n",
       "      <td>euailze</td>\n",
       "      <td>1</td>\n",
       "    </tr>\n",
       "    <tr>\n",
       "      <th>2830</th>\n",
       "      <td>mae_tarjapreta</td>\n",
       "      <td>joaodomenech</td>\n",
       "      <td>1</td>\n",
       "    </tr>\n",
       "    <tr>\n",
       "      <th>2101</th>\n",
       "      <td>wagnerlbc</td>\n",
       "      <td>AdrianeNelci</td>\n",
       "      <td>1</td>\n",
       "    </tr>\n",
       "    <tr>\n",
       "      <th>107</th>\n",
       "      <td>analucia3g</td>\n",
       "      <td>_Janoninho</td>\n",
       "      <td>4</td>\n",
       "    </tr>\n",
       "    <tr>\n",
       "      <th>3428</th>\n",
       "      <td>Guirodox_</td>\n",
       "      <td>euailze</td>\n",
       "      <td>1</td>\n",
       "    </tr>\n",
       "    <tr>\n",
       "      <th>4476</th>\n",
       "      <td>Pitchucky</td>\n",
       "      <td>RonaldoJBBarros</td>\n",
       "      <td>1</td>\n",
       "    </tr>\n",
       "    <tr>\n",
       "      <th>3548</th>\n",
       "      <td>HumbertoSozo</td>\n",
       "      <td>CinthiaMagal</td>\n",
       "      <td>1</td>\n",
       "    </tr>\n",
       "    <tr>\n",
       "      <th>5047</th>\n",
       "      <td>Reginal14480771</td>\n",
       "      <td>EstelaEuMesmaSC</td>\n",
       "      <td>1</td>\n",
       "    </tr>\n",
       "    <tr>\n",
       "      <th>1388</th>\n",
       "      <td>andrew_cid</td>\n",
       "      <td>PatriaAmada0709</td>\n",
       "      <td>1</td>\n",
       "    </tr>\n",
       "    <tr>\n",
       "      <th>2414</th>\n",
       "      <td>jchaves1111</td>\n",
       "      <td>UdaJuris2022</td>\n",
       "      <td>1</td>\n",
       "    </tr>\n",
       "  </tbody>\n",
       "</table>\n",
       "</div>"
      ],
      "text/plain": [
       "               source           target  weight\n",
       "2855    lucas33074852          euailze       1\n",
       "2830   mae_tarjapreta     joaodomenech       1\n",
       "2101        wagnerlbc     AdrianeNelci       1\n",
       "107        analucia3g       _Janoninho       4\n",
       "3428        Guirodox_          euailze       1\n",
       "4476        Pitchucky  RonaldoJBBarros       1\n",
       "3548     HumbertoSozo     CinthiaMagal       1\n",
       "5047  Reginal14480771  EstelaEuMesmaSC       1\n",
       "1388       andrew_cid  PatriaAmada0709       1\n",
       "2414      jchaves1111     UdaJuris2022       1"
      ]
     },
     "execution_count": 24,
     "metadata": {},
     "output_type": "execute_result"
    }
   ],
   "source": [
    "w_edges_df.sample(10)"
   ]
  },
  {
   "cell_type": "code",
   "execution_count": 26,
   "id": "18c68e52-9b92-4ea2-a740-bb55fc633cd7",
   "metadata": {
    "execution": {
     "iopub.execute_input": "2022-12-12T20:05:45.721436Z",
     "iopub.status.busy": "2022-12-12T20:05:45.721263Z",
     "iopub.status.idle": "2022-12-12T20:05:45.725423Z",
     "shell.execute_reply": "2022-12-12T20:05:45.725109Z",
     "shell.execute_reply.started": "2022-12-12T20:05:45.721415Z"
    },
    "tags": []
   },
   "outputs": [
    {
     "data": {
      "text/plain": [
       "1560"
      ]
     },
     "execution_count": 26,
     "metadata": {},
     "output_type": "execute_result"
    }
   ],
   "source": [
    "# unique users\n",
    "\n",
    "users = set(w_edges_df['source'].tolist()+w_edges_df['target'].tolist())\n",
    "len(users)"
   ]
  },
  {
   "cell_type": "markdown",
   "id": "30a28dba-12c1-400d-ad56-b313820123e5",
   "metadata": {},
   "source": [
    "### Time beans"
   ]
  },
  {
   "cell_type": "code",
   "execution_count": null,
   "id": "8d18c54e-2e3a-4924-97ad-ce496e606103",
   "metadata": {},
   "outputs": [],
   "source": []
  }
 ],
 "metadata": {
  "kernelspec": {
   "display_name": "Python 3 (ipykernel)",
   "language": "python",
   "name": "python3"
  },
  "language_info": {
   "codemirror_mode": {
    "name": "ipython",
    "version": 3
   },
   "file_extension": ".py",
   "mimetype": "text/x-python",
   "name": "python",
   "nbconvert_exporter": "python",
   "pygments_lexer": "ipython3",
   "version": "3.10.8"
  }
 },
 "nbformat": 4,
 "nbformat_minor": 5
}
