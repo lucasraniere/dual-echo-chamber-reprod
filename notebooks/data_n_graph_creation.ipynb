{
 "cells": [
  {
   "cell_type": "markdown",
   "id": "f539eb02-2396-4907-a1f4-f71c763261f9",
   "metadata": {},
   "source": [
    "# __Data and Graph Analysis__"
   ]
  },
  {
   "cell_type": "markdown",
   "id": "1e09fcdf-02eb-40b3-8fc2-2694c9cde1f0",
   "metadata": {},
   "source": [
    "Different from original paper, in our reproduction attemp we will use data collected before the Brazilian presidential ellection in 2022.\n",
    "\n",
    "The two terms used as search query to extract tweets were:\n",
    "\n",
    "    1. #BolsonaroReeleito\n",
    "    2. O LULA TÁ ELEITO\n",
    "    \n",
    "Both terms extracted in the same date, November 22nd, 2022."
   ]
  },
  {
   "cell_type": "code",
   "execution_count": 1,
   "id": "f3681167-a02b-428a-a5ec-e2713b9141d8",
   "metadata": {
    "execution": {
     "iopub.execute_input": "2022-12-01T17:09:10.432942Z",
     "iopub.status.busy": "2022-12-01T17:09:10.432708Z",
     "iopub.status.idle": "2022-12-01T17:09:10.944422Z",
     "shell.execute_reply": "2022-12-01T17:09:10.943996Z",
     "shell.execute_reply.started": "2022-12-01T17:09:10.432927Z"
    },
    "tags": []
   },
   "outputs": [],
   "source": [
    "import pandas as pd\n",
    "import matplotlib.pyplot as plt\n",
    "import networkx as nx"
   ]
  },
  {
   "cell_type": "code",
   "execution_count": 2,
   "id": "7e0a12f6-cabb-47e4-85f5-9aa487b4dc65",
   "metadata": {
    "execution": {
     "iopub.execute_input": "2022-12-01T17:09:11.399457Z",
     "iopub.status.busy": "2022-12-01T17:09:11.399288Z",
     "iopub.status.idle": "2022-12-01T17:09:11.730747Z",
     "shell.execute_reply": "2022-12-01T17:09:11.730351Z",
     "shell.execute_reply.started": "2022-12-01T17:09:11.399443Z"
    },
    "tags": []
   },
   "outputs": [],
   "source": [
    "data_path = '../data/tweets/'\n",
    "\n",
    "bols_df = pd.read_csv(data_path+'2022-11-22-#BolsonaroReeleito.csv')\n",
    "lula_df = pd.read_csv(data_path+'2022-11-22-O LULA TÁ ELEITO.csv')"
   ]
  },
  {
   "cell_type": "code",
   "execution_count": 3,
   "id": "5968cdbc-0f08-4630-af0d-a5830b833d13",
   "metadata": {
    "execution": {
     "iopub.execute_input": "2022-12-01T17:09:12.751573Z",
     "iopub.status.busy": "2022-12-01T17:09:12.751465Z",
     "iopub.status.idle": "2022-12-01T17:09:12.846941Z",
     "shell.execute_reply": "2022-12-01T17:09:12.846575Z",
     "shell.execute_reply.started": "2022-12-01T17:09:12.751561Z"
    },
    "tags": []
   },
   "outputs": [
    {
     "data": {
      "image/png": "[encoded data removed]",
      "text/plain": [
       "<Figure size 500x400 with 1 Axes>"
      ]
     },
     "metadata": {},
     "output_type": "display_data"
    }
   ],
   "source": [
    "fig, ax = plt.subplots(figsize=(5,4))\n",
    "ax.grid(True,\n",
    "        color='grey',\n",
    "        linestyle='-',\n",
    "        linewidth=0.5,\n",
    "        alpha=0.3,)\n",
    "plt.bar(\n",
    "    ['#BolsonaroReeleito', 'O LULA TÁ ELEITO'],\n",
    "    [bols_df.shape[0], lula_df.shape[0]],\n",
    "    width=0.35)\n",
    "for bars in ax.containers:\n",
    "    ax.bar_label(bars)\n",
    "plt.xlabel('Search query terms')\n",
    "plt.ylabel('Amount of tweets')\n",
    "plt.title('Extracted data')\n",
    "plt.show()"
   ]
  },
  {
   "cell_type": "code",
   "execution_count": 4,
   "id": "55ae0a18-7dd2-4915-8f03-6143946241b6",
   "metadata": {
    "execution": {
     "iopub.execute_input": "2022-12-01T17:09:16.615817Z",
     "iopub.status.busy": "2022-12-01T17:09:16.615127Z",
     "iopub.status.idle": "2022-12-01T17:09:16.623425Z",
     "shell.execute_reply": "2022-12-01T17:09:16.622907Z",
     "shell.execute_reply.started": "2022-12-01T17:09:16.615793Z"
    },
    "tags": []
   },
   "outputs": [],
   "source": [
    "bols_df.drop('Unnamed: 0', axis=1, inplace=True)\n",
    "lula_df.drop('Unnamed: 0', axis=1, inplace=True)"
   ]
  },
  {
   "cell_type": "code",
   "execution_count": 5,
   "id": "bbc3c3e9-11ed-4548-a7b5-bd85e0266752",
   "metadata": {
    "execution": {
     "iopub.execute_input": "2022-12-01T17:09:25.834158Z",
     "iopub.status.busy": "2022-12-01T17:09:25.833812Z",
     "iopub.status.idle": "2022-12-01T17:09:25.846290Z",
     "shell.execute_reply": "2022-12-01T17:09:25.845868Z",
     "shell.execute_reply.started": "2022-12-01T17:09:25.834133Z"
    }
   },
   "outputs": [
    {
     "data": {
      "text/html": [
       "<div>\n",
       "<style scoped>\n",
       "    .dataframe tbody tr th:only-of-type {\n",
       "        vertical-align: middle;\n",
       "    }\n",
       "\n",
       "    .dataframe tbody tr th {\n",
       "        vertical-align: top;\n",
       "    }\n",
       "\n",
       "    .dataframe thead th {\n",
       "        text-align: right;\n",
       "    }\n",
       "</style>\n",
       "<table border=\"1\" class=\"dataframe\">\n",
       "  <thead>\n",
       "    <tr style=\"text-align: right;\">\n",
       "      <th></th>\n",
       "      <th>created_at</th>\n",
       "      <th>tweet_id</th>\n",
       "      <th>tweet_content</th>\n",
       "      <th>user</th>\n",
       "      <th>user_info</th>\n",
       "      <th>has_mention</th>\n",
       "      <th>mentions</th>\n",
       "      <th>is_reply</th>\n",
       "      <th>reply_to</th>\n",
       "      <th>is_quote</th>\n",
       "      <th>quoted_from</th>\n",
       "      <th>is_retweet</th>\n",
       "      <th>retweeted_from</th>\n",
       "      <th>hashtags</th>\n",
       "    </tr>\n",
       "  </thead>\n",
       "  <tbody>\n",
       "    <tr>\n",
       "      <th>4497</th>\n",
       "      <td>2022-11-23 01:42:35</td>\n",
       "      <td>1595231304882200576</td>\n",
       "      <td>Será que ninguém vê oque o @ptbrasil está quer...</td>\n",
       "      <td>dalbo_michel</td>\n",
       "      <td>{'id': 1495606704242892800, 'name': 'MICHEL Da...</td>\n",
       "      <td>True</td>\n",
       "      <td>[{'id': '39522911', 'username': 'ptbrasil'}, {...</td>\n",
       "      <td>False</td>\n",
       "      <td>NaN</td>\n",
       "      <td>False</td>\n",
       "      <td>NaN</td>\n",
       "      <td>False</td>\n",
       "      <td>NaN</td>\n",
       "      <td>['#BolsonaroReeleito']</td>\n",
       "    </tr>\n",
       "    <tr>\n",
       "      <th>12919</th>\n",
       "      <td>2022-11-23 00:06:08</td>\n",
       "      <td>1595207030280802309</td>\n",
       "      <td>SOBRE O RELATÓRIO DO P.L.: VAMOS AGUARDAR A AN...</td>\n",
       "      <td>cynthia_paes2</td>\n",
       "      <td>{'id': 1480083985921462273, 'name': 'Cynthia P...</td>\n",
       "      <td>False</td>\n",
       "      <td>NaN</td>\n",
       "      <td>False</td>\n",
       "      <td>NaN</td>\n",
       "      <td>False</td>\n",
       "      <td>NaN</td>\n",
       "      <td>True</td>\n",
       "      <td>{'user': 'JoaquinTeixeira', 'user_id': 4641281...</td>\n",
       "      <td>['#BolsonaroReeleito']</td>\n",
       "    </tr>\n",
       "    <tr>\n",
       "      <th>28663</th>\n",
       "      <td>2022-11-22 22:06:34</td>\n",
       "      <td>1595176940977135617</td>\n",
       "      <td>@UOL Brasil acima de tudo, Deus acima de todos...</td>\n",
       "      <td>Caue53090552</td>\n",
       "      <td>{'id': 1052884119414337537, 'name': 'Caue Coel...</td>\n",
       "      <td>True</td>\n",
       "      <td>[{'id': '70799317', 'username': 'UOL'}]</td>\n",
       "      <td>True</td>\n",
       "      <td>{'user': 'UOL', 'user_id': 70799317, 'tweet_co...</td>\n",
       "      <td>False</td>\n",
       "      <td>NaN</td>\n",
       "      <td>False</td>\n",
       "      <td>NaN</td>\n",
       "      <td>['#BolsonaroReeleito']</td>\n",
       "    </tr>\n",
       "    <tr>\n",
       "      <th>19986</th>\n",
       "      <td>2022-11-22 23:04:24</td>\n",
       "      <td>1595191497976160258</td>\n",
       "      <td>A nossa bandeira jamais será vermelha\\nA luta ...</td>\n",
       "      <td>NazareEderson</td>\n",
       "      <td>{'id': 1540466601203474433, 'name': 'Éderson d...</td>\n",
       "      <td>False</td>\n",
       "      <td>NaN</td>\n",
       "      <td>False</td>\n",
       "      <td>NaN</td>\n",
       "      <td>False</td>\n",
       "      <td>NaN</td>\n",
       "      <td>True</td>\n",
       "      <td>{'user': 'WillianWillCG', 'user_id': 154067971...</td>\n",
       "      <td>['#BolsonaroReeleito']</td>\n",
       "    </tr>\n",
       "    <tr>\n",
       "      <th>26019</th>\n",
       "      <td>2022-11-22 22:24:21</td>\n",
       "      <td>1595181418782629888</td>\n",
       "      <td>É preciso esclarecer, o relatório do PL, basea...</td>\n",
       "      <td>luizaandreiaaa</td>\n",
       "      <td>{'id': 731208718910664705, 'name': 'Andreia Lu...</td>\n",
       "      <td>False</td>\n",
       "      <td>NaN</td>\n",
       "      <td>False</td>\n",
       "      <td>NaN</td>\n",
       "      <td>False</td>\n",
       "      <td>NaN</td>\n",
       "      <td>True</td>\n",
       "      <td>{'user': 'MauricioCostaRS', 'user_id': 3286919...</td>\n",
       "      <td>['#BolsonaroReeleito']</td>\n",
       "    </tr>\n",
       "  </tbody>\n",
       "</table>\n",
       "</div>"
      ],
      "text/plain": [
       "                created_at             tweet_id  \\\n",
       "4497   2022-11-23 01:42:35  1595231304882200576   \n",
       "12919  2022-11-23 00:06:08  1595207030280802309   \n",
       "28663  2022-11-22 22:06:34  1595176940977135617   \n",
       "19986  2022-11-22 23:04:24  1595191497976160258   \n",
       "26019  2022-11-22 22:24:21  1595181418782629888   \n",
       "\n",
       "                                           tweet_content            user  \\\n",
       "4497   Será que ninguém vê oque o @ptbrasil está quer...    dalbo_michel   \n",
       "12919  SOBRE O RELATÓRIO DO P.L.: VAMOS AGUARDAR A AN...   cynthia_paes2   \n",
       "28663  @UOL Brasil acima de tudo, Deus acima de todos...    Caue53090552   \n",
       "19986  A nossa bandeira jamais será vermelha\\nA luta ...   NazareEderson   \n",
       "26019  É preciso esclarecer, o relatório do PL, basea...  luizaandreiaaa   \n",
       "\n",
       "                                               user_info  has_mention  \\\n",
       "4497   {'id': 1495606704242892800, 'name': 'MICHEL Da...         True   \n",
       "12919  {'id': 1480083985921462273, 'name': 'Cynthia P...        False   \n",
       "28663  {'id': 1052884119414337537, 'name': 'Caue Coel...         True   \n",
       "19986  {'id': 1540466601203474433, 'name': 'Éderson d...        False   \n",
       "26019  {'id': 731208718910664705, 'name': 'Andreia Lu...        False   \n",
       "\n",
       "                                                mentions  is_reply  \\\n",
       "4497   [{'id': '39522911', 'username': 'ptbrasil'}, {...     False   \n",
       "12919                                                NaN     False   \n",
       "28663            [{'id': '70799317', 'username': 'UOL'}]      True   \n",
       "19986                                                NaN     False   \n",
       "26019                                                NaN     False   \n",
       "\n",
       "                                                reply_to  is_quote  \\\n",
       "4497                                                 NaN     False   \n",
       "12919                                                NaN     False   \n",
       "28663  {'user': 'UOL', 'user_id': 70799317, 'tweet_co...     False   \n",
       "19986                                                NaN     False   \n",
       "26019                                                NaN     False   \n",
       "\n",
       "      quoted_from  is_retweet  \\\n",
       "4497          NaN       False   \n",
       "12919         NaN        True   \n",
       "28663         NaN       False   \n",
       "19986         NaN        True   \n",
       "26019         NaN        True   \n",
       "\n",
       "                                          retweeted_from  \\\n",
       "4497                                                 NaN   \n",
       "12919  {'user': 'JoaquinTeixeira', 'user_id': 4641281...   \n",
       "28663                                                NaN   \n",
       "19986  {'user': 'WillianWillCG', 'user_id': 154067971...   \n",
       "26019  {'user': 'MauricioCostaRS', 'user_id': 3286919...   \n",
       "\n",
       "                     hashtags  \n",
       "4497   ['#BolsonaroReeleito']  \n",
       "12919  ['#BolsonaroReeleito']  \n",
       "28663  ['#BolsonaroReeleito']  \n",
       "19986  ['#BolsonaroReeleito']  \n",
       "26019  ['#BolsonaroReeleito']  "
      ]
     },
     "execution_count": 5,
     "metadata": {},
     "output_type": "execute_result"
    }
   ],
   "source": [
    "bols_df.sample(5)"
   ]
  },
  {
   "cell_type": "code",
   "execution_count": 6,
   "id": "23d1b1b7-9253-454d-bcf0-7b9ba3d70387",
   "metadata": {
    "execution": {
     "iopub.execute_input": "2022-12-01T17:09:43.394694Z",
     "iopub.status.busy": "2022-12-01T17:09:43.394327Z",
     "iopub.status.idle": "2022-12-01T17:09:43.402521Z",
     "shell.execute_reply": "2022-12-01T17:09:43.402128Z",
     "shell.execute_reply.started": "2022-12-01T17:09:43.394675Z"
    }
   },
   "outputs": [
    {
     "data": {
      "text/html": [
       "<div>\n",
       "<style scoped>\n",
       "    .dataframe tbody tr th:only-of-type {\n",
       "        vertical-align: middle;\n",
       "    }\n",
       "\n",
       "    .dataframe tbody tr th {\n",
       "        vertical-align: top;\n",
       "    }\n",
       "\n",
       "    .dataframe thead th {\n",
       "        text-align: right;\n",
       "    }\n",
       "</style>\n",
       "<table border=\"1\" class=\"dataframe\">\n",
       "  <thead>\n",
       "    <tr style=\"text-align: right;\">\n",
       "      <th></th>\n",
       "      <th>created_at</th>\n",
       "      <th>tweet_id</th>\n",
       "      <th>tweet_content</th>\n",
       "      <th>user</th>\n",
       "      <th>user_info</th>\n",
       "      <th>has_mention</th>\n",
       "      <th>mentions</th>\n",
       "      <th>is_reply</th>\n",
       "      <th>reply_to</th>\n",
       "      <th>is_quote</th>\n",
       "      <th>quoted_from</th>\n",
       "      <th>is_retweet</th>\n",
       "      <th>retweeted_from</th>\n",
       "      <th>hashtags</th>\n",
       "    </tr>\n",
       "  </thead>\n",
       "  <tbody>\n",
       "    <tr>\n",
       "      <th>2048</th>\n",
       "      <td>2022-11-23 01:19:35</td>\n",
       "      <td>1595225515992006657</td>\n",
       "      <td>O LULA TÁ ELEITO\\n\\nImprensa estrangeira: Cand...</td>\n",
       "      <td>chelaferroni</td>\n",
       "      <td>{'id': 1468933479152992265, 'name': 'chela', '...</td>\n",
       "      <td>False</td>\n",
       "      <td>NaN</td>\n",
       "      <td>False</td>\n",
       "      <td>NaN</td>\n",
       "      <td>False</td>\n",
       "      <td>NaN</td>\n",
       "      <td>True</td>\n",
       "      <td>{'user': 'MarcelaSaraivas', 'user_id': 3075645...</td>\n",
       "      <td>NaN</td>\n",
       "    </tr>\n",
       "    <tr>\n",
       "      <th>12460</th>\n",
       "      <td>2022-11-22 21:32:01</td>\n",
       "      <td>1595168247674187776</td>\n",
       "      <td>O LULA TÁ ELEITO, ele não https://t.co/17Db7FNnXY</td>\n",
       "      <td>simonystylinson</td>\n",
       "      <td>{'id': 914280051297980416, 'name': '𝕄𝕠𝕟𝕪 𝕤𝕥𝕪𝕝𝕚...</td>\n",
       "      <td>False</td>\n",
       "      <td>NaN</td>\n",
       "      <td>False</td>\n",
       "      <td>NaN</td>\n",
       "      <td>False</td>\n",
       "      <td>NaN</td>\n",
       "      <td>True</td>\n",
       "      <td>{'user': '_Janoninho', 'user_id': 156389790744...</td>\n",
       "      <td>NaN</td>\n",
       "    </tr>\n",
       "    <tr>\n",
       "      <th>6629</th>\n",
       "      <td>2022-11-22 23:25:57</td>\n",
       "      <td>1595196918996602880</td>\n",
       "      <td>O LULA TÁ ELEITO O LULA TÁ ELEITO</td>\n",
       "      <td>tudodiatodo</td>\n",
       "      <td>{'id': 1093517282049953794, 'name': 'engenheir...</td>\n",
       "      <td>False</td>\n",
       "      <td>NaN</td>\n",
       "      <td>False</td>\n",
       "      <td>NaN</td>\n",
       "      <td>False</td>\n",
       "      <td>NaN</td>\n",
       "      <td>True</td>\n",
       "      <td>{'user': 'tudodiatodo', 'user_id': 10935172820...</td>\n",
       "      <td>NaN</td>\n",
       "    </tr>\n",
       "    <tr>\n",
       "      <th>1769</th>\n",
       "      <td>2022-11-23 01:27:39</td>\n",
       "      <td>1595227546710335495</td>\n",
       "      <td>O LULA TÁ ELEITO! https://t.co/sHXCsF4dHA</td>\n",
       "      <td>Melissa_Funebre</td>\n",
       "      <td>{'id': 736671305865564161, 'name': 'Eu retuito...</td>\n",
       "      <td>False</td>\n",
       "      <td>NaN</td>\n",
       "      <td>False</td>\n",
       "      <td>NaN</td>\n",
       "      <td>False</td>\n",
       "      <td>NaN</td>\n",
       "      <td>True</td>\n",
       "      <td>{'user': 'lazarorosa25', 'user_id': 545643493,...</td>\n",
       "      <td>NaN</td>\n",
       "    </tr>\n",
       "    <tr>\n",
       "      <th>8616</th>\n",
       "      <td>2022-11-22 22:46:29</td>\n",
       "      <td>1595186988646285314</td>\n",
       "      <td>O LULA TÁ ELEITO! https://t.co/sHXCsF4dHA</td>\n",
       "      <td>MariliaRainhaa</td>\n",
       "      <td>{'id': 1463673094711783425, 'name': 'Nordeste ...</td>\n",
       "      <td>False</td>\n",
       "      <td>NaN</td>\n",
       "      <td>False</td>\n",
       "      <td>NaN</td>\n",
       "      <td>False</td>\n",
       "      <td>NaN</td>\n",
       "      <td>True</td>\n",
       "      <td>{'user': 'lazarorosa25', 'user_id': 545643493,...</td>\n",
       "      <td>NaN</td>\n",
       "    </tr>\n",
       "  </tbody>\n",
       "</table>\n",
       "</div>"
      ],
      "text/plain": [
       "                created_at             tweet_id  \\\n",
       "2048   2022-11-23 01:19:35  1595225515992006657   \n",
       "12460  2022-11-22 21:32:01  1595168247674187776   \n",
       "6629   2022-11-22 23:25:57  1595196918996602880   \n",
       "1769   2022-11-23 01:27:39  1595227546710335495   \n",
       "8616   2022-11-22 22:46:29  1595186988646285314   \n",
       "\n",
       "                                           tweet_content             user  \\\n",
       "2048   O LULA TÁ ELEITO\\n\\nImprensa estrangeira: Cand...     chelaferroni   \n",
       "12460  O LULA TÁ ELEITO, ele não https://t.co/17Db7FNnXY  simonystylinson   \n",
       "6629                   O LULA TÁ ELEITO O LULA TÁ ELEITO      tudodiatodo   \n",
       "1769           O LULA TÁ ELEITO! https://t.co/sHXCsF4dHA  Melissa_Funebre   \n",
       "8616           O LULA TÁ ELEITO! https://t.co/sHXCsF4dHA   MariliaRainhaa   \n",
       "\n",
       "                                               user_info  has_mention  \\\n",
       "2048   {'id': 1468933479152992265, 'name': 'chela', '...        False   \n",
       "12460  {'id': 914280051297980416, 'name': '𝕄𝕠𝕟𝕪 𝕤𝕥𝕪𝕝𝕚...        False   \n",
       "6629   {'id': 1093517282049953794, 'name': 'engenheir...        False   \n",
       "1769   {'id': 736671305865564161, 'name': 'Eu retuito...        False   \n",
       "8616   {'id': 1463673094711783425, 'name': 'Nordeste ...        False   \n",
       "\n",
       "      mentions  is_reply reply_to  is_quote quoted_from  is_retweet  \\\n",
       "2048       NaN     False      NaN     False         NaN        True   \n",
       "12460      NaN     False      NaN     False         NaN        True   \n",
       "6629       NaN     False      NaN     False         NaN        True   \n",
       "1769       NaN     False      NaN     False         NaN        True   \n",
       "8616       NaN     False      NaN     False         NaN        True   \n",
       "\n",
       "                                          retweeted_from hashtags  \n",
       "2048   {'user': 'MarcelaSaraivas', 'user_id': 3075645...      NaN  \n",
       "12460  {'user': '_Janoninho', 'user_id': 156389790744...      NaN  \n",
       "6629   {'user': 'tudodiatodo', 'user_id': 10935172820...      NaN  \n",
       "1769   {'user': 'lazarorosa25', 'user_id': 545643493,...      NaN  \n",
       "8616   {'user': 'lazarorosa25', 'user_id': 545643493,...      NaN  "
      ]
     },
     "execution_count": 6,
     "metadata": {},
     "output_type": "execute_result"
    }
   ],
   "source": [
    "lula_df.sample(5)"
   ]
  },
  {
   "cell_type": "markdown",
   "id": "5d57fa68-c939-4278-a65a-8d9a17ffc070",
   "metadata": {},
   "source": [
    "### Data Filtering"
   ]
  },
  {
   "cell_type": "markdown",
   "id": "673f991e-d419-45d1-86b8-f02d0307b08f",
   "metadata": {},
   "source": []
  },
  {
   "cell_type": "code",
   "execution_count": 20,
   "id": "56dabd63-9d81-4655-bd71-9742d19caeb2",
   "metadata": {
    "execution": {
     "iopub.execute_input": "2022-12-01T17:32:43.076927Z",
     "iopub.status.busy": "2022-12-01T17:32:43.076808Z",
     "iopub.status.idle": "2022-12-01T17:32:43.085184Z",
     "shell.execute_reply": "2022-12-01T17:32:43.084757Z",
     "shell.execute_reply.started": "2022-12-01T17:32:43.076916Z"
    },
    "tags": []
   },
   "outputs": [
    {
     "data": {
      "text/plain": [
       "Arnaldo96251489    249\n",
       "Ohannaa98          230\n",
       "DruzianMonica      212\n",
       "clarahcantunes     180\n",
       "CalM29541309       144\n",
       "                  ... \n",
       "RodrigoOliari        1\n",
       "EliasRayone          1\n",
       "AfonsoSCampos        1\n",
       "fllics_es            1\n",
       "SuzzydeBrasilia      1\n",
       "Name: user, Length: 15969, dtype: int64"
      ]
     },
     "execution_count": 20,
     "metadata": {},
     "output_type": "execute_result"
    }
   ],
   "source": [
    "bols_df['user'].value_counts()"
   ]
  },
  {
   "cell_type": "markdown",
   "id": "5f87c2f8-769d-4f71-8224-7d8f5934d86b",
   "metadata": {},
   "source": [
    "### Merging Datasets"
   ]
  },
  {
   "cell_type": "code",
   "execution_count": 10,
   "id": "842cdc77-3810-4e3b-b7c1-e8d381acb664",
   "metadata": {
    "execution": {
     "iopub.execute_input": "2022-12-01T17:17:42.812154Z",
     "iopub.status.busy": "2022-12-01T17:17:42.812046Z",
     "iopub.status.idle": "2022-12-01T17:17:42.823244Z",
     "shell.execute_reply": "2022-12-01T17:17:42.822761Z",
     "shell.execute_reply.started": "2022-12-01T17:17:42.812142Z"
    },
    "tags": []
   },
   "outputs": [
    {
     "data": {
      "text/plain": [
       "(51130, 14)"
      ]
     },
     "execution_count": 10,
     "metadata": {},
     "output_type": "execute_result"
    }
   ],
   "source": [
    "complete_df = pd.concat([bols_df, lula_df])\n",
    "complete_df.shape"
   ]
  },
  {
   "cell_type": "code",
   "execution_count": 11,
   "id": "2ead13c5-164f-459e-a2e4-5ac0d7c9c335",
   "metadata": {
    "execution": {
     "iopub.execute_input": "2022-12-01T17:18:42.804891Z",
     "iopub.status.busy": "2022-12-01T17:18:42.804781Z",
     "iopub.status.idle": "2022-12-01T17:18:42.883773Z",
     "shell.execute_reply": "2022-12-01T17:18:42.883299Z",
     "shell.execute_reply.started": "2022-12-01T17:18:42.804879Z"
    },
    "tags": []
   },
   "outputs": [
    {
     "data": {
      "text/plain": [
       "(50843, 14)"
      ]
     },
     "execution_count": 11,
     "metadata": {},
     "output_type": "execute_result"
    }
   ],
   "source": [
    "complete_df.drop_duplicates(inplace=True)\n",
    "complete_df.shape"
   ]
  },
  {
   "cell_type": "code",
   "execution_count": null,
   "id": "d2933c3d-d8b9-4a21-b631-32452195306f",
   "metadata": {},
   "outputs": [],
   "source": []
  }
 ],
 "metadata": {
  "kernelspec": {
   "display_name": "Python 3 (ipykernel)",
   "language": "python",
   "name": "python3"
  },
  "language_info": {
   "codemirror_mode": {
    "name": "ipython",
    "version": 3
   },
   "file_extension": ".py",
   "mimetype": "text/x-python",
   "name": "python",
   "nbconvert_exporter": "python",
   "pygments_lexer": "ipython3",
   "version": "3.10.8"
  }
 },
 "nbformat": 4,
 "nbformat_minor": 5
}
